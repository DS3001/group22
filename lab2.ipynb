{
  "cells": [
    {
      "cell_type": "markdown",
      "id": "08c1029c-19c9-4edd-8a96-017f70d8ed39",
      "metadata": {
        "id": "08c1029c-19c9-4edd-8a96-017f70d8ed39"
      },
      "source": [
        "## Programming Lab #2\n",
        "## Foundations of Machine Learning\n",
        "\n",
        "The purpose of this project is to build predictive algorithms that predict the likelihood a person has a stroke. The data include:\n",
        "  \n",
        "  - `age`: Patient age, numeric\n",
        "  - `avg_glucose_level`: Blood sugar levels, numeric\n",
        "  - `bmi`: Body mass index, numeric\n",
        "  - `ever_married`: Ever married, dummy/character (Yes, No)\n",
        "  - `gender`: Male, Female, or Other, character\n",
        "  - `heart_disease`: Has heart disease, dummy\n",
        "  - `hypertension`: Has hypertension, dummy\n",
        "  - `id`: Study identification number\n",
        "  - `Residence_type`: Type of residence, dummy/character (Urban, Rural)\n",
        "  - `smoking_status`: Former, never, or current smoker, categorical\n",
        "  - `work_type`: Employment type (Never worked (Never_worked), homemaker (\"children\"), Public sector employment (Govt_job), Private sector employment (`Private`), Self-employed (`Self-employed`)\n",
        "  - `stroke`: Suffered a stroke in the sample period\n",
        "  \n",
        "The data come in two files: `training_data.csv`, which you should use to build your models, and `testing_data.csv`, which you should use to test your models. The models must be trained on the training data and tested on the testing data, but providing both files allows you to experiment with your choices and iterate on model designs. If performance drops on the testing data, you know there's a problem.\n",
        "  \n",
        "You can use any of the tools presented in class: $k$ nearest neighbor, linear models, or decision trees. In principle, $k$ means clustering might also be helpful for looking for patterns in the data that the other methods might miss. Using canned versions of more advanced tools (boosting, bagging, random forests, neural networks, etc.) is deeply unsporting and thus not allowed. You can be creative about transforming variables, or combining decision trees with linear models or $k$NN. Try something interesting. Fail extravagantly. The goal is to work on an intellectually interesting question that is similar to the tasks that data scientists are called on to do every day.\n",
        "  \n",
        "We will compare the groups' models to see if there are common trends or significant differences, and also to declare **The Winners** on the basis of whichever team achieves the lowest $RMSE$ on the testing data. A simple linear model with some polynomials and dummy variables achieves an $R^2$ of .087 and a $RMSE$ of .206."
      ]
    },
    {
      "cell_type": "code",
      "execution_count": 2,
      "id": "2e54036f-f8be-4f4e-a122-870c06c52627",
      "metadata": {
        "id": "2e54036f-f8be-4f4e-a122-870c06c52627"
      },
      "outputs": [],
      "source": [
        "import pandas as pd\n",
        "import numpy as np\n",
        "df_train = pd.read_csv('https://raw.githubusercontent.com/DS3001/group22/main/project_2/data/testing_data.csv')\n",
        "df_test = pd.read_csv('https://raw.githubusercontent.com/DS3001/group22/main/project_2/data/training_data.csv')\n",
        "\n",
        "y_train = df_train['stroke']\n",
        "X_train = df_train.drop('stroke',axis=1)\n",
        "y_test = df_test['stroke']\n",
        "X_test = df_test.drop('stroke',axis=1)\n",
        "\n",
        "X_train['bmi'] = X_train['bmi'].fillna(X_train['bmi'].mean())\n",
        "X_test['bmi'] = X_test['bmi'].fillna(X_test['bmi'].mean())"
      ]
    },
    {
      "cell_type": "code",
      "execution_count": null,
      "id": "8c092ec9-07c8-4140-86ea-2459bd39b42e",
      "metadata": {
        "id": "8c092ec9-07c8-4140-86ea-2459bd39b42e",
        "outputId": "006b5fa5-3b2f-4333-d504-d075abcdbd61"
      },
      "outputs": [
        {
          "name": "stdout",
          "output_type": "stream",
          "text": [
            "R2:  0.08717964343843831\n",
            "RMSE:  0.20599583849613765\n"
          ]
        }
      ],
      "source": [
        "## Linear Model\n",
        "from sklearn.linear_model import LinearRegression # Import linear regression model\n",
        "from sklearn.preprocessing import PolynomialFeatures\n",
        "\n",
        "X_train_numeric = X_train.loc[:,['age','hypertension','heart_disease','bmi','avg_glucose_level'] ]\n",
        "#\n",
        "expander = PolynomialFeatures(degree=2,include_bias=False) # Create the expander\n",
        "Z = expander.fit_transform(X_train_numeric) # Pass the df into the expander to get powers/interactions of x and y\n",
        "names = expander.get_feature_names_out() # Get the names of these variables\n",
        "continuous = pd.DataFrame(data=Z, columns = names) # Create a new, expanded dataframe\n",
        "#\n",
        "dummies = pd.concat([ pd.get_dummies(X_train['work_type'],dtype='int',drop_first=True),\n",
        "                      pd.get_dummies(X_train['Residence_type'],dtype='int',drop_first=True),\n",
        "                      pd.get_dummies(X_train['smoking_status'],dtype='int',drop_first=True)],axis=1)\n",
        "#\n",
        "Z_train = pd.concat([continuous,dummies],axis=1)\n",
        "\n",
        "X_test_numeric = X_test.loc[:,['age','hypertension','heart_disease','bmi','avg_glucose_level'] ]\n",
        "#\n",
        "expander = PolynomialFeatures(degree=2,include_bias=False) # Create the expander\n",
        "Z = expander.fit_transform(X_test_numeric) # Pass the df into the expander to get powers/interactions of x and y\n",
        "names = expander.get_feature_names_out() # Get the names of these variables\n",
        "continuous = pd.DataFrame(data=Z, columns = names) # Create a new, expanded dataframe\n",
        "\n",
        "dummies = pd.concat([ pd.get_dummies(X_test['work_type'],dtype='int',drop_first=True),\n",
        "                      pd.get_dummies(X_test['Residence_type'],dtype='int',drop_first=True),\n",
        "                      pd.get_dummies(X_test['smoking_status'],dtype='int',drop_first=True)],axis=1)\n",
        "#\n",
        "Z_test = pd.concat([continuous,dummies],axis=1)\n",
        "\n",
        "# Fit the model and get the R2 measure:\n",
        "reg = LinearRegression().fit(Z_train, y_train) # Fit the linear model\n",
        "print('R2: ', reg.score(Z_test, y_test)) # R squared measure\n",
        "y_hat = reg.predict(Z_test)\n",
        "N = len(y_test)\n",
        "print('RMSE: ', (np.sum( (y_test - y_hat)**2)/N )**.5 )   # R squared measure\n"
      ]
    },
    {
      "cell_type": "markdown",
      "id": "93879b8c-d807-475a-bc82-c855f7d98c97",
      "metadata": {
        "id": "93879b8c-d807-475a-bc82-c855f7d98c97"
      },
      "source": [
        "This is supposed to be fairly \"fun,\" so please do not turn it into a combinatorial nightmare of comparing thousands of model specifications. Settle on a strategy you think is promising, crank it out, and write up the results. Your time and energy are valuable, so learn to recognize when the marginal cost of another twenty minutes on a project exceeds the benefit in terms of improving the results and your grade.\n",
        "  \n",
        "## Paper format\n",
        "\n",
        "The format of the paper should be:\n",
        "\n",
        "  - Summary: A one paragraph description of the question, methods, and results (about 350 words).\n",
        "  - Data: One to two pages discussing the data and key variables, and any challenges in reading, cleaning, and preparing them for analysis.\n",
        "  - Results: Two to five pages providing visualizations, statistics, a discussion of your methodology, and a presentation of your main findings.\n",
        "  - Conclusion: One to two pages summarizing the project, defending it from criticism, and suggesting additional work that was outside the scope of the project.\n",
        "  - Appendix: If you have a significant number of additional plots or table that you feel are essential to the project, you can put any amount of extra content at the end and reference it from the body of the paper.\n",
        "\n",
        "## Submission\n",
        "\n",
        "Half of each student's grade is based on their commits to the repo. Each student is expected to do something specific that contributes to the overall project outcome. Since commits are recorded explicitly by Git/GitHub, this is observable. A student can contribute by cleaning data, creating visualizations,performing analytic analyses,  or writing about results, but everyone has to do something substantial. A student's work doesn't need to make it into the final report to be valuable and substantial, and fulfill the requirement to make a contribution to the project.\n",
        "\n",
        "The other half of each student's grade is based on the written report. Groups will work together on combining results and writing up findings in a Jupyter noteb,ok, using code chunks to execute Python commands and markdown chunks to structure the paper and provide exposition. The notebook should run on Colab or Rivana from beginning to end without any errors.\n",
        "\n",
        "mbers submit.\n",
        "\n",
        "## Criteria\n",
        "\n",
        "The project is graded based on four criteria:\n",
        "\n",
        "  - Project Concept: What is the strategy for building and testing the group's models? How did the group decide how to use the tools presented so far in class? How did the group compare the performance of the options considered, and settle on a final choice for submission?\n",
        "  - Wrangling, EDA, and Visualization: How are are missing values handled? For variables with large numbers of missing values, to what extent do the data and documentation provide an explanation for the missing data? If multiple data sources are used, how are the data merged? For the main variables in the analysis, are the relevant data summarized and visualized through a histogram or kernel density plot where appropriate? Are basic quantitative features of the data addressed and explained? How are outliers characterized and addressed?\n",
        "  - Analysis: What are the groups' main findings? Do the tables, plots, and statistics support the conclusions? Is the research strategy carried out correctly? If the research strategy succeeds, are the results interpreted correctly and appropriately? If the research strategy fails, is a useful discussion of the flaws of the data collection process or the research strategy discussed?\n",
        "  - Replication/Documentation: Is the code appropriately commented? Can the main results be replicated from the code and original data files? Are significant choices noted and explained?\n",
        "\n",
        "Each of the four criteria are equally weighted (25 points out of 100)."
      ]
    },
    {
      "cell_type": "markdown",
      "source": [
        "# **Data Wrangling**"
      ],
      "metadata": {
        "id": "M9FXHRHWjJ0_"
      },
      "id": "M9FXHRHWjJ0_"
    },
    {
      "cell_type": "markdown",
      "source": [
        "# age"
      ],
      "metadata": {
        "id": "AVgTe4IclneE"
      },
      "id": "AVgTe4IclneE"
    },
    {
      "cell_type": "code",
      "source": [
        "var = 'age'\n",
        "df_train[var].unique()"
      ],
      "metadata": {
        "colab": {
          "base_uri": "https://localhost:8080/"
        },
        "id": "BYp1j-AYjNvf",
        "outputId": "f47a88bd-e339-469c-ecdf-af8b3a4f414e"
      },
      "id": "BYp1j-AYjNvf",
      "execution_count": 8,
      "outputs": [
        {
          "output_type": "execute_result",
          "data": {
            "text/plain": [
              "array([58.  ,  8.  , 70.  , 47.  , 74.  , 79.  , 40.  , 35.  , 44.  ,\n",
              "       71.  , 23.  , 69.  , 21.  , 78.  , 24.  , 60.  , 66.  , 52.  ,\n",
              "       34.  , 57.  , 41.  , 56.  ,  0.88, 25.  , 39.  , 31.  , 61.  ,\n",
              "       22.  , 42.  , 33.  , 68.  , 26.  , 43.  , 53.  , 55.  , 64.  ,\n",
              "       38.  ,  5.  , 54.  , 72.  , 51.  , 20.  , 65.  , 16.  , 46.  ,\n",
              "       67.  , 18.  ,  1.08,  1.8 , 80.  , 37.  ,  9.  , 28.  , 10.  ,\n",
              "       82.  ,  2.  , 32.  , 30.  , 45.  , 50.  ,  6.  , 73.  , 27.  ,\n",
              "       63.  , 59.  , 29.  , 36.  ,  1.  , 48.  ,  1.4 , 19.  ,  1.72,\n",
              "       77.  , 75.  , 15.  , 49.  , 14.  , 81.  ,  1.64, 13.  , 11.  ,\n",
              "       62.  , 76.  ,  4.  , 12.  ,  7.  ,  1.48,  0.24,  0.64,  0.48,\n",
              "        3.  ,  1.24, 17.  ,  1.16,  0.56,  0.72,  0.16,  1.32,  0.32])"
            ]
          },
          "metadata": {},
          "execution_count": 8
        }
      ]
    },
    {
      "cell_type": "code",
      "source": [
        "df_train[var] = df_train[var].round().astype(int)"
      ],
      "metadata": {
        "id": "iwfT61k7kF73"
      },
      "id": "iwfT61k7kF73",
      "execution_count": 13,
      "outputs": []
    },
    {
      "cell_type": "code",
      "source": [
        "df_train[var].unique()"
      ],
      "metadata": {
        "colab": {
          "base_uri": "https://localhost:8080/"
        },
        "id": "fUPU2TDckQMs",
        "outputId": "788605f3-a5ce-4e92-ee41-b4bdad64af0b"
      },
      "id": "fUPU2TDckQMs",
      "execution_count": 14,
      "outputs": [
        {
          "output_type": "execute_result",
          "data": {
            "text/plain": [
              "array([58,  8, 70, 47, 74, 79, 40, 35, 44, 71, 23, 69, 21, 78, 24, 60, 66,\n",
              "       52, 34, 57, 41, 56,  1, 25, 39, 31, 61, 22, 42, 33, 68, 26, 43, 53,\n",
              "       55, 64, 38,  5, 54, 72, 51, 20, 65, 16, 46, 67, 18,  2, 80, 37,  9,\n",
              "       28, 10, 82, 32, 30, 45, 50,  6, 73, 27, 63, 59, 29, 36, 48, 19, 77,\n",
              "       75, 15, 49, 14, 81, 13, 11, 62, 76,  4, 12,  7,  0,  3, 17])"
            ]
          },
          "metadata": {},
          "execution_count": 14
        }
      ]
    },
    {
      "cell_type": "markdown",
      "source": [
        "# avg_glucose_level"
      ],
      "metadata": {
        "id": "NSYB9wiUlJxD"
      },
      "id": "NSYB9wiUlJxD"
    },
    {
      "cell_type": "code",
      "source": [
        "var = 'avg_glucose_level'\n",
        "df_train[var].unique()"
      ],
      "metadata": {
        "colab": {
          "base_uri": "https://localhost:8080/"
        },
        "id": "RJF9yXVBlSJP",
        "outputId": "8371021e-c7d1-4ed7-d231-e2a834171727"
      },
      "id": "RJF9yXVBlSJP",
      "execution_count": 15,
      "outputs": [
        {
          "output_type": "execute_result",
          "data": {
            "text/plain": [
              "array([ 87.96, 110.89,  69.04, 210.95, 205.84,  77.08,  57.08,  95.04,\n",
              "        85.37,  57.33, 198.21, 149.75,  94.09, 203.04,  97.93,  78.05,\n",
              "        89.44, 243.5 ,  75.23,  66.42, 205.23,  78.4 , 137.96,  72.55,\n",
              "        99.8 ,  73.02,  88.11, 138.29,  83.51, 213.37, 122.41,  80.88,\n",
              "        93.48, 101.37, 105.22,  68.19,  74.44,  92.21, 100.09,  75.05,\n",
              "       184.15,  96.88,  79.14,  65.24, 111.19,  65.38,  96.99,  97.08,\n",
              "        88.78, 102.64,  70.92,  86.11, 129.16, 114.01,  98.41, 127.18,\n",
              "       105.61, 155.43,  75.29, 100.35, 247.69, 103.62, 144.1 , 114.25,\n",
              "        74.46, 118.51, 182.86,  89.99,  63.61,  60.53, 102.34, 111.43,\n",
              "       148.91,  69.4 ,  71.2 ,  92.04,  98.54, 112.43,  67.39,  98.42,\n",
              "       111.85,  92.39,  63.71,  70.35,  57.27,  57.57,  87.43,  81.18,\n",
              "        59.49,  56.75,  92.14,  92.11,  74.98,  55.25,  79.89,  94.26,\n",
              "        94.34,  99.82,  59.54,  89.63,  80.93, 200.49, 156.57,  80.4 ,\n",
              "        75.19, 103.51,  70.78,  84.11,  74.02,  78.49,  75.04, 128.97,\n",
              "        79.08, 106.51,  92.7 ,  82.59,  91.  ,  60.26, 122.74,  83.83,\n",
              "       212.01, 126.35,  88.66, 112.95,  76.82,  91.56, 109.1 , 121.04,\n",
              "       160.83,  85.62, 119.52,  89.3 ,  69.21, 126.18, 125.38,  73.01,\n",
              "       103.61, 160.  ,  86.96, 237.15,  90.92, 104.48,  70.71,  63.64,\n",
              "        87.27, 109.51,  57.82, 115.29, 111.02, 109.02,  87.11, 207.64,\n",
              "       100.97,  86.4 ,  61.81,  89.98,  98.58,  90.1 , 112.47, 195.03,\n",
              "        65.81, 123.36,  72.93,  84.27,  72.49,  82.61,  79.85, 131.77,\n",
              "        86.34, 156.18, 105.63,  84.08, 110.55,  84.93, 113.01, 115.52,\n",
              "       254.63,  96.63, 246.34, 195.16,  93.34,  69.7 ,  75.88,  89.45,\n",
              "       121.14,  88.65, 103.94,  56.3 ,  98.1 ,  71.73,  57.26, 195.04,\n",
              "        75.79,  82.31,  73.  , 138.07, 112.07,  83.56,  69.3 ,  75.62,\n",
              "       224.71, 122.75, 226.11,  82.57, 102.06,  65.59, 120.85,  62.68,\n",
              "       198.02,  85.35, 118.62,  93.11,  93.71,  76.25,  94.33,  57.89,\n",
              "       127.75, 108.03, 104.07,  74.72, 145.71, 167.31,  87.49,  74.82,\n",
              "        93.04,  85.82, 144.16,  67.97,  70.87, 199.96,  86.33,  78.85,\n",
              "       103.81, 155.17, 132.41, 103.25, 246.53,  87.72,  90.42, 107.29,\n",
              "       228.7 , 102.37,  86.26,  59.87,  72.76, 120.77,  60.39,  78.99,\n",
              "        83.84, 107.98, 216.88,  83.02, 139.43,  87.33, 124.08, 104.36,\n",
              "        81.28,  58.3 ,  97.5 ,  90.43, 110.47,  87.78, 126.67,  70.58,\n",
              "        65.29,  97.14, 237.17, 106.41,  93.58,  84.3 ,  61.42,  83.79,\n",
              "        75.94,  55.51,  58.29, 115.83,  99.69, 102.89,  79.05, 210.  ,\n",
              "       222.6 , 199.14, 191.48, 200.16,  80.73, 145.26, 103.35,  85.92,\n",
              "        80.8 ,  62.56,  71.38, 122.48,  86.87,  70.65, 105.73,  58.02,\n",
              "        56.84,  58.69,  92.32,  80.63,  84.9 ,  74.05,  71.81, 211.88,\n",
              "        56.67, 225.6 ,  70.93,  89.93,  84.85, 224.63, 110.53,  79.33,\n",
              "       213.87, 222.85,  72.65,  86.68, 217.11,  70.96,  83.26,  76.63,\n",
              "        74.26, 164.67,  92.73,  92.82,  59.99,  90.26,  91.9 , 149.9 ,\n",
              "       100.33,  75.53,  80.24,  65.95,  77.63,  75.5 ,  65.6 , 186.95,\n",
              "        68.66, 146.97, 198.24,  90.51,  80.74,  93.  ,  86.74,  91.46,\n",
              "        81.05,  73.27,  95.75, 120.25,  82.37, 114.45, 101.3 ,  94.98,\n",
              "        93.13,  82.13,  65.28,  94.47,  75.77,  88.97,  93.14,  65.34,\n",
              "        81.96,  73.5 ,  80.72, 109.97,  92.87, 113.05, 134.33, 208.78,\n",
              "       114.16, 220.36,  76.03,  72.29,  80.42,  93.64, 217.75,  58.7 ,\n",
              "       149.13,  82.39,  80.25, 170.76, 189.44,  70.03,  60.96,  83.91,\n",
              "       152.02,  60.61,  93.3 ,  97.39, 134.61,  56.9 , 112.66,  71.06,\n",
              "       133.82,  88.81,  94.12, 125.09,  96.04,  89.03,  56.34,  61.83,\n",
              "       131.99, 145.5 , 131.43,  75.64,  95.07,  87.16,  80.47,  65.01,\n",
              "       110.07,  90.35, 162.93,  89.22,  85.81, 206.52,  62.66, 100.49,\n",
              "        96.86,  74.43,  86.55,  61.34, 140.93,  86.  , 229.58,  65.66,\n",
              "       114.99,  77.37,  98.03, 117.34,  77.51,  64.15,  74.5 , 216.4 ,\n",
              "        74.7 ,  81.44, 100.61, 205.  ,  95.25, 101.15,  68.38, 113.87,\n",
              "        78.9 ,  59.61,  97.55,  82.15,  70.52,  88.29,  80.18,  82.27,\n",
              "        77.55,  87.84,  58.63, 150.1 ,  81.31,  90.4 , 209.5 ,  72.61,\n",
              "       206.15, 102.9 ,  97.97, 196.61,  79.55,  76.92, 120.94, 216.38,\n",
              "       105.74,  58.41,  83.16, 110.68,  70.06,  95.66,  66.08,  87.26,\n",
              "       146.59, 121.39,  78.97,  84.12, 153.6 ,  91.28, 190.13,  92.3 ,\n",
              "        84.46, 178.89, 227.74, 100.66, 213.8 ,  99.1 ,  57.47,  78.24,\n",
              "       103.43,  99.83, 190.92,  89.02,  93.62,  88.57,  89.11, 110.87,\n",
              "       142.68,  75.28, 100.75, 110.42,  95.88,  86.03, 227.96, 111.68,\n",
              "        99.29, 105.93, 107.83,  88.19,  84.6 ,  69.38,  65.42,  82.12,\n",
              "        96.01, 102.42, 125.3 , 141.8 ,  92.65,  57.02,  83.3 ,  89.53,\n",
              "       105.19,  68.79, 121.17,  82.18, 107.42, 111.78, 105.77,  77.53,\n",
              "       239.95,  83.33,  65.33, 202.21,  57.28,  58.42, 103.76,  70.73,\n",
              "       198.79,  96.52,  96.37,  73.89,  72.94,  68.48,  85.03,  95.36,\n",
              "       110.33,  65.16,  56.37,  87.1 ,  90.68,  62.52,  84.86, 215.81,\n",
              "       149.17, 139.48, 104.04, 112.46,  97.35,  80.55,  86.53, 114.61,\n",
              "        56.08, 102.46,  84.1 ,  65.07, 201.58, 211.12, 108.72,  61.87,\n",
              "       104.86,  76.21,  87.25,  62.91, 107.61, 228.2 ,  92.15,  83.7 ,\n",
              "       104.45, 223.9 ,  93.18, 207.96, 176.78,  90.65,  92.37, 127.23,\n",
              "       113.57,  91.85,  88.49,  78.32,  84.7 ,  72.6 ,  84.43,  84.13,\n",
              "        81.54,  90.97, 127.57,  98.9 , 114.32,  90.6 , 124.38,  79.25,\n",
              "        98.84, 228.92,  81.25,  76.81,  78.  , 263.56,  80.51,  87.87,\n",
              "       103.6 ,  85.59,  81.11,  67.06, 228.05, 119.9 , 105.51,  83.42,\n",
              "        62.69,  89.61, 111.81,  60.09,  91.02,  91.57,  62.57,  70.11,\n",
              "        75.46,  63.63,  94.25, 100.12, 205.97, 112.19, 193.87, 111.04,\n",
              "       214.77,  73.76, 197.11,  94.49,  98.22, 125.89,  65.12,  79.21,\n",
              "       202.98,  60.7 ,  92.22,  79.94,  69.92, 136.96, 226.38,  82.05,\n",
              "        61.11,  82.49,  83.15,  78.7 ,  99.23,  83.52, 226.84, 116.25,\n",
              "        88.38,  91.81, 115.4 , 200.73,  67.3 ,  89.16, 108.64,  81.21,\n",
              "       202.51, 126.04,  82.3 ,  70.22,  87.81, 142.31,  74.15,  61.53,\n",
              "       113.95,  78.23,  94.11,  87.5 ,  76.74, 138.55, 101.19, 145.94,\n",
              "        93.93,  86.21,  75.41,  95.28,  95.87,  62.61,  76.57,  92.71,\n",
              "        99.  ,  93.6 ,  57.42, 173.9 ,  60.57, 105.34, 122.73,  94.63,\n",
              "        56.85,  65.48,  72.53, 116.85, 117.04,  58.24,  82.53,  71.25,\n",
              "       129.73, 105.88, 217.94,  69.89,  87.2 ,  57.6 , 124.37, 102.39,\n",
              "        93.96,  92.49, 122.39, 107.58, 208.05,  85.16, 198.3 , 100.06,\n",
              "       103.11,  95.79, 117.63, 218.6 ,  77.5 , 119.77,  76.45,  95.8 ,\n",
              "       134.12,  82.62,  61.29,  98.92,  90.74, 159.79,  97.86,  91.58,\n",
              "       109.52, 104.55,  84.17,  67.28,  88.51,  90.38, 207.6 , 158.9 ,\n",
              "        69.52, 110.96,  89.32, 102.1 ,  57.59, 163.17, 212.62, 128.63,\n",
              "        77.6 , 120.15,  95.89,  89.06, 123.08,  60.64, 106.54,  72.04,\n",
              "       222.52,  92.74, 232.64,  73.24, 119.4 ,  88.79,  87.12,  56.33,\n",
              "        87.71, 207.37, 111.08, 201.96, 123.89,  90.44, 138.44,  75.06,\n",
              "       102.76, 131.05, 131.42,  69.46, 101.12, 116.06,  77.95,  67.56,\n",
              "       253.93, 207.84,  63.42,  79.57, 101.46, 134.76,  56.48, 228.5 ,\n",
              "        74.39, 118.55, 232.29, 236.04,  88.98,  86.85,  94.77,  85.18,\n",
              "        76.34,  83.8 , 112.37,  76.08, 108.51,  98.07,  99.01,  64.37,\n",
              "       146.1 , 192.5 ,  89.42,  82.26,  87.4 ,  86.95, 101.76,  57.4 ,\n",
              "        95.19,  89.41,  78.79,  70.13,  81.51,  86.07,  94.24,  89.73,\n",
              "       208.39,  77.76, 116.04,  92.75,  62.44, 108.82, 121.15,  87.  ,\n",
              "       135.82,  83.55,  68.07, 112.7 ,  74.34,  60.32, 200.25,  90.31,\n",
              "        76.43,  75.84,  81.33, 101.56, 244.3 ,  58.23,  59.67, 213.92,\n",
              "        79.81,  90.3 , 100.47,  66.46,  96.47,  60.13, 156.43,  73.07,\n",
              "        63.43,  74.88,  88.1 ,  74.16, 232.78,  89.57,  75.07, 106.65,\n",
              "        63.56,  79.66, 104.09, 174.54,  73.63,  98.52, 234.45,  87.54,\n",
              "        67.92,  97.65, 121.83,  81.53, 114.92, 165.36,  89.24,  63.82,\n",
              "        71.29, 119.58, 110.32, 137.27,  69.77,  71.4 ,  71.8 ,  75.22,\n",
              "       119.3 , 208.69,  81.87, 153.31, 231.72,  81.88, 110.84,  61.57,\n",
              "        67.55, 243.52, 108.63,  84.49,  73.71,  72.96,  82.19, 208.31,\n",
              "        98.61,  74.12,  71.08,  84.07, 132.88,  80.3 , 101.95,  99.76,\n",
              "       215.07,  83.37, 124.66,  82.64,  77.42, 117.59, 203.36,  84.04,\n",
              "        89.29, 179.38, 138.51,  61.98,  76.31,  95.05,  82.38,  91.68,\n",
              "       166.29,  76.15, 252.72,  84.03,  90.9 , 109.78, 196.71,  59.32,\n",
              "       185.17, 104.72, 104.47, 116.55, 228.56, 240.09, 101.45,  64.14,\n",
              "        78.92,  73.18, 224.1 ,  59.86, 263.32, 140.1 , 207.28, 199.2 ,\n",
              "       103.68,  70.28, 221.79, 151.16,  67.29, 221.89, 195.71, 111.98,\n",
              "        64.44, 112.24, 215.94,  93.81, 114.77,  74.11, 116.1 , 199.86,\n",
              "        60.98,  70.94,  86.3 ,  78.8 ,  87.8 ])"
            ]
          },
          "metadata": {},
          "execution_count": 15
        }
      ]
    },
    {
      "cell_type": "code",
      "source": [
        "missing_values = df_train[var].isna().sum()\n",
        "\n",
        "print(f\"Number of missing values in {var}: {missing_values}\")"
      ],
      "metadata": {
        "colab": {
          "base_uri": "https://localhost:8080/"
        },
        "id": "zCyHxJx1lj4X",
        "outputId": "91ca35f1-a208-41c7-c7f2-67d71729311c"
      },
      "id": "zCyHxJx1lj4X",
      "execution_count": 16,
      "outputs": [
        {
          "output_type": "stream",
          "name": "stdout",
          "text": [
            "Number of missing values in avg_glucose_level: 0\n"
          ]
        }
      ]
    },
    {
      "cell_type": "markdown",
      "source": [
        "# bmi"
      ],
      "metadata": {
        "id": "GNHEKfgMluN1"
      },
      "id": "GNHEKfgMluN1"
    },
    {
      "cell_type": "code",
      "source": [
        "var = 'bmi'\n",
        "df_train[var].unique()"
      ],
      "metadata": {
        "colab": {
          "base_uri": "https://localhost:8080/"
        },
        "id": "_ngKsK6NlvhQ",
        "outputId": "432d166f-fb9b-4227-9572-8bdfd8247411"
      },
      "id": "_ngKsK6NlvhQ",
      "execution_count": 17,
      "outputs": [
        {
          "output_type": "execute_result",
          "data": {
            "text/plain": [
              "array([39.2, 17.6, 35.9, 50.1, 54.6, 35. , 22. , 42.4, 33. , 24.6, 27.3,\n",
              "       27. , 30.9, 33.6, 31.2, 25.7, 21.9, 26.1, 29. , 23.6, 39.5, 64.8,\n",
              "       35.1, 21. , 31.6, 31.1, 15.5, 26.4, 36. , 40.3, 23.8, 23.7, 37.9,\n",
              "       31. , 45.2, 27.4, 22.9,  nan, 31.4, 25. , 28.9, 39.7, 41.2, 34.8,\n",
              "       31.7, 35.8, 28.3, 41.6, 19. , 32.4, 31.8, 32.1, 26.7, 27.9, 22.6,\n",
              "       28.1, 40.9, 27.6, 24.3, 35.6, 40.6, 24.4, 42.3, 17.5, 17. , 47.8,\n",
              "       27.1, 23.1, 30.2, 36.4, 22.1, 40.5, 23. , 28. , 22.8, 55.7, 26.9,\n",
              "       18.3, 36.2, 21.4, 20.4, 34.2, 42.2, 23.2, 34.6, 28.4, 57.5, 37. ,\n",
              "       20.3, 22.3, 24.5, 23.5, 40.2, 29.5, 26.2, 33.3, 24.2, 23.3, 30.3,\n",
              "       25.2, 36.7, 22.2, 20. , 17.8, 46.1, 33.1, 18.1, 24.8, 31.9, 25.8,\n",
              "       27.7, 29.1, 30.1, 31.3, 19.5, 28.8, 32.9, 22.4, 19.8, 30.5, 42.6,\n",
              "       37.1, 18.7, 32.8, 28.7, 32.3, 33.4, 44.9, 28.5, 45. , 25.3, 28.2,\n",
              "       37.6, 34.4, 26.5, 21.1, 30. , 19.7, 21.8, 45.5, 21.3, 20.1, 25.1,\n",
              "       42.9, 14.3, 16.2, 38.7, 29.7, 14.6, 27.2, 19.3, 26.6, 30.6, 41.9,\n",
              "       26. , 28.6, 33.9, 35.5, 16.3, 34. , 24. , 16.9, 16.4, 40.4, 34.3,\n",
              "       41.1, 33.2, 36.3, 24.7, 55.9, 20.8, 44. , 18.5, 25.5, 37.2, 40.1,\n",
              "       37.3, 44.8, 43.2, 29.9, 22.5, 43. , 21.6, 25.4, 42.8, 15.2, 29.4,\n",
              "       25.6, 33.8, 27.8, 36.1, 32.7, 23.4, 34.9, 33.5, 38.1, 38.5, 30.7,\n",
              "       43.9, 38. , 32.5, 39.4, 41.3, 41.5, 38.9, 17.1, 11.5, 23.9, 44.2,\n",
              "       35.7, 14.2, 15.4, 29.2, 27.5, 37.5, 38.8, 30.4, 20.6, 15.7, 53.8,\n",
              "       18.6, 35.4, 20.2, 29.8, 19.1, 46.5, 24.1, 18.8, 32. , 31.5, 36.6,\n",
              "       52.8, 35.3, 15.8, 34.5, 26.8, 19.9, 19.4, 15.3, 20.7, 14.8, 43.6,\n",
              "       22.7, 51.9, 32.6, 21.2, 16.1, 42.7, 36.8, 32.2, 39.3, 24.9, 21.7,\n",
              "       20.9, 30.8, 25.9, 48.3, 38.2, 58.1, 34.7, 15.1, 21.5, 37.7, 50.4,\n",
              "       26.3, 43.4, 19.6, 29.3, 53.4, 41. , 15. , 16.6, 40.8, 47.4, 19.2,\n",
              "       43.3, 35.2, 20.5, 16. , 39.1, 16.5, 49.9, 39.9, 54.3, 47.9, 36.9,\n",
              "       17.3, 13.9, 17.4, 17.7, 17.2, 38.4, 18.4, 29.6, 44.6, 50.2, 39.6,\n",
              "       48.1, 37.8, 16.7, 45.7, 18. , 34.1, 46. , 16.8, 36.5, 56.6, 37.4])"
            ]
          },
          "metadata": {},
          "execution_count": 17
        }
      ]
    },
    {
      "cell_type": "code",
      "source": [
        "missing_values = df_train[var].isna().sum()\n",
        "\n",
        "print(f\"Number of missing values in {var}: {missing_values}\")"
      ],
      "metadata": {
        "colab": {
          "base_uri": "https://localhost:8080/"
        },
        "id": "1I58c491l7U8",
        "outputId": "673adb5f-deb4-4a3a-b297-c66b4e989902"
      },
      "id": "1I58c491l7U8",
      "execution_count": 18,
      "outputs": [
        {
          "output_type": "stream",
          "name": "stdout",
          "text": [
            "Number of missing values in bmi: 42\n"
          ]
        }
      ]
    },
    {
      "cell_type": "markdown",
      "source": [
        "# ever_married"
      ],
      "metadata": {
        "id": "6BstvTJ-mrUA"
      },
      "id": "6BstvTJ-mrUA"
    },
    {
      "cell_type": "code",
      "source": [
        "var = 'ever_married'\n",
        "df_train[var].unique()"
      ],
      "metadata": {
        "colab": {
          "base_uri": "https://localhost:8080/"
        },
        "id": "JB2x_5lzmvp1",
        "outputId": "51081d34-c4f3-484b-f7f1-8b37559e457e"
      },
      "id": "JB2x_5lzmvp1",
      "execution_count": 25,
      "outputs": [
        {
          "output_type": "execute_result",
          "data": {
            "text/plain": [
              "array(['Yes', 'No'], dtype=object)"
            ]
          },
          "metadata": {},
          "execution_count": 25
        }
      ]
    },
    {
      "cell_type": "markdown",
      "source": [
        "# gender"
      ],
      "metadata": {
        "id": "-nopUGSVm66O"
      },
      "id": "-nopUGSVm66O"
    },
    {
      "cell_type": "code",
      "source": [
        "var = 'gender'\n",
        "df_train[var].unique()"
      ],
      "metadata": {
        "colab": {
          "base_uri": "https://localhost:8080/"
        },
        "id": "FB7JqHoum9BV",
        "outputId": "4ad3df81-a1ad-4f5c-bbc6-e7ba26f62754"
      },
      "id": "FB7JqHoum9BV",
      "execution_count": 26,
      "outputs": [
        {
          "output_type": "execute_result",
          "data": {
            "text/plain": [
              "array(['Male', 'Female'], dtype=object)"
            ]
          },
          "metadata": {},
          "execution_count": 26
        }
      ]
    },
    {
      "cell_type": "markdown",
      "source": [
        "# heart_disease"
      ],
      "metadata": {
        "id": "y3ZIQ3oNnMij"
      },
      "id": "y3ZIQ3oNnMij"
    },
    {
      "cell_type": "code",
      "source": [
        "var = 'heart_disease'\n",
        "df_train[var].unique()"
      ],
      "metadata": {
        "colab": {
          "base_uri": "https://localhost:8080/"
        },
        "id": "7cdG7kwInTZG",
        "outputId": "df8b0ca0-18dc-435f-f6f5-842e92c47ad8"
      },
      "id": "7cdG7kwInTZG",
      "execution_count": 28,
      "outputs": [
        {
          "output_type": "execute_result",
          "data": {
            "text/plain": [
              "array([0, 1])"
            ]
          },
          "metadata": {},
          "execution_count": 28
        }
      ]
    },
    {
      "cell_type": "markdown",
      "source": [
        "# hypertension"
      ],
      "metadata": {
        "id": "_xLpO3bwnbWO"
      },
      "id": "_xLpO3bwnbWO"
    },
    {
      "cell_type": "code",
      "source": [
        "var = 'hypertension'\n",
        "df_train[var].unique()"
      ],
      "metadata": {
        "colab": {
          "base_uri": "https://localhost:8080/"
        },
        "id": "67u6uXXQneSv",
        "outputId": "e31e47a3-6980-43cc-dbfb-6db5ce01abcd"
      },
      "id": "67u6uXXQneSv",
      "execution_count": 29,
      "outputs": [
        {
          "output_type": "execute_result",
          "data": {
            "text/plain": [
              "array([1, 0])"
            ]
          },
          "metadata": {},
          "execution_count": 29
        }
      ]
    },
    {
      "cell_type": "markdown",
      "source": [
        "# id"
      ],
      "metadata": {
        "id": "Xj1BzltCnjoc"
      },
      "id": "Xj1BzltCnjoc"
    },
    {
      "cell_type": "code",
      "source": [
        "var = 'id'\n",
        "df_train[var].unique()"
      ],
      "metadata": {
        "colab": {
          "base_uri": "https://localhost:8080/"
        },
        "id": "-RYxXoNCnl8p",
        "outputId": "8aa245c7-0014-4650-cf46-45ed12864d9a"
      },
      "id": "-RYxXoNCnl8p",
      "execution_count": 30,
      "outputs": [
        {
          "output_type": "execute_result",
          "data": {
            "text/plain": [
              "array([30468, 16523, 56543, ..., 28493, 27153, 34060])"
            ]
          },
          "metadata": {},
          "execution_count": 30
        }
      ]
    },
    {
      "cell_type": "code",
      "source": [
        "missing_values = df_train[var].isna().sum()\n",
        "\n",
        "print(f\"Number of missing values in {var}: {missing_values}\")"
      ],
      "metadata": {
        "colab": {
          "base_uri": "https://localhost:8080/"
        },
        "id": "PMc2JDIynpWU",
        "outputId": "c425539b-f3d0-4cc5-ceb3-0cbc356957d4"
      },
      "id": "PMc2JDIynpWU",
      "execution_count": 31,
      "outputs": [
        {
          "output_type": "stream",
          "name": "stdout",
          "text": [
            "Number of missing values in id: 0\n"
          ]
        }
      ]
    },
    {
      "cell_type": "markdown",
      "source": [
        "# Residence_type"
      ],
      "metadata": {
        "id": "9olCiXQlnqK6"
      },
      "id": "9olCiXQlnqK6"
    },
    {
      "cell_type": "code",
      "source": [
        "var = 'Residence_type'\n",
        "df_train[var].unique()"
      ],
      "metadata": {
        "colab": {
          "base_uri": "https://localhost:8080/"
        },
        "id": "I8bgCjodnuCk",
        "outputId": "7fef4c21-0a9c-410f-ebb9-345923e428bd"
      },
      "id": "I8bgCjodnuCk",
      "execution_count": 32,
      "outputs": [
        {
          "output_type": "execute_result",
          "data": {
            "text/plain": [
              "array(['Urban', 'Rural'], dtype=object)"
            ]
          },
          "metadata": {},
          "execution_count": 32
        }
      ]
    },
    {
      "cell_type": "markdown",
      "source": [
        "# smoking_status"
      ],
      "metadata": {
        "id": "L53A-PIOnz7p"
      },
      "id": "L53A-PIOnz7p"
    },
    {
      "cell_type": "code",
      "source": [
        "var = 'smoking_status'\n",
        "df_train[var].unique()"
      ],
      "metadata": {
        "colab": {
          "base_uri": "https://localhost:8080/"
        },
        "id": "jjDULAN5n55s",
        "outputId": "e7e90af1-b999-4ee7-8183-3426731e0357"
      },
      "id": "jjDULAN5n55s",
      "execution_count": 33,
      "outputs": [
        {
          "output_type": "execute_result",
          "data": {
            "text/plain": [
              "array(['never smoked', 'Unknown', 'formerly smoked', 'smokes'],\n",
              "      dtype=object)"
            ]
          },
          "metadata": {},
          "execution_count": 33
        }
      ]
    },
    {
      "cell_type": "code",
      "source": [
        "df_train.loc[df_train[var] == \"never smoked\", var] = \"Non-Smoker\"\n",
        "df_train.loc[df_train[var] == \"Unknown\", var] = np.nan\n",
        "df_train.loc[df_train[var] == \"formerly smoked\", var] = \"Previous Smoker\"\n",
        "df_train.loc[df_train[var] == \"smokes\", var] = \"Current Smoker\""
      ],
      "metadata": {
        "id": "oWtmO-szn8m4"
      },
      "id": "oWtmO-szn8m4",
      "execution_count": 36,
      "outputs": []
    },
    {
      "cell_type": "code",
      "source": [
        "var = 'smoking_status'\n",
        "df_train[var].unique()"
      ],
      "metadata": {
        "colab": {
          "base_uri": "https://localhost:8080/"
        },
        "id": "11RSSwxqodOY",
        "outputId": "8b74249e-8079-40b1-f4ac-fb813612a97e"
      },
      "id": "11RSSwxqodOY",
      "execution_count": 37,
      "outputs": [
        {
          "output_type": "execute_result",
          "data": {
            "text/plain": [
              "array(['Non-Smoker', nan, 'Previous Smoker', 'Current Smoker'],\n",
              "      dtype=object)"
            ]
          },
          "metadata": {},
          "execution_count": 37
        }
      ]
    },
    {
      "cell_type": "markdown",
      "source": [
        "# work_type"
      ],
      "metadata": {
        "id": "n3A-FmFGomaa"
      },
      "id": "n3A-FmFGomaa"
    },
    {
      "cell_type": "code",
      "source": [
        "var = 'work_type'\n",
        "df_train[var].unique()"
      ],
      "metadata": {
        "colab": {
          "base_uri": "https://localhost:8080/"
        },
        "id": "ODwNGYsWoorL",
        "outputId": "372fbf43-bf04-43ed-b892-69bc5c420d22"
      },
      "id": "ODwNGYsWoorL",
      "execution_count": 38,
      "outputs": [
        {
          "output_type": "execute_result",
          "data": {
            "text/plain": [
              "array(['Private', 'Self-employed', 'Govt_job', 'children', 'Never_worked'],\n",
              "      dtype=object)"
            ]
          },
          "metadata": {},
          "execution_count": 38
        }
      ]
    },
    {
      "cell_type": "code",
      "source": [
        "df_train.loc[df_train[var] == \"Private\", var] = \"Private Sector\"\n",
        "df_train.loc[df_train[var] == \"Govt_job\", var] = \"Public Sector\"\n",
        "df_train.loc[df_train[var] == \"children\", var] = \"Homemaker\"\n",
        "df_train.loc[df_train[var] == \"Never_worked\", var] = \"Unemployed\""
      ],
      "metadata": {
        "id": "4wwPYkVUo2Kt"
      },
      "id": "4wwPYkVUo2Kt",
      "execution_count": 39,
      "outputs": []
    },
    {
      "cell_type": "code",
      "source": [
        "var = 'work_type'\n",
        "df_train[var].unique()"
      ],
      "metadata": {
        "colab": {
          "base_uri": "https://localhost:8080/"
        },
        "id": "x_W8_xofpLha",
        "outputId": "f3658b74-a761-4dfe-faf9-514425686fe1"
      },
      "id": "x_W8_xofpLha",
      "execution_count": 40,
      "outputs": [
        {
          "output_type": "execute_result",
          "data": {
            "text/plain": [
              "array(['Private Sector', 'Self-employed', 'Public Sector', 'Homemaker',\n",
              "       'Unemployed'], dtype=object)"
            ]
          },
          "metadata": {},
          "execution_count": 40
        }
      ]
    },
    {
      "cell_type": "markdown",
      "source": [
        "# stroke"
      ],
      "metadata": {
        "id": "_3442t4ppOlx"
      },
      "id": "_3442t4ppOlx"
    },
    {
      "cell_type": "code",
      "source": [
        "var = 'stroke'\n",
        "df_train[var].unique()"
      ],
      "metadata": {
        "id": "BoVAYG5vpQfm",
        "outputId": "4daa0768-d5be-4398-c8ef-b685afa2e16e",
        "colab": {
          "base_uri": "https://localhost:8080/"
        }
      },
      "id": "BoVAYG5vpQfm",
      "execution_count": 41,
      "outputs": [
        {
          "output_type": "execute_result",
          "data": {
            "text/plain": [
              "array([0, 1])"
            ]
          },
          "metadata": {},
          "execution_count": 41
        }
      ]
    }
  ],
  "metadata": {
    "kernelspec": {
      "display_name": "Python 3 (ipykernel)",
      "language": "python",
      "name": "python3"
    },
    "language_info": {
      "codemirror_mode": {
        "name": "ipython",
        "version": 3
      },
      "file_extension": ".py",
      "mimetype": "text/x-python",
      "name": "python",
      "nbconvert_exporter": "python",
      "pygments_lexer": "ipython3",
      "version": "3.11.4"
    },
    "colab": {
      "provenance": []
    }
  },
  "nbformat": 4,
  "nbformat_minor": 5
}