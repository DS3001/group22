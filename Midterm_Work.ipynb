{
 "cells": [
  {
   "cell_type": "markdown",
   "metadata": {
    "colab_type": "text",
    "id": "view-in-github"
   },
   "source": [
    "<a href=\"https://colab.research.google.com/github/DS3001/group22/blob/main/Midterm_Work.ipynb\" target=\"_parent\"><img src=\"https://colab.research.google.com/assets/colab-badge.svg\" alt=\"Open In Colab\"/></a>"
   ]
  },
  {
   "cell_type": "markdown",
   "metadata": {},
   "source": [
    "# Group 22 : Project 1"
   ]
  },
  {
   "cell_type": "markdown",
   "metadata": {},
   "source": [
    "## Data Wrangling"
   ]
  },
  {
   "cell_type": "code",
   "execution_count": 155,
   "metadata": {
    "id": "1n8jRvwt4vd_"
   },
   "outputs": [],
   "source": [
    "# imports and read the data\n",
    "import pandas as pd\n",
    "import numpy as np\n",
    "import matplotlib.pyplot as plt\n",
    "import seaborn as sns\n",
    "# read by default 1st sheet of an excel file\n",
    "df = pd.read_excel('result/GSS.xlsx')"
   ]
  },
  {
   "cell_type": "code",
   "execution_count": 156,
   "metadata": {
    "colab": {
     "base_uri": "https://localhost:8080/"
    },
    "id": "HC4qnzPJ5g4L",
    "outputId": "9bab2ec1-e3fb-46c4-e469-7b03a3616ee9"
   },
   "outputs": [
    {
     "name": "stdout",
     "output_type": "stream",
     "text": [
      "<class 'pandas.core.frame.DataFrame'>\n",
      "RangeIndex: 72390 entries, 0 to 72389\n",
      "Data columns (total 19 columns):\n",
      " #   Column    Non-Null Count  Dtype \n",
      "---  ------    --------------  ----- \n",
      " 0   year      72390 non-null  int64 \n",
      " 1   id_       72390 non-null  int64 \n",
      " 2   wrkstat   72390 non-null  object\n",
      " 3   hrs1      72390 non-null  object\n",
      " 4   hrs2      72390 non-null  object\n",
      " 5   evwork    72390 non-null  object\n",
      " 6   wrkslf    72390 non-null  object\n",
      " 7   marital   72390 non-null  object\n",
      " 8   divorce   72390 non-null  object\n",
      " 9   spwrksta  72390 non-null  object\n",
      " 10  sphrs1    72390 non-null  object\n",
      " 11  sphrs2    72390 non-null  object\n",
      " 12  spevwork  72390 non-null  object\n",
      " 13  spwrkslf  72390 non-null  object\n",
      " 14  spocc10   72390 non-null  object\n",
      " 15  spind10   72390 non-null  object\n",
      " 16  degree    72390 non-null  object\n",
      " 17  spdeg     72390 non-null  object\n",
      " 18  ballot    72390 non-null  object\n",
      "dtypes: int64(2), object(17)\n",
      "memory usage: 10.5+ MB\n"
     ]
    }
   ],
   "source": [
    "df.info()"
   ]
  },
  {
   "cell_type": "markdown",
   "metadata": {},
   "source": [
    "Variables included:\n",
    "- **year**: GSS year for this respondent\n",
    "- **wrkstat**: labor force status\n",
    "- **hrs1**: number of hours worked last week\n",
    "- **hrs2**: number of hours usually work a week\n",
    "- **evwork**: ever work as long as one year\n",
    "- **wrkslf**: self-employed or works for somebody\n",
    "- **marital**: marital status\n",
    "- **divorce**: ever been divorced or seperated\n",
    "- **spwrksta**: spouse labor force status\n",
    "- **sphrs1**: number of hrs spouse worked last week\n",
    "- **sphrs2**: number of hrs spouse usually works a week\n",
    "- **spevwork**: spouse ever work as long as one year\n",
    "- **spwrkslf**: spouse self-employed or works for somebody\n",
    "- **spocc10**: spouse census occupation code (2010)\n",
    "- **spind10**: spouse industry code (naics 2010)\n",
    "- **degree**: highest degree\n",
    "- **spdeg**: spouse highest degree\n",
    "- **ballot**: allot used for interview\n"
   ]
  },
  {
   "cell_type": "markdown",
   "metadata": {},
   "source": [
    "### Clean hrs1"
   ]
  },
  {
   "cell_type": "code",
   "execution_count": 157,
   "metadata": {
    "colab": {
     "base_uri": "https://localhost:8080/"
    },
    "id": "KJMw1HLE9AuG",
    "outputId": "123e14c9-35a8-42dd-eee3-22d1ee019529"
   },
   "outputs": [
    {
     "data": {
      "text/plain": [
       "array(['.i:  Inapplicable', '27', '40', '52', '35', '45', '70', '60',\n",
       "       '42', '23', '55', '50', '6', '37', '36',\n",
       "       '.d:  Do not Know/Cannot Choose', '48', '16', '24', '20', '80',\n",
       "       '65', '15', '39', '25', '22', '44', '26', '38', '12', '41', '84',\n",
       "       '18', '54', '32', '3', '29', '51', '30', '.n:  No answer',\n",
       "       '89+ hrs', '43', '58', '28', '46', '8', '9', '19', '14', '66',\n",
       "       '61', '49', '10', '72', '34', '75', '53', '7', '21', '47', '57',\n",
       "       '71', '13', '5', '31', '17', '56', '4', '0', '33', '1', '68', '11',\n",
       "       '2', '85', '62', '59', '78', '77', '64', '63', '67', '73', '88',\n",
       "       '69', '76', '74', '81', '79', '86', '87', '83', '82',\n",
       "       '.s:  Skipped on Web'], dtype=object)"
      ]
     },
     "execution_count": 157,
     "metadata": {},
     "output_type": "execute_result"
    }
   ],
   "source": [
    "df['hrs1'].unique()"
   ]
  },
  {
   "cell_type": "markdown",
   "metadata": {},
   "source": [
    "Replace all values that do not provide information with nan"
   ]
  },
  {
   "cell_type": "code",
   "execution_count": 158,
   "metadata": {
    "id": "pxDfNX8J6CPm"
   },
   "outputs": [],
   "source": [
    "df.loc[df['hrs1'] == \".i:  Inapplicable\", 'hrs1'] = np.nan\n",
    "df.loc[df['hrs1'] == \".d:  Do not Know/Cannot Choose\", 'hrs1'] = np.nan\n",
    "df.loc[df['hrs1'] == \".n:  No answer\", 'hrs1'] = np.nan\n",
    "df.loc[df['hrs1'] == \".s:  Skipped on Web\", 'hrs1'] = np.nan"
   ]
  },
  {
   "cell_type": "markdown",
   "metadata": {},
   "source": [
    "Replace values listed as 89+ hrs with 95 to give distinct value"
   ]
  },
  {
   "cell_type": "code",
   "execution_count": 159,
   "metadata": {
    "id": "0dF6w_zc7mC8"
   },
   "outputs": [],
   "source": [
    "df.loc[df['hrs1'] == '89+ hrs', 'hrs1'] = '95';"
   ]
  },
  {
   "cell_type": "markdown",
   "metadata": {},
   "source": [
    "Convert to numeric values"
   ]
  },
  {
   "cell_type": "code",
   "execution_count": 160,
   "metadata": {
    "id": "ss0aEq4qCG1-"
   },
   "outputs": [],
   "source": [
    "df['hrs1'] = pd.to_numeric(df['hrs1'])"
   ]
  },
  {
   "cell_type": "code",
   "execution_count": 161,
   "metadata": {
    "colab": {
     "base_uri": "https://localhost:8080/"
    },
    "id": "yrjnAh01CjY1",
    "outputId": "cd911f71-e999-4835-95b4-d098bc7d8d6d"
   },
   "outputs": [
    {
     "data": {
      "text/plain": [
       "40.0    14519\n",
       "50.0     3127\n",
       "60.0     2144\n",
       "45.0     2127\n",
       "30.0     1388\n",
       "        ...  \n",
       "69.0        8\n",
       "81.0        5\n",
       "79.0        3\n",
       "71.0        3\n",
       "87.0        3\n",
       "Name: hrs1, Length: 90, dtype: int64"
      ]
     },
     "execution_count": 161,
     "metadata": {},
     "output_type": "execute_result"
    }
   ],
   "source": [
    "df['hrs1'].value_counts()"
   ]
  },
  {
   "cell_type": "markdown",
   "metadata": {},
   "source": [
    "### Clean marital"
   ]
  },
  {
   "cell_type": "markdown",
   "metadata": {},
   "source": [
    "Replace values that do not provide information with nan"
   ]
  },
  {
   "cell_type": "code",
   "execution_count": 162,
   "metadata": {
    "id": "E3O-9rRwf4jZ"
   },
   "outputs": [],
   "source": [
    "df.loc[df['marital'] == \".s:  Skipped on Web\", 'marital'] = np.nan\n",
    "df.loc[df['marital'] == \".d:  Do not Know/Cannot Choose\", 'marital'] = np.nan\n",
    "df.loc[df['marital'] == \".n:  No answer\", 'marital'] = np.nan\n"
   ]
  },
  {
   "cell_type": "code",
   "execution_count": 163,
   "metadata": {
    "colab": {
     "base_uri": "https://localhost:8080/"
    },
    "id": "vdktlIzWf85m",
    "outputId": "6e5c1a98-4bc6-4833-e5aa-031a65b06b75"
   },
   "outputs": [
    {
     "data": {
      "text/plain": [
       "array(['Never married', 'Married', 'Divorced', 'Widowed', 'Separated',\n",
       "       nan], dtype=object)"
      ]
     },
     "execution_count": 163,
     "metadata": {},
     "output_type": "execute_result"
    }
   ],
   "source": [
    "df['marital'].unique()"
   ]
  },
  {
   "cell_type": "markdown",
   "metadata": {},
   "source": [
    "### Clean sphrs1"
   ]
  },
  {
   "cell_type": "code",
   "execution_count": 164,
   "metadata": {
    "colab": {
     "base_uri": "https://localhost:8080/"
    },
    "id": "hR9gOBTrMEQM",
    "outputId": "6f4783e7-3ac4-4878-addc-19d1cab5539f"
   },
   "outputs": [
    {
     "data": {
      "text/plain": [
       "array([nan, '40', '37', '51', '60', '45', '44', '55', '24', '80', '65',\n",
       "       '50', '75', '16', '36', '72', '15', '62', '20', '70', '63', '48',\n",
       "       '19', '30', '56', '22', '38', '84', '18', '35', '52', '57', '32',\n",
       "       '58', '43', '25', '74', '12', '3', '42', '4', '8', '5', '10', '66',\n",
       "       '28', '89+ hrs', '39', '33', '59', '11', '54', '21', '79', '9',\n",
       "       '46', '69', '6', '29', '47', '23', '27', '68', '13', '73', '34',\n",
       "       '76', '49', '14', '78', '41', '64', '53', '77', '82', '26', '85',\n",
       "       '2', '61', '88', '31', '7', '17', '71', '0', '67', '81', '1', '86',\n",
       "       '.x:  Not available in this release'], dtype=object)"
      ]
     },
     "execution_count": 164,
     "metadata": {},
     "output_type": "execute_result"
    }
   ],
   "source": [
    "df.loc[df['sphrs1'] == \".i:  Inapplicable\", 'sphrs1'] = np.nan\n",
    "df.loc[df['sphrs1'] == \".d:  Do not Know/Cannot Choose\", 'sphrs1'] = np.nan\n",
    "df.loc[df['sphrs1'] == \".n:  No answer\", 'sphrs1'] = np.nan\n",
    "df.loc[df['sphrs1'] == \".s:  Skipped on Web\", 'sphrs1'] = np.nan\n",
    "\n",
    "df['sphrs1'].unique()"
   ]
  },
  {
   "cell_type": "code",
   "execution_count": 165,
   "metadata": {
    "colab": {
     "base_uri": "https://localhost:8080/"
    },
    "id": "BAM28RNUMSAA",
    "outputId": "4d9af700-49b7-40e7-c878-1b47773c0cb5"
   },
   "outputs": [
    {
     "data": {
      "text/plain": [
       "array([nan, 40., 37., 51., 60., 45., 44., 55., 24., 80., 65., 50., 75.,\n",
       "       16., 36., 72., 15., 62., 20., 70., 63., 48., 19., 30., 56., 22.,\n",
       "       38., 84., 18., 35., 52., 57., 32., 58., 43., 25., 74., 12.,  3.,\n",
       "       42.,  4.,  8.,  5., 10., 66., 28., 95., 39., 33., 59., 11., 54.,\n",
       "       21., 79.,  9., 46., 69.,  6., 29., 47., 23., 27., 68., 13., 73.,\n",
       "       34., 76., 49., 14., 78., 41., 64., 53., 77., 82., 26., 85.,  2.,\n",
       "       61., 88., 31.,  7., 17., 71.,  0., 67., 81.,  1., 86.])"
      ]
     },
     "execution_count": 165,
     "metadata": {},
     "output_type": "execute_result"
    }
   ],
   "source": [
    "df.loc[df['sphrs1'] == \".x:  Not available in this release\", 'sphrs1'] = np.nan\n",
    "df.loc[df['sphrs1'] == \"89+ hrs\", 'sphrs1'] = \"95\"\n",
    "df['sphrs1'] = pd.to_numeric(df['sphrs1'])\n",
    "df['sphrs1'].unique()"
   ]
  },
  {
   "cell_type": "markdown",
   "metadata": {},
   "source": [
    "### Clean divorced"
   ]
  },
  {
   "cell_type": "code",
   "execution_count": 166,
   "metadata": {
    "colab": {
     "base_uri": "https://localhost:8080/"
    },
    "id": "dFEmCxv6Pi9A",
    "outputId": "c109059a-0025-433b-caee-1b61543357e0"
   },
   "outputs": [
    {
     "data": {
      "text/plain": [
       "array([nan, 'NO', 'YES'], dtype=object)"
      ]
     },
     "execution_count": 166,
     "metadata": {},
     "output_type": "execute_result"
    }
   ],
   "source": [
    "df.loc[df['divorce'] == '.n:  No answer', 'divorce'] = np.nan\n",
    "df.loc[df['divorce'] == '.s:  Skipped on Web', 'divorce'] = np.nan\n",
    "df.loc[df['divorce'] == '.i:  Inapplicable', 'divorce'] = np.nan\n",
    "df.loc[df['divorce'] == '.d:  Do not Know/Cannot Choose', 'divorce'] = np.nan\n",
    "\n",
    "\n",
    "df['divorce'].unique()"
   ]
  },
  {
   "cell_type": "markdown",
   "metadata": {},
   "source": [
    "### Clean degree"
   ]
  },
  {
   "cell_type": "code",
   "execution_count": 167,
   "metadata": {
    "colab": {
     "base_uri": "https://localhost:8080/"
    },
    "id": "pBfBbfH7eKRZ",
    "outputId": "be63aad3-0c28-473c-e895-c2d63d61c81b"
   },
   "outputs": [
    {
     "data": {
      "text/plain": [
       "array([\"Bachelor's\", 'Less than high school', 'High school', 'Graduate',\n",
       "       'Associate/junior college', nan], dtype=object)"
      ]
     },
     "execution_count": 167,
     "metadata": {},
     "output_type": "execute_result"
    }
   ],
   "source": [
    "df.loc[df['degree'] == \".n:  No answer\", 'degree'] = np.nan\n",
    "df.loc[df['degree'] == \".d:  Do not Know/Cannot Choose\", 'degree'] = np.nan\n",
    "df.loc[df['degree'] == \".s:  Skipped on Web\", 'degree'] = np.nan\n",
    "\n",
    "df['degree'].unique()\n"
   ]
  },
  {
   "cell_type": "markdown",
   "metadata": {},
   "source": [
    "## Create DataFrames"
   ]
  },
  {
   "cell_type": "markdown",
   "metadata": {},
   "source": [
    "In this section we will construct a variety of dataframes to select different combinations"
   ]
  },
  {
   "cell_type": "markdown",
   "metadata": {},
   "source": [
    "#### df_usable"
   ]
  },
  {
   "cell_type": "code",
   "execution_count": 168,
   "metadata": {},
   "outputs": [
    {
     "data": {
      "text/html": [
       "<div>\n",
       "<style scoped>\n",
       "    .dataframe tbody tr th:only-of-type {\n",
       "        vertical-align: middle;\n",
       "    }\n",
       "\n",
       "    .dataframe tbody tr th {\n",
       "        vertical-align: top;\n",
       "    }\n",
       "\n",
       "    .dataframe thead th {\n",
       "        text-align: right;\n",
       "    }\n",
       "</style>\n",
       "<table border=\"1\" class=\"dataframe\">\n",
       "  <thead>\n",
       "    <tr style=\"text-align: right;\">\n",
       "      <th></th>\n",
       "      <th>year</th>\n",
       "      <th>id_</th>\n",
       "      <th>wrkstat</th>\n",
       "      <th>hrs1</th>\n",
       "      <th>hrs2</th>\n",
       "      <th>evwork</th>\n",
       "      <th>wrkslf</th>\n",
       "      <th>marital</th>\n",
       "      <th>divorce</th>\n",
       "      <th>spwrksta</th>\n",
       "      <th>sphrs1</th>\n",
       "      <th>sphrs2</th>\n",
       "      <th>spevwork</th>\n",
       "      <th>spwrkslf</th>\n",
       "      <th>spocc10</th>\n",
       "      <th>spind10</th>\n",
       "      <th>degree</th>\n",
       "      <th>spdeg</th>\n",
       "      <th>ballot</th>\n",
       "    </tr>\n",
       "  </thead>\n",
       "  <tbody>\n",
       "    <tr>\n",
       "      <th>0</th>\n",
       "      <td>1972</td>\n",
       "      <td>1</td>\n",
       "      <td>Working full time</td>\n",
       "      <td>NaN</td>\n",
       "      <td>.i:  Inapplicable</td>\n",
       "      <td>.i:  Inapplicable</td>\n",
       "      <td>Someone else</td>\n",
       "      <td>Never married</td>\n",
       "      <td>NaN</td>\n",
       "      <td>.i:  Inapplicable</td>\n",
       "      <td>NaN</td>\n",
       "      <td>.i:  Inapplicable</td>\n",
       "      <td>.i:  Inapplicable</td>\n",
       "      <td>.i:  Inapplicable</td>\n",
       "      <td>.i:  Inapplicable</td>\n",
       "      <td>.i:  Inapplicable</td>\n",
       "      <td>Bachelor's</td>\n",
       "      <td>.i:  Inapplicable</td>\n",
       "      <td>.i:  Inapplicable</td>\n",
       "    </tr>\n",
       "    <tr>\n",
       "      <th>1</th>\n",
       "      <td>1972</td>\n",
       "      <td>2</td>\n",
       "      <td>Retired</td>\n",
       "      <td>NaN</td>\n",
       "      <td>.i:  Inapplicable</td>\n",
       "      <td>YES</td>\n",
       "      <td>Someone else</td>\n",
       "      <td>Married</td>\n",
       "      <td>NO</td>\n",
       "      <td>KEEPING HOUSE</td>\n",
       "      <td>NaN</td>\n",
       "      <td>.i:  Inapplicable</td>\n",
       "      <td>NO</td>\n",
       "      <td>.i:  Inapplicable</td>\n",
       "      <td>.i:  Inapplicable</td>\n",
       "      <td>.i:  Inapplicable</td>\n",
       "      <td>Less than high school</td>\n",
       "      <td>HIGH SCHOOL</td>\n",
       "      <td>.i:  Inapplicable</td>\n",
       "    </tr>\n",
       "    <tr>\n",
       "      <th>2</th>\n",
       "      <td>1972</td>\n",
       "      <td>3</td>\n",
       "      <td>Working part time</td>\n",
       "      <td>NaN</td>\n",
       "      <td>.i:  Inapplicable</td>\n",
       "      <td>.i:  Inapplicable</td>\n",
       "      <td>Someone else</td>\n",
       "      <td>Married</td>\n",
       "      <td>NO</td>\n",
       "      <td>WORKING FULLTIME</td>\n",
       "      <td>NaN</td>\n",
       "      <td>.i:  Inapplicable</td>\n",
       "      <td>.i:  Inapplicable</td>\n",
       "      <td>SOMEONE ELSE</td>\n",
       "      <td>Property, real estate, and community associati...</td>\n",
       "      <td>Real estate</td>\n",
       "      <td>High school</td>\n",
       "      <td>.n:  No answer</td>\n",
       "      <td>.i:  Inapplicable</td>\n",
       "    </tr>\n",
       "    <tr>\n",
       "      <th>3</th>\n",
       "      <td>1972</td>\n",
       "      <td>4</td>\n",
       "      <td>Working full time</td>\n",
       "      <td>NaN</td>\n",
       "      <td>.i:  Inapplicable</td>\n",
       "      <td>.i:  Inapplicable</td>\n",
       "      <td>Someone else</td>\n",
       "      <td>Married</td>\n",
       "      <td>NO</td>\n",
       "      <td>WORKING FULLTIME</td>\n",
       "      <td>NaN</td>\n",
       "      <td>.i:  Inapplicable</td>\n",
       "      <td>.i:  Inapplicable</td>\n",
       "      <td>SOMEONE ELSE</td>\n",
       "      <td>Tax examiners and collectors, and revenue agents</td>\n",
       "      <td>Public finance activities</td>\n",
       "      <td>Bachelor's</td>\n",
       "      <td>GRADUATE</td>\n",
       "      <td>.i:  Inapplicable</td>\n",
       "    </tr>\n",
       "    <tr>\n",
       "      <th>4</th>\n",
       "      <td>1972</td>\n",
       "      <td>5</td>\n",
       "      <td>Keeping house</td>\n",
       "      <td>NaN</td>\n",
       "      <td>.i:  Inapplicable</td>\n",
       "      <td>YES</td>\n",
       "      <td>Someone else</td>\n",
       "      <td>Married</td>\n",
       "      <td>NO</td>\n",
       "      <td>TEMP NOT WORKING</td>\n",
       "      <td>NaN</td>\n",
       "      <td>.i:  Inapplicable</td>\n",
       "      <td>.i:  Inapplicable</td>\n",
       "      <td>SOMEONE ELSE</td>\n",
       "      <td>Rolling machine setters, operators, and tender...</td>\n",
       "      <td>Nonferrous metal (except aluminum) production ...</td>\n",
       "      <td>High school</td>\n",
       "      <td>HIGH SCHOOL</td>\n",
       "      <td>.i:  Inapplicable</td>\n",
       "    </tr>\n",
       "  </tbody>\n",
       "</table>\n",
       "</div>"
      ],
      "text/plain": [
       "   year  id_            wrkstat  hrs1               hrs2             evwork  \\\n",
       "0  1972    1  Working full time   NaN  .i:  Inapplicable  .i:  Inapplicable   \n",
       "1  1972    2            Retired   NaN  .i:  Inapplicable                YES   \n",
       "2  1972    3  Working part time   NaN  .i:  Inapplicable  .i:  Inapplicable   \n",
       "3  1972    4  Working full time   NaN  .i:  Inapplicable  .i:  Inapplicable   \n",
       "4  1972    5      Keeping house   NaN  .i:  Inapplicable                YES   \n",
       "\n",
       "         wrkslf        marital divorce           spwrksta  sphrs1  \\\n",
       "0  Someone else  Never married     NaN  .i:  Inapplicable     NaN   \n",
       "1  Someone else        Married      NO      KEEPING HOUSE     NaN   \n",
       "2  Someone else        Married      NO   WORKING FULLTIME     NaN   \n",
       "3  Someone else        Married      NO   WORKING FULLTIME     NaN   \n",
       "4  Someone else        Married      NO   TEMP NOT WORKING     NaN   \n",
       "\n",
       "              sphrs2           spevwork           spwrkslf  \\\n",
       "0  .i:  Inapplicable  .i:  Inapplicable  .i:  Inapplicable   \n",
       "1  .i:  Inapplicable                 NO  .i:  Inapplicable   \n",
       "2  .i:  Inapplicable  .i:  Inapplicable       SOMEONE ELSE   \n",
       "3  .i:  Inapplicable  .i:  Inapplicable       SOMEONE ELSE   \n",
       "4  .i:  Inapplicable  .i:  Inapplicable       SOMEONE ELSE   \n",
       "\n",
       "                                             spocc10  \\\n",
       "0                                  .i:  Inapplicable   \n",
       "1                                  .i:  Inapplicable   \n",
       "2  Property, real estate, and community associati...   \n",
       "3   Tax examiners and collectors, and revenue agents   \n",
       "4  Rolling machine setters, operators, and tender...   \n",
       "\n",
       "                                             spind10                 degree  \\\n",
       "0                                  .i:  Inapplicable             Bachelor's   \n",
       "1                                  .i:  Inapplicable  Less than high school   \n",
       "2                                        Real estate            High school   \n",
       "3                          Public finance activities             Bachelor's   \n",
       "4  Nonferrous metal (except aluminum) production ...            High school   \n",
       "\n",
       "               spdeg             ballot  \n",
       "0  .i:  Inapplicable  .i:  Inapplicable  \n",
       "1        HIGH SCHOOL  .i:  Inapplicable  \n",
       "2     .n:  No answer  .i:  Inapplicable  \n",
       "3           GRADUATE  .i:  Inapplicable  \n",
       "4        HIGH SCHOOL  .i:  Inapplicable  "
      ]
     },
     "execution_count": 168,
     "metadata": {},
     "output_type": "execute_result"
    }
   ],
   "source": [
    "df_usable = df\n",
    "df_usable = df_usable.dropna()\n",
    "df.head()"
   ]
  },
  {
   "cell_type": "markdown",
   "metadata": {},
   "source": [
    "#### married_df"
   ]
  },
  {
   "cell_type": "markdown",
   "metadata": {},
   "source": [
    "Create married_df containing all rows containing married participants"
   ]
  },
  {
   "cell_type": "code",
   "execution_count": 169,
   "metadata": {
    "colab": {
     "base_uri": "https://localhost:8080/",
     "height": 539
    },
    "id": "QfJaT_zmDIdY",
    "outputId": "40174245-8c79-4ff0-973b-531ae72d714a"
   },
   "outputs": [
    {
     "data": {
      "text/html": [
       "<div>\n",
       "<style scoped>\n",
       "    .dataframe tbody tr th:only-of-type {\n",
       "        vertical-align: middle;\n",
       "    }\n",
       "\n",
       "    .dataframe tbody tr th {\n",
       "        vertical-align: top;\n",
       "    }\n",
       "\n",
       "    .dataframe thead th {\n",
       "        text-align: right;\n",
       "    }\n",
       "</style>\n",
       "<table border=\"1\" class=\"dataframe\">\n",
       "  <thead>\n",
       "    <tr style=\"text-align: right;\">\n",
       "      <th></th>\n",
       "      <th>year</th>\n",
       "      <th>id_</th>\n",
       "      <th>wrkstat</th>\n",
       "      <th>hrs1</th>\n",
       "      <th>hrs2</th>\n",
       "      <th>evwork</th>\n",
       "      <th>wrkslf</th>\n",
       "      <th>marital</th>\n",
       "      <th>divorce</th>\n",
       "      <th>spwrksta</th>\n",
       "      <th>sphrs1</th>\n",
       "      <th>sphrs2</th>\n",
       "      <th>spevwork</th>\n",
       "      <th>spwrkslf</th>\n",
       "      <th>spocc10</th>\n",
       "      <th>spind10</th>\n",
       "      <th>degree</th>\n",
       "      <th>spdeg</th>\n",
       "      <th>ballot</th>\n",
       "    </tr>\n",
       "  </thead>\n",
       "  <tbody>\n",
       "    <tr>\n",
       "      <th>1615</th>\n",
       "      <td>1973</td>\n",
       "      <td>3</td>\n",
       "      <td>Working full time</td>\n",
       "      <td>40.0</td>\n",
       "      <td>.i:  Inapplicable</td>\n",
       "      <td>.i:  Inapplicable</td>\n",
       "      <td>Someone else</td>\n",
       "      <td>Married</td>\n",
       "      <td>NO</td>\n",
       "      <td>WORKING FULLTIME</td>\n",
       "      <td>40.0</td>\n",
       "      <td>.i:  Inapplicable</td>\n",
       "      <td>.i:  Inapplicable</td>\n",
       "      <td>SOMEONE ELSE</td>\n",
       "      <td>Painters, construction and maintenance</td>\n",
       "      <td>Construction</td>\n",
       "      <td>Less than high school</td>\n",
       "      <td>LT HIGH SCHOOL</td>\n",
       "      <td>.i:  Inapplicable</td>\n",
       "    </tr>\n",
       "    <tr>\n",
       "      <th>1616</th>\n",
       "      <td>1973</td>\n",
       "      <td>4</td>\n",
       "      <td>Working full time</td>\n",
       "      <td>40.0</td>\n",
       "      <td>.i:  Inapplicable</td>\n",
       "      <td>.i:  Inapplicable</td>\n",
       "      <td>Someone else</td>\n",
       "      <td>Married</td>\n",
       "      <td>NO</td>\n",
       "      <td>WORKING FULLTIME</td>\n",
       "      <td>37.0</td>\n",
       "      <td>.i:  Inapplicable</td>\n",
       "      <td>.i:  Inapplicable</td>\n",
       "      <td>SOMEONE ELSE</td>\n",
       "      <td>Print binding and finishing workers</td>\n",
       "      <td>Periodical, book, and directory publishers</td>\n",
       "      <td>High school</td>\n",
       "      <td>HIGH SCHOOL</td>\n",
       "      <td>.i:  Inapplicable</td>\n",
       "    </tr>\n",
       "    <tr>\n",
       "      <th>1628</th>\n",
       "      <td>1973</td>\n",
       "      <td>16</td>\n",
       "      <td>Working full time</td>\n",
       "      <td>60.0</td>\n",
       "      <td>.i:  Inapplicable</td>\n",
       "      <td>.i:  Inapplicable</td>\n",
       "      <td>Self-employed</td>\n",
       "      <td>Married</td>\n",
       "      <td>NO</td>\n",
       "      <td>WORKING FULLTIME</td>\n",
       "      <td>44.0</td>\n",
       "      <td>.i:  Inapplicable</td>\n",
       "      <td>.i:  Inapplicable</td>\n",
       "      <td>SELF-EMPLOYED</td>\n",
       "      <td>Bookkeeping, accounting, and auditing clerks</td>\n",
       "      <td>Natural gas distribution</td>\n",
       "      <td>High school</td>\n",
       "      <td>HIGH SCHOOL</td>\n",
       "      <td>.i:  Inapplicable</td>\n",
       "    </tr>\n",
       "    <tr>\n",
       "      <th>1635</th>\n",
       "      <td>1973</td>\n",
       "      <td>23</td>\n",
       "      <td>Working full time</td>\n",
       "      <td>40.0</td>\n",
       "      <td>.i:  Inapplicable</td>\n",
       "      <td>.i:  Inapplicable</td>\n",
       "      <td>Someone else</td>\n",
       "      <td>Married</td>\n",
       "      <td>NO</td>\n",
       "      <td>WORKING FULLTIME</td>\n",
       "      <td>40.0</td>\n",
       "      <td>.i:  Inapplicable</td>\n",
       "      <td>.i:  Inapplicable</td>\n",
       "      <td>SOMEONE ELSE</td>\n",
       "      <td>.u:  Uncodable</td>\n",
       "      <td>Justice, public order, and safety activities</td>\n",
       "      <td>High school</td>\n",
       "      <td>HIGH SCHOOL</td>\n",
       "      <td>.i:  Inapplicable</td>\n",
       "    </tr>\n",
       "    <tr>\n",
       "      <th>1649</th>\n",
       "      <td>1973</td>\n",
       "      <td>37</td>\n",
       "      <td>Working part time</td>\n",
       "      <td>23.0</td>\n",
       "      <td>.i:  Inapplicable</td>\n",
       "      <td>.i:  Inapplicable</td>\n",
       "      <td>Someone else</td>\n",
       "      <td>Married</td>\n",
       "      <td>NO</td>\n",
       "      <td>WORKING FULLTIME</td>\n",
       "      <td>50.0</td>\n",
       "      <td>.i:  Inapplicable</td>\n",
       "      <td>.i:  Inapplicable</td>\n",
       "      <td>SOMEONE ELSE</td>\n",
       "      <td>Sales representatives,  wholesale and manufact...</td>\n",
       "      <td>Not specified manufacturing industries</td>\n",
       "      <td>Bachelor's</td>\n",
       "      <td>BACHELOR</td>\n",
       "      <td>.i:  Inapplicable</td>\n",
       "    </tr>\n",
       "  </tbody>\n",
       "</table>\n",
       "</div>"
      ],
      "text/plain": [
       "      year  id_            wrkstat  hrs1               hrs2  \\\n",
       "1615  1973    3  Working full time  40.0  .i:  Inapplicable   \n",
       "1616  1973    4  Working full time  40.0  .i:  Inapplicable   \n",
       "1628  1973   16  Working full time  60.0  .i:  Inapplicable   \n",
       "1635  1973   23  Working full time  40.0  .i:  Inapplicable   \n",
       "1649  1973   37  Working part time  23.0  .i:  Inapplicable   \n",
       "\n",
       "                 evwork         wrkslf  marital divorce          spwrksta  \\\n",
       "1615  .i:  Inapplicable   Someone else  Married      NO  WORKING FULLTIME   \n",
       "1616  .i:  Inapplicable   Someone else  Married      NO  WORKING FULLTIME   \n",
       "1628  .i:  Inapplicable  Self-employed  Married      NO  WORKING FULLTIME   \n",
       "1635  .i:  Inapplicable   Someone else  Married      NO  WORKING FULLTIME   \n",
       "1649  .i:  Inapplicable   Someone else  Married      NO  WORKING FULLTIME   \n",
       "\n",
       "      sphrs1             sphrs2           spevwork       spwrkslf  \\\n",
       "1615    40.0  .i:  Inapplicable  .i:  Inapplicable   SOMEONE ELSE   \n",
       "1616    37.0  .i:  Inapplicable  .i:  Inapplicable   SOMEONE ELSE   \n",
       "1628    44.0  .i:  Inapplicable  .i:  Inapplicable  SELF-EMPLOYED   \n",
       "1635    40.0  .i:  Inapplicable  .i:  Inapplicable   SOMEONE ELSE   \n",
       "1649    50.0  .i:  Inapplicable  .i:  Inapplicable   SOMEONE ELSE   \n",
       "\n",
       "                                                spocc10  \\\n",
       "1615             Painters, construction and maintenance   \n",
       "1616                Print binding and finishing workers   \n",
       "1628       Bookkeeping, accounting, and auditing clerks   \n",
       "1635                                     .u:  Uncodable   \n",
       "1649  Sales representatives,  wholesale and manufact...   \n",
       "\n",
       "                                           spind10                 degree  \\\n",
       "1615                                  Construction  Less than high school   \n",
       "1616    Periodical, book, and directory publishers            High school   \n",
       "1628                      Natural gas distribution            High school   \n",
       "1635  Justice, public order, and safety activities            High school   \n",
       "1649        Not specified manufacturing industries             Bachelor's   \n",
       "\n",
       "               spdeg             ballot  \n",
       "1615  LT HIGH SCHOOL  .i:  Inapplicable  \n",
       "1616     HIGH SCHOOL  .i:  Inapplicable  \n",
       "1628     HIGH SCHOOL  .i:  Inapplicable  \n",
       "1635     HIGH SCHOOL  .i:  Inapplicable  \n",
       "1649        BACHELOR  .i:  Inapplicable  "
      ]
     },
     "execution_count": 169,
     "metadata": {},
     "output_type": "execute_result"
    }
   ],
   "source": [
    "married_df = df.loc[df['marital'] == 'Married']\n",
    "married_df = married_df.dropna()\n",
    "married_df.head()"
   ]
  },
  {
   "cell_type": "markdown",
   "metadata": {},
   "source": [
    "#### single_df"
   ]
  },
  {
   "cell_type": "markdown",
   "metadata": {},
   "source": [
    "Create single_df containing all rows containing non-married participants"
   ]
  },
  {
   "cell_type": "code",
   "execution_count": 170,
   "metadata": {
    "colab": {
     "base_uri": "https://localhost:8080/",
     "height": 330
    },
    "id": "INDyuhi4Dfv_",
    "outputId": "8af8e47a-077f-4b5f-8c87-955043e81307"
   },
   "outputs": [
    {
     "data": {
      "text/html": [
       "<div>\n",
       "<style scoped>\n",
       "    .dataframe tbody tr th:only-of-type {\n",
       "        vertical-align: middle;\n",
       "    }\n",
       "\n",
       "    .dataframe tbody tr th {\n",
       "        vertical-align: top;\n",
       "    }\n",
       "\n",
       "    .dataframe thead th {\n",
       "        text-align: right;\n",
       "    }\n",
       "</style>\n",
       "<table border=\"1\" class=\"dataframe\">\n",
       "  <thead>\n",
       "    <tr style=\"text-align: right;\">\n",
       "      <th></th>\n",
       "      <th>year</th>\n",
       "      <th>id_</th>\n",
       "      <th>wrkstat</th>\n",
       "      <th>hrs1</th>\n",
       "      <th>hrs2</th>\n",
       "      <th>evwork</th>\n",
       "      <th>wrkslf</th>\n",
       "      <th>marital</th>\n",
       "      <th>divorce</th>\n",
       "      <th>spwrksta</th>\n",
       "      <th>sphrs1</th>\n",
       "      <th>sphrs2</th>\n",
       "      <th>spevwork</th>\n",
       "      <th>spwrkslf</th>\n",
       "      <th>spocc10</th>\n",
       "      <th>spind10</th>\n",
       "      <th>degree</th>\n",
       "      <th>spdeg</th>\n",
       "      <th>ballot</th>\n",
       "    </tr>\n",
       "  </thead>\n",
       "  <tbody>\n",
       "    <tr>\n",
       "      <th>1618</th>\n",
       "      <td>1973</td>\n",
       "      <td>6</td>\n",
       "      <td>Working full time</td>\n",
       "      <td>52.0</td>\n",
       "      <td>.i:  Inapplicable</td>\n",
       "      <td>.i:  Inapplicable</td>\n",
       "      <td>Someone else</td>\n",
       "      <td>Divorced</td>\n",
       "      <td>NaN</td>\n",
       "      <td>.i:  Inapplicable</td>\n",
       "      <td>NaN</td>\n",
       "      <td>.i:  Inapplicable</td>\n",
       "      <td>.i:  Inapplicable</td>\n",
       "      <td>.i:  Inapplicable</td>\n",
       "      <td>.i:  Inapplicable</td>\n",
       "      <td>.i:  Inapplicable</td>\n",
       "      <td>High school</td>\n",
       "      <td>.i:  Inapplicable</td>\n",
       "      <td>.i:  Inapplicable</td>\n",
       "    </tr>\n",
       "    <tr>\n",
       "      <th>1620</th>\n",
       "      <td>1973</td>\n",
       "      <td>8</td>\n",
       "      <td>Working full time</td>\n",
       "      <td>35.0</td>\n",
       "      <td>.i:  Inapplicable</td>\n",
       "      <td>.i:  Inapplicable</td>\n",
       "      <td>Someone else</td>\n",
       "      <td>Never married</td>\n",
       "      <td>NaN</td>\n",
       "      <td>.i:  Inapplicable</td>\n",
       "      <td>NaN</td>\n",
       "      <td>.i:  Inapplicable</td>\n",
       "      <td>.i:  Inapplicable</td>\n",
       "      <td>.i:  Inapplicable</td>\n",
       "      <td>.i:  Inapplicable</td>\n",
       "      <td>.i:  Inapplicable</td>\n",
       "      <td>Bachelor's</td>\n",
       "      <td>.i:  Inapplicable</td>\n",
       "      <td>.i:  Inapplicable</td>\n",
       "    </tr>\n",
       "    <tr>\n",
       "      <th>1623</th>\n",
       "      <td>1973</td>\n",
       "      <td>11</td>\n",
       "      <td>Working full time</td>\n",
       "      <td>45.0</td>\n",
       "      <td>.i:  Inapplicable</td>\n",
       "      <td>.i:  Inapplicable</td>\n",
       "      <td>Someone else</td>\n",
       "      <td>Widowed</td>\n",
       "      <td>NO</td>\n",
       "      <td>.i:  Inapplicable</td>\n",
       "      <td>NaN</td>\n",
       "      <td>.i:  Inapplicable</td>\n",
       "      <td>.i:  Inapplicable</td>\n",
       "      <td>.i:  Inapplicable</td>\n",
       "      <td>.i:  Inapplicable</td>\n",
       "      <td>.i:  Inapplicable</td>\n",
       "      <td>Less than high school</td>\n",
       "      <td>.i:  Inapplicable</td>\n",
       "      <td>.i:  Inapplicable</td>\n",
       "    </tr>\n",
       "    <tr>\n",
       "      <th>1631</th>\n",
       "      <td>1973</td>\n",
       "      <td>19</td>\n",
       "      <td>Working full time</td>\n",
       "      <td>40.0</td>\n",
       "      <td>.i:  Inapplicable</td>\n",
       "      <td>.i:  Inapplicable</td>\n",
       "      <td>Someone else</td>\n",
       "      <td>Divorced</td>\n",
       "      <td>NaN</td>\n",
       "      <td>.i:  Inapplicable</td>\n",
       "      <td>NaN</td>\n",
       "      <td>.i:  Inapplicable</td>\n",
       "      <td>.i:  Inapplicable</td>\n",
       "      <td>.i:  Inapplicable</td>\n",
       "      <td>.i:  Inapplicable</td>\n",
       "      <td>.i:  Inapplicable</td>\n",
       "      <td>High school</td>\n",
       "      <td>.i:  Inapplicable</td>\n",
       "      <td>.i:  Inapplicable</td>\n",
       "    </tr>\n",
       "    <tr>\n",
       "      <th>1642</th>\n",
       "      <td>1973</td>\n",
       "      <td>30</td>\n",
       "      <td>Working full time</td>\n",
       "      <td>40.0</td>\n",
       "      <td>.i:  Inapplicable</td>\n",
       "      <td>.i:  Inapplicable</td>\n",
       "      <td>Someone else</td>\n",
       "      <td>Never married</td>\n",
       "      <td>NaN</td>\n",
       "      <td>.i:  Inapplicable</td>\n",
       "      <td>NaN</td>\n",
       "      <td>.i:  Inapplicable</td>\n",
       "      <td>.i:  Inapplicable</td>\n",
       "      <td>.i:  Inapplicable</td>\n",
       "      <td>.i:  Inapplicable</td>\n",
       "      <td>.i:  Inapplicable</td>\n",
       "      <td>High school</td>\n",
       "      <td>.i:  Inapplicable</td>\n",
       "      <td>.i:  Inapplicable</td>\n",
       "    </tr>\n",
       "    <tr>\n",
       "      <th>1654</th>\n",
       "      <td>1973</td>\n",
       "      <td>42</td>\n",
       "      <td>Working full time</td>\n",
       "      <td>45.0</td>\n",
       "      <td>.i:  Inapplicable</td>\n",
       "      <td>.i:  Inapplicable</td>\n",
       "      <td>Someone else</td>\n",
       "      <td>Widowed</td>\n",
       "      <td>NO</td>\n",
       "      <td>.i:  Inapplicable</td>\n",
       "      <td>NaN</td>\n",
       "      <td>.i:  Inapplicable</td>\n",
       "      <td>.i:  Inapplicable</td>\n",
       "      <td>.i:  Inapplicable</td>\n",
       "      <td>.i:  Inapplicable</td>\n",
       "      <td>.i:  Inapplicable</td>\n",
       "      <td>Less than high school</td>\n",
       "      <td>.i:  Inapplicable</td>\n",
       "      <td>.i:  Inapplicable</td>\n",
       "    </tr>\n",
       "    <tr>\n",
       "      <th>1659</th>\n",
       "      <td>1973</td>\n",
       "      <td>47</td>\n",
       "      <td>Working full time</td>\n",
       "      <td>50.0</td>\n",
       "      <td>.i:  Inapplicable</td>\n",
       "      <td>.i:  Inapplicable</td>\n",
       "      <td>Someone else</td>\n",
       "      <td>Never married</td>\n",
       "      <td>NaN</td>\n",
       "      <td>.i:  Inapplicable</td>\n",
       "      <td>NaN</td>\n",
       "      <td>.i:  Inapplicable</td>\n",
       "      <td>.i:  Inapplicable</td>\n",
       "      <td>.i:  Inapplicable</td>\n",
       "      <td>.i:  Inapplicable</td>\n",
       "      <td>.i:  Inapplicable</td>\n",
       "      <td>Bachelor's</td>\n",
       "      <td>.i:  Inapplicable</td>\n",
       "      <td>.i:  Inapplicable</td>\n",
       "    </tr>\n",
       "    <tr>\n",
       "      <th>1667</th>\n",
       "      <td>1973</td>\n",
       "      <td>55</td>\n",
       "      <td>Working full time</td>\n",
       "      <td>37.0</td>\n",
       "      <td>.i:  Inapplicable</td>\n",
       "      <td>.i:  Inapplicable</td>\n",
       "      <td>Someone else</td>\n",
       "      <td>Widowed</td>\n",
       "      <td>NO</td>\n",
       "      <td>.i:  Inapplicable</td>\n",
       "      <td>NaN</td>\n",
       "      <td>.i:  Inapplicable</td>\n",
       "      <td>.i:  Inapplicable</td>\n",
       "      <td>.i:  Inapplicable</td>\n",
       "      <td>.i:  Inapplicable</td>\n",
       "      <td>.i:  Inapplicable</td>\n",
       "      <td>High school</td>\n",
       "      <td>.i:  Inapplicable</td>\n",
       "      <td>.i:  Inapplicable</td>\n",
       "    </tr>\n",
       "    <tr>\n",
       "      <th>1675</th>\n",
       "      <td>1973</td>\n",
       "      <td>63</td>\n",
       "      <td>Working full time</td>\n",
       "      <td>60.0</td>\n",
       "      <td>.i:  Inapplicable</td>\n",
       "      <td>.i:  Inapplicable</td>\n",
       "      <td>Someone else</td>\n",
       "      <td>Never married</td>\n",
       "      <td>NaN</td>\n",
       "      <td>.i:  Inapplicable</td>\n",
       "      <td>NaN</td>\n",
       "      <td>.i:  Inapplicable</td>\n",
       "      <td>.i:  Inapplicable</td>\n",
       "      <td>.i:  Inapplicable</td>\n",
       "      <td>.i:  Inapplicable</td>\n",
       "      <td>.i:  Inapplicable</td>\n",
       "      <td>High school</td>\n",
       "      <td>.i:  Inapplicable</td>\n",
       "      <td>.i:  Inapplicable</td>\n",
       "    </tr>\n",
       "    <tr>\n",
       "      <th>1682</th>\n",
       "      <td>1973</td>\n",
       "      <td>70</td>\n",
       "      <td>Working full time</td>\n",
       "      <td>40.0</td>\n",
       "      <td>.i:  Inapplicable</td>\n",
       "      <td>.i:  Inapplicable</td>\n",
       "      <td>Someone else</td>\n",
       "      <td>Never married</td>\n",
       "      <td>NaN</td>\n",
       "      <td>.i:  Inapplicable</td>\n",
       "      <td>NaN</td>\n",
       "      <td>.i:  Inapplicable</td>\n",
       "      <td>.i:  Inapplicable</td>\n",
       "      <td>.i:  Inapplicable</td>\n",
       "      <td>.i:  Inapplicable</td>\n",
       "      <td>.i:  Inapplicable</td>\n",
       "      <td>Less than high school</td>\n",
       "      <td>.i:  Inapplicable</td>\n",
       "      <td>.i:  Inapplicable</td>\n",
       "    </tr>\n",
       "    <tr>\n",
       "      <th>1688</th>\n",
       "      <td>1973</td>\n",
       "      <td>76</td>\n",
       "      <td>Working part time</td>\n",
       "      <td>24.0</td>\n",
       "      <td>.i:  Inapplicable</td>\n",
       "      <td>.i:  Inapplicable</td>\n",
       "      <td>Someone else</td>\n",
       "      <td>Never married</td>\n",
       "      <td>NaN</td>\n",
       "      <td>.i:  Inapplicable</td>\n",
       "      <td>NaN</td>\n",
       "      <td>.i:  Inapplicable</td>\n",
       "      <td>.i:  Inapplicable</td>\n",
       "      <td>.i:  Inapplicable</td>\n",
       "      <td>.i:  Inapplicable</td>\n",
       "      <td>.i:  Inapplicable</td>\n",
       "      <td>High school</td>\n",
       "      <td>.i:  Inapplicable</td>\n",
       "      <td>.i:  Inapplicable</td>\n",
       "    </tr>\n",
       "    <tr>\n",
       "      <th>1689</th>\n",
       "      <td>1973</td>\n",
       "      <td>77</td>\n",
       "      <td>Working full time</td>\n",
       "      <td>40.0</td>\n",
       "      <td>.i:  Inapplicable</td>\n",
       "      <td>.i:  Inapplicable</td>\n",
       "      <td>Someone else</td>\n",
       "      <td>Never married</td>\n",
       "      <td>NaN</td>\n",
       "      <td>.i:  Inapplicable</td>\n",
       "      <td>NaN</td>\n",
       "      <td>.i:  Inapplicable</td>\n",
       "      <td>.i:  Inapplicable</td>\n",
       "      <td>.i:  Inapplicable</td>\n",
       "      <td>.i:  Inapplicable</td>\n",
       "      <td>.i:  Inapplicable</td>\n",
       "      <td>High school</td>\n",
       "      <td>.i:  Inapplicable</td>\n",
       "      <td>.i:  Inapplicable</td>\n",
       "    </tr>\n",
       "    <tr>\n",
       "      <th>1696</th>\n",
       "      <td>1973</td>\n",
       "      <td>84</td>\n",
       "      <td>Working full time</td>\n",
       "      <td>80.0</td>\n",
       "      <td>.i:  Inapplicable</td>\n",
       "      <td>.i:  Inapplicable</td>\n",
       "      <td>Self-employed</td>\n",
       "      <td>Divorced</td>\n",
       "      <td>NaN</td>\n",
       "      <td>.i:  Inapplicable</td>\n",
       "      <td>NaN</td>\n",
       "      <td>.i:  Inapplicable</td>\n",
       "      <td>.i:  Inapplicable</td>\n",
       "      <td>.i:  Inapplicable</td>\n",
       "      <td>.i:  Inapplicable</td>\n",
       "      <td>.i:  Inapplicable</td>\n",
       "      <td>High school</td>\n",
       "      <td>.i:  Inapplicable</td>\n",
       "      <td>.i:  Inapplicable</td>\n",
       "    </tr>\n",
       "    <tr>\n",
       "      <th>1698</th>\n",
       "      <td>1973</td>\n",
       "      <td>86</td>\n",
       "      <td>Working full time</td>\n",
       "      <td>55.0</td>\n",
       "      <td>.i:  Inapplicable</td>\n",
       "      <td>.i:  Inapplicable</td>\n",
       "      <td>Someone else</td>\n",
       "      <td>Separated</td>\n",
       "      <td>NaN</td>\n",
       "      <td>.i:  Inapplicable</td>\n",
       "      <td>NaN</td>\n",
       "      <td>.i:  Inapplicable</td>\n",
       "      <td>.i:  Inapplicable</td>\n",
       "      <td>.i:  Inapplicable</td>\n",
       "      <td>.i:  Inapplicable</td>\n",
       "      <td>.i:  Inapplicable</td>\n",
       "      <td>Less than high school</td>\n",
       "      <td>.i:  Inapplicable</td>\n",
       "      <td>.i:  Inapplicable</td>\n",
       "    </tr>\n",
       "    <tr>\n",
       "      <th>1717</th>\n",
       "      <td>1973</td>\n",
       "      <td>105</td>\n",
       "      <td>Working full time</td>\n",
       "      <td>40.0</td>\n",
       "      <td>.i:  Inapplicable</td>\n",
       "      <td>.i:  Inapplicable</td>\n",
       "      <td>Someone else</td>\n",
       "      <td>Never married</td>\n",
       "      <td>NaN</td>\n",
       "      <td>.i:  Inapplicable</td>\n",
       "      <td>NaN</td>\n",
       "      <td>.i:  Inapplicable</td>\n",
       "      <td>.i:  Inapplicable</td>\n",
       "      <td>.i:  Inapplicable</td>\n",
       "      <td>.i:  Inapplicable</td>\n",
       "      <td>.i:  Inapplicable</td>\n",
       "      <td>High school</td>\n",
       "      <td>.i:  Inapplicable</td>\n",
       "      <td>.i:  Inapplicable</td>\n",
       "    </tr>\n",
       "    <tr>\n",
       "      <th>1760</th>\n",
       "      <td>1973</td>\n",
       "      <td>148</td>\n",
       "      <td>Working full time</td>\n",
       "      <td>40.0</td>\n",
       "      <td>.i:  Inapplicable</td>\n",
       "      <td>.i:  Inapplicable</td>\n",
       "      <td>Someone else</td>\n",
       "      <td>Divorced</td>\n",
       "      <td>NaN</td>\n",
       "      <td>.i:  Inapplicable</td>\n",
       "      <td>NaN</td>\n",
       "      <td>.i:  Inapplicable</td>\n",
       "      <td>.i:  Inapplicable</td>\n",
       "      <td>.i:  Inapplicable</td>\n",
       "      <td>.i:  Inapplicable</td>\n",
       "      <td>.i:  Inapplicable</td>\n",
       "      <td>High school</td>\n",
       "      <td>.i:  Inapplicable</td>\n",
       "      <td>.i:  Inapplicable</td>\n",
       "    </tr>\n",
       "    <tr>\n",
       "      <th>1761</th>\n",
       "      <td>1973</td>\n",
       "      <td>149</td>\n",
       "      <td>Working part time</td>\n",
       "      <td>26.0</td>\n",
       "      <td>.i:  Inapplicable</td>\n",
       "      <td>.i:  Inapplicable</td>\n",
       "      <td>Someone else</td>\n",
       "      <td>Never married</td>\n",
       "      <td>NaN</td>\n",
       "      <td>.i:  Inapplicable</td>\n",
       "      <td>NaN</td>\n",
       "      <td>.i:  Inapplicable</td>\n",
       "      <td>.i:  Inapplicable</td>\n",
       "      <td>.i:  Inapplicable</td>\n",
       "      <td>.i:  Inapplicable</td>\n",
       "      <td>.i:  Inapplicable</td>\n",
       "      <td>High school</td>\n",
       "      <td>.i:  Inapplicable</td>\n",
       "      <td>.i:  Inapplicable</td>\n",
       "    </tr>\n",
       "    <tr>\n",
       "      <th>1782</th>\n",
       "      <td>1973</td>\n",
       "      <td>170</td>\n",
       "      <td>Working full time</td>\n",
       "      <td>42.0</td>\n",
       "      <td>.i:  Inapplicable</td>\n",
       "      <td>.i:  Inapplicable</td>\n",
       "      <td>Someone else</td>\n",
       "      <td>Never married</td>\n",
       "      <td>NaN</td>\n",
       "      <td>.i:  Inapplicable</td>\n",
       "      <td>NaN</td>\n",
       "      <td>.i:  Inapplicable</td>\n",
       "      <td>.i:  Inapplicable</td>\n",
       "      <td>.i:  Inapplicable</td>\n",
       "      <td>.i:  Inapplicable</td>\n",
       "      <td>.i:  Inapplicable</td>\n",
       "      <td>High school</td>\n",
       "      <td>.i:  Inapplicable</td>\n",
       "      <td>.i:  Inapplicable</td>\n",
       "    </tr>\n",
       "    <tr>\n",
       "      <th>1785</th>\n",
       "      <td>1973</td>\n",
       "      <td>173</td>\n",
       "      <td>Working part time</td>\n",
       "      <td>16.0</td>\n",
       "      <td>.i:  Inapplicable</td>\n",
       "      <td>.i:  Inapplicable</td>\n",
       "      <td>Someone else</td>\n",
       "      <td>Separated</td>\n",
       "      <td>NaN</td>\n",
       "      <td>.i:  Inapplicable</td>\n",
       "      <td>NaN</td>\n",
       "      <td>.i:  Inapplicable</td>\n",
       "      <td>.i:  Inapplicable</td>\n",
       "      <td>.i:  Inapplicable</td>\n",
       "      <td>.i:  Inapplicable</td>\n",
       "      <td>.i:  Inapplicable</td>\n",
       "      <td>High school</td>\n",
       "      <td>.i:  Inapplicable</td>\n",
       "      <td>.i:  Inapplicable</td>\n",
       "    </tr>\n",
       "    <tr>\n",
       "      <th>1805</th>\n",
       "      <td>1973</td>\n",
       "      <td>193</td>\n",
       "      <td>Working full time</td>\n",
       "      <td>35.0</td>\n",
       "      <td>.i:  Inapplicable</td>\n",
       "      <td>.i:  Inapplicable</td>\n",
       "      <td>Someone else</td>\n",
       "      <td>Never married</td>\n",
       "      <td>NaN</td>\n",
       "      <td>.i:  Inapplicable</td>\n",
       "      <td>NaN</td>\n",
       "      <td>.i:  Inapplicable</td>\n",
       "      <td>.i:  Inapplicable</td>\n",
       "      <td>.i:  Inapplicable</td>\n",
       "      <td>.i:  Inapplicable</td>\n",
       "      <td>.i:  Inapplicable</td>\n",
       "      <td>Bachelor's</td>\n",
       "      <td>.i:  Inapplicable</td>\n",
       "      <td>.i:  Inapplicable</td>\n",
       "    </tr>\n",
       "  </tbody>\n",
       "</table>\n",
       "</div>"
      ],
      "text/plain": [
       "      year  id_            wrkstat  hrs1               hrs2  \\\n",
       "1618  1973    6  Working full time  52.0  .i:  Inapplicable   \n",
       "1620  1973    8  Working full time  35.0  .i:  Inapplicable   \n",
       "1623  1973   11  Working full time  45.0  .i:  Inapplicable   \n",
       "1631  1973   19  Working full time  40.0  .i:  Inapplicable   \n",
       "1642  1973   30  Working full time  40.0  .i:  Inapplicable   \n",
       "1654  1973   42  Working full time  45.0  .i:  Inapplicable   \n",
       "1659  1973   47  Working full time  50.0  .i:  Inapplicable   \n",
       "1667  1973   55  Working full time  37.0  .i:  Inapplicable   \n",
       "1675  1973   63  Working full time  60.0  .i:  Inapplicable   \n",
       "1682  1973   70  Working full time  40.0  .i:  Inapplicable   \n",
       "1688  1973   76  Working part time  24.0  .i:  Inapplicable   \n",
       "1689  1973   77  Working full time  40.0  .i:  Inapplicable   \n",
       "1696  1973   84  Working full time  80.0  .i:  Inapplicable   \n",
       "1698  1973   86  Working full time  55.0  .i:  Inapplicable   \n",
       "1717  1973  105  Working full time  40.0  .i:  Inapplicable   \n",
       "1760  1973  148  Working full time  40.0  .i:  Inapplicable   \n",
       "1761  1973  149  Working part time  26.0  .i:  Inapplicable   \n",
       "1782  1973  170  Working full time  42.0  .i:  Inapplicable   \n",
       "1785  1973  173  Working part time  16.0  .i:  Inapplicable   \n",
       "1805  1973  193  Working full time  35.0  .i:  Inapplicable   \n",
       "\n",
       "                 evwork         wrkslf        marital divorce  \\\n",
       "1618  .i:  Inapplicable   Someone else       Divorced     NaN   \n",
       "1620  .i:  Inapplicable   Someone else  Never married     NaN   \n",
       "1623  .i:  Inapplicable   Someone else        Widowed      NO   \n",
       "1631  .i:  Inapplicable   Someone else       Divorced     NaN   \n",
       "1642  .i:  Inapplicable   Someone else  Never married     NaN   \n",
       "1654  .i:  Inapplicable   Someone else        Widowed      NO   \n",
       "1659  .i:  Inapplicable   Someone else  Never married     NaN   \n",
       "1667  .i:  Inapplicable   Someone else        Widowed      NO   \n",
       "1675  .i:  Inapplicable   Someone else  Never married     NaN   \n",
       "1682  .i:  Inapplicable   Someone else  Never married     NaN   \n",
       "1688  .i:  Inapplicable   Someone else  Never married     NaN   \n",
       "1689  .i:  Inapplicable   Someone else  Never married     NaN   \n",
       "1696  .i:  Inapplicable  Self-employed       Divorced     NaN   \n",
       "1698  .i:  Inapplicable   Someone else      Separated     NaN   \n",
       "1717  .i:  Inapplicable   Someone else  Never married     NaN   \n",
       "1760  .i:  Inapplicable   Someone else       Divorced     NaN   \n",
       "1761  .i:  Inapplicable   Someone else  Never married     NaN   \n",
       "1782  .i:  Inapplicable   Someone else  Never married     NaN   \n",
       "1785  .i:  Inapplicable   Someone else      Separated     NaN   \n",
       "1805  .i:  Inapplicable   Someone else  Never married     NaN   \n",
       "\n",
       "               spwrksta  sphrs1             sphrs2           spevwork  \\\n",
       "1618  .i:  Inapplicable     NaN  .i:  Inapplicable  .i:  Inapplicable   \n",
       "1620  .i:  Inapplicable     NaN  .i:  Inapplicable  .i:  Inapplicable   \n",
       "1623  .i:  Inapplicable     NaN  .i:  Inapplicable  .i:  Inapplicable   \n",
       "1631  .i:  Inapplicable     NaN  .i:  Inapplicable  .i:  Inapplicable   \n",
       "1642  .i:  Inapplicable     NaN  .i:  Inapplicable  .i:  Inapplicable   \n",
       "1654  .i:  Inapplicable     NaN  .i:  Inapplicable  .i:  Inapplicable   \n",
       "1659  .i:  Inapplicable     NaN  .i:  Inapplicable  .i:  Inapplicable   \n",
       "1667  .i:  Inapplicable     NaN  .i:  Inapplicable  .i:  Inapplicable   \n",
       "1675  .i:  Inapplicable     NaN  .i:  Inapplicable  .i:  Inapplicable   \n",
       "1682  .i:  Inapplicable     NaN  .i:  Inapplicable  .i:  Inapplicable   \n",
       "1688  .i:  Inapplicable     NaN  .i:  Inapplicable  .i:  Inapplicable   \n",
       "1689  .i:  Inapplicable     NaN  .i:  Inapplicable  .i:  Inapplicable   \n",
       "1696  .i:  Inapplicable     NaN  .i:  Inapplicable  .i:  Inapplicable   \n",
       "1698  .i:  Inapplicable     NaN  .i:  Inapplicable  .i:  Inapplicable   \n",
       "1717  .i:  Inapplicable     NaN  .i:  Inapplicable  .i:  Inapplicable   \n",
       "1760  .i:  Inapplicable     NaN  .i:  Inapplicable  .i:  Inapplicable   \n",
       "1761  .i:  Inapplicable     NaN  .i:  Inapplicable  .i:  Inapplicable   \n",
       "1782  .i:  Inapplicable     NaN  .i:  Inapplicable  .i:  Inapplicable   \n",
       "1785  .i:  Inapplicable     NaN  .i:  Inapplicable  .i:  Inapplicable   \n",
       "1805  .i:  Inapplicable     NaN  .i:  Inapplicable  .i:  Inapplicable   \n",
       "\n",
       "               spwrkslf            spocc10            spind10  \\\n",
       "1618  .i:  Inapplicable  .i:  Inapplicable  .i:  Inapplicable   \n",
       "1620  .i:  Inapplicable  .i:  Inapplicable  .i:  Inapplicable   \n",
       "1623  .i:  Inapplicable  .i:  Inapplicable  .i:  Inapplicable   \n",
       "1631  .i:  Inapplicable  .i:  Inapplicable  .i:  Inapplicable   \n",
       "1642  .i:  Inapplicable  .i:  Inapplicable  .i:  Inapplicable   \n",
       "1654  .i:  Inapplicable  .i:  Inapplicable  .i:  Inapplicable   \n",
       "1659  .i:  Inapplicable  .i:  Inapplicable  .i:  Inapplicable   \n",
       "1667  .i:  Inapplicable  .i:  Inapplicable  .i:  Inapplicable   \n",
       "1675  .i:  Inapplicable  .i:  Inapplicable  .i:  Inapplicable   \n",
       "1682  .i:  Inapplicable  .i:  Inapplicable  .i:  Inapplicable   \n",
       "1688  .i:  Inapplicable  .i:  Inapplicable  .i:  Inapplicable   \n",
       "1689  .i:  Inapplicable  .i:  Inapplicable  .i:  Inapplicable   \n",
       "1696  .i:  Inapplicable  .i:  Inapplicable  .i:  Inapplicable   \n",
       "1698  .i:  Inapplicable  .i:  Inapplicable  .i:  Inapplicable   \n",
       "1717  .i:  Inapplicable  .i:  Inapplicable  .i:  Inapplicable   \n",
       "1760  .i:  Inapplicable  .i:  Inapplicable  .i:  Inapplicable   \n",
       "1761  .i:  Inapplicable  .i:  Inapplicable  .i:  Inapplicable   \n",
       "1782  .i:  Inapplicable  .i:  Inapplicable  .i:  Inapplicable   \n",
       "1785  .i:  Inapplicable  .i:  Inapplicable  .i:  Inapplicable   \n",
       "1805  .i:  Inapplicable  .i:  Inapplicable  .i:  Inapplicable   \n",
       "\n",
       "                     degree              spdeg             ballot  \n",
       "1618            High school  .i:  Inapplicable  .i:  Inapplicable  \n",
       "1620             Bachelor's  .i:  Inapplicable  .i:  Inapplicable  \n",
       "1623  Less than high school  .i:  Inapplicable  .i:  Inapplicable  \n",
       "1631            High school  .i:  Inapplicable  .i:  Inapplicable  \n",
       "1642            High school  .i:  Inapplicable  .i:  Inapplicable  \n",
       "1654  Less than high school  .i:  Inapplicable  .i:  Inapplicable  \n",
       "1659             Bachelor's  .i:  Inapplicable  .i:  Inapplicable  \n",
       "1667            High school  .i:  Inapplicable  .i:  Inapplicable  \n",
       "1675            High school  .i:  Inapplicable  .i:  Inapplicable  \n",
       "1682  Less than high school  .i:  Inapplicable  .i:  Inapplicable  \n",
       "1688            High school  .i:  Inapplicable  .i:  Inapplicable  \n",
       "1689            High school  .i:  Inapplicable  .i:  Inapplicable  \n",
       "1696            High school  .i:  Inapplicable  .i:  Inapplicable  \n",
       "1698  Less than high school  .i:  Inapplicable  .i:  Inapplicable  \n",
       "1717            High school  .i:  Inapplicable  .i:  Inapplicable  \n",
       "1760            High school  .i:  Inapplicable  .i:  Inapplicable  \n",
       "1761            High school  .i:  Inapplicable  .i:  Inapplicable  \n",
       "1782            High school  .i:  Inapplicable  .i:  Inapplicable  \n",
       "1785            High school  .i:  Inapplicable  .i:  Inapplicable  \n",
       "1805             Bachelor's  .i:  Inapplicable  .i:  Inapplicable  "
      ]
     },
     "execution_count": 170,
     "metadata": {},
     "output_type": "execute_result"
    }
   ],
   "source": [
    "single_df = df.loc[df['marital'] != 'Married']\n",
    "single_df = single_df[single_df['hrs1'].notna()]\n",
    "single_df.head(20)"
   ]
  },
  {
   "cell_type": "markdown",
   "metadata": {},
   "source": [
    "#### divorced_single_df"
   ]
  },
  {
   "cell_type": "code",
   "execution_count": 171,
   "metadata": {},
   "outputs": [
    {
     "data": {
      "text/html": [
       "<div>\n",
       "<style scoped>\n",
       "    .dataframe tbody tr th:only-of-type {\n",
       "        vertical-align: middle;\n",
       "    }\n",
       "\n",
       "    .dataframe tbody tr th {\n",
       "        vertical-align: top;\n",
       "    }\n",
       "\n",
       "    .dataframe thead th {\n",
       "        text-align: right;\n",
       "    }\n",
       "</style>\n",
       "<table border=\"1\" class=\"dataframe\">\n",
       "  <thead>\n",
       "    <tr style=\"text-align: right;\">\n",
       "      <th></th>\n",
       "      <th>year</th>\n",
       "      <th>id_</th>\n",
       "      <th>wrkstat</th>\n",
       "      <th>hrs1</th>\n",
       "      <th>hrs2</th>\n",
       "      <th>evwork</th>\n",
       "      <th>wrkslf</th>\n",
       "      <th>marital</th>\n",
       "      <th>divorce</th>\n",
       "      <th>spwrksta</th>\n",
       "      <th>sphrs1</th>\n",
       "      <th>sphrs2</th>\n",
       "      <th>spevwork</th>\n",
       "      <th>spwrkslf</th>\n",
       "      <th>spocc10</th>\n",
       "      <th>spind10</th>\n",
       "      <th>degree</th>\n",
       "      <th>spdeg</th>\n",
       "      <th>ballot</th>\n",
       "    </tr>\n",
       "  </thead>\n",
       "  <tbody>\n",
       "    <tr>\n",
       "      <th>1925</th>\n",
       "      <td>1973</td>\n",
       "      <td>313</td>\n",
       "      <td>Working full time</td>\n",
       "      <td>35.0</td>\n",
       "      <td>.i:  Inapplicable</td>\n",
       "      <td>.i:  Inapplicable</td>\n",
       "      <td>Someone else</td>\n",
       "      <td>Widowed</td>\n",
       "      <td>YES</td>\n",
       "      <td>.i:  Inapplicable</td>\n",
       "      <td>NaN</td>\n",
       "      <td>.i:  Inapplicable</td>\n",
       "      <td>.i:  Inapplicable</td>\n",
       "      <td>.i:  Inapplicable</td>\n",
       "      <td>.i:  Inapplicable</td>\n",
       "      <td>.i:  Inapplicable</td>\n",
       "      <td>High school</td>\n",
       "      <td>.i:  Inapplicable</td>\n",
       "      <td>.i:  Inapplicable</td>\n",
       "    </tr>\n",
       "    <tr>\n",
       "      <th>2076</th>\n",
       "      <td>1973</td>\n",
       "      <td>464</td>\n",
       "      <td>Working part time</td>\n",
       "      <td>25.0</td>\n",
       "      <td>.i:  Inapplicable</td>\n",
       "      <td>.i:  Inapplicable</td>\n",
       "      <td>Someone else</td>\n",
       "      <td>Widowed</td>\n",
       "      <td>YES</td>\n",
       "      <td>.i:  Inapplicable</td>\n",
       "      <td>NaN</td>\n",
       "      <td>.i:  Inapplicable</td>\n",
       "      <td>.i:  Inapplicable</td>\n",
       "      <td>.i:  Inapplicable</td>\n",
       "      <td>.i:  Inapplicable</td>\n",
       "      <td>.i:  Inapplicable</td>\n",
       "      <td>Graduate</td>\n",
       "      <td>.i:  Inapplicable</td>\n",
       "      <td>.i:  Inapplicable</td>\n",
       "    </tr>\n",
       "    <tr>\n",
       "      <th>2173</th>\n",
       "      <td>1973</td>\n",
       "      <td>561</td>\n",
       "      <td>Working full time</td>\n",
       "      <td>45.0</td>\n",
       "      <td>.i:  Inapplicable</td>\n",
       "      <td>.i:  Inapplicable</td>\n",
       "      <td>Self-employed</td>\n",
       "      <td>Widowed</td>\n",
       "      <td>YES</td>\n",
       "      <td>.i:  Inapplicable</td>\n",
       "      <td>NaN</td>\n",
       "      <td>.i:  Inapplicable</td>\n",
       "      <td>.i:  Inapplicable</td>\n",
       "      <td>.i:  Inapplicable</td>\n",
       "      <td>.i:  Inapplicable</td>\n",
       "      <td>.i:  Inapplicable</td>\n",
       "      <td>Less than high school</td>\n",
       "      <td>.i:  Inapplicable</td>\n",
       "      <td>.i:  Inapplicable</td>\n",
       "    </tr>\n",
       "    <tr>\n",
       "      <th>2485</th>\n",
       "      <td>1973</td>\n",
       "      <td>873</td>\n",
       "      <td>Working full time</td>\n",
       "      <td>30.0</td>\n",
       "      <td>.i:  Inapplicable</td>\n",
       "      <td>.i:  Inapplicable</td>\n",
       "      <td>Someone else</td>\n",
       "      <td>Widowed</td>\n",
       "      <td>YES</td>\n",
       "      <td>.i:  Inapplicable</td>\n",
       "      <td>NaN</td>\n",
       "      <td>.i:  Inapplicable</td>\n",
       "      <td>.i:  Inapplicable</td>\n",
       "      <td>.i:  Inapplicable</td>\n",
       "      <td>.i:  Inapplicable</td>\n",
       "      <td>.i:  Inapplicable</td>\n",
       "      <td>Bachelor's</td>\n",
       "      <td>.i:  Inapplicable</td>\n",
       "      <td>.i:  Inapplicable</td>\n",
       "    </tr>\n",
       "    <tr>\n",
       "      <th>2954</th>\n",
       "      <td>1973</td>\n",
       "      <td>1342</td>\n",
       "      <td>Working part time</td>\n",
       "      <td>12.0</td>\n",
       "      <td>.i:  Inapplicable</td>\n",
       "      <td>.i:  Inapplicable</td>\n",
       "      <td>Someone else</td>\n",
       "      <td>Widowed</td>\n",
       "      <td>YES</td>\n",
       "      <td>.i:  Inapplicable</td>\n",
       "      <td>NaN</td>\n",
       "      <td>.i:  Inapplicable</td>\n",
       "      <td>.i:  Inapplicable</td>\n",
       "      <td>.i:  Inapplicable</td>\n",
       "      <td>.i:  Inapplicable</td>\n",
       "      <td>.i:  Inapplicable</td>\n",
       "      <td>Less than high school</td>\n",
       "      <td>.i:  Inapplicable</td>\n",
       "      <td>.i:  Inapplicable</td>\n",
       "    </tr>\n",
       "  </tbody>\n",
       "</table>\n",
       "</div>"
      ],
      "text/plain": [
       "      year   id_            wrkstat  hrs1               hrs2  \\\n",
       "1925  1973   313  Working full time  35.0  .i:  Inapplicable   \n",
       "2076  1973   464  Working part time  25.0  .i:  Inapplicable   \n",
       "2173  1973   561  Working full time  45.0  .i:  Inapplicable   \n",
       "2485  1973   873  Working full time  30.0  .i:  Inapplicable   \n",
       "2954  1973  1342  Working part time  12.0  .i:  Inapplicable   \n",
       "\n",
       "                 evwork         wrkslf  marital divorce           spwrksta  \\\n",
       "1925  .i:  Inapplicable   Someone else  Widowed     YES  .i:  Inapplicable   \n",
       "2076  .i:  Inapplicable   Someone else  Widowed     YES  .i:  Inapplicable   \n",
       "2173  .i:  Inapplicable  Self-employed  Widowed     YES  .i:  Inapplicable   \n",
       "2485  .i:  Inapplicable   Someone else  Widowed     YES  .i:  Inapplicable   \n",
       "2954  .i:  Inapplicable   Someone else  Widowed     YES  .i:  Inapplicable   \n",
       "\n",
       "      sphrs1             sphrs2           spevwork           spwrkslf  \\\n",
       "1925     NaN  .i:  Inapplicable  .i:  Inapplicable  .i:  Inapplicable   \n",
       "2076     NaN  .i:  Inapplicable  .i:  Inapplicable  .i:  Inapplicable   \n",
       "2173     NaN  .i:  Inapplicable  .i:  Inapplicable  .i:  Inapplicable   \n",
       "2485     NaN  .i:  Inapplicable  .i:  Inapplicable  .i:  Inapplicable   \n",
       "2954     NaN  .i:  Inapplicable  .i:  Inapplicable  .i:  Inapplicable   \n",
       "\n",
       "                spocc10            spind10                 degree  \\\n",
       "1925  .i:  Inapplicable  .i:  Inapplicable            High school   \n",
       "2076  .i:  Inapplicable  .i:  Inapplicable               Graduate   \n",
       "2173  .i:  Inapplicable  .i:  Inapplicable  Less than high school   \n",
       "2485  .i:  Inapplicable  .i:  Inapplicable             Bachelor's   \n",
       "2954  .i:  Inapplicable  .i:  Inapplicable  Less than high school   \n",
       "\n",
       "                  spdeg             ballot  \n",
       "1925  .i:  Inapplicable  .i:  Inapplicable  \n",
       "2076  .i:  Inapplicable  .i:  Inapplicable  \n",
       "2173  .i:  Inapplicable  .i:  Inapplicable  \n",
       "2485  .i:  Inapplicable  .i:  Inapplicable  \n",
       "2954  .i:  Inapplicable  .i:  Inapplicable  "
      ]
     },
     "execution_count": 171,
     "metadata": {},
     "output_type": "execute_result"
    }
   ],
   "source": [
    "divorced_single_df = single_df.loc[single_df['divorce'] == 'YES']\n",
    "divorced_single_df = divorced_single_df[divorced_single_df['hrs1'].notna()]\n",
    "divorced_single_df.head()"
   ]
  },
  {
   "cell_type": "markdown",
   "metadata": {},
   "source": [
    "#### divorced_remarried_df"
   ]
  },
  {
   "cell_type": "code",
   "execution_count": 172,
   "metadata": {},
   "outputs": [
    {
     "data": {
      "text/html": [
       "<div>\n",
       "<style scoped>\n",
       "    .dataframe tbody tr th:only-of-type {\n",
       "        vertical-align: middle;\n",
       "    }\n",
       "\n",
       "    .dataframe tbody tr th {\n",
       "        vertical-align: top;\n",
       "    }\n",
       "\n",
       "    .dataframe thead th {\n",
       "        text-align: right;\n",
       "    }\n",
       "</style>\n",
       "<table border=\"1\" class=\"dataframe\">\n",
       "  <thead>\n",
       "    <tr style=\"text-align: right;\">\n",
       "      <th></th>\n",
       "      <th>year</th>\n",
       "      <th>id_</th>\n",
       "      <th>wrkstat</th>\n",
       "      <th>hrs1</th>\n",
       "      <th>hrs2</th>\n",
       "      <th>evwork</th>\n",
       "      <th>wrkslf</th>\n",
       "      <th>marital</th>\n",
       "      <th>divorce</th>\n",
       "      <th>spwrksta</th>\n",
       "      <th>sphrs1</th>\n",
       "      <th>sphrs2</th>\n",
       "      <th>spevwork</th>\n",
       "      <th>spwrkslf</th>\n",
       "      <th>spocc10</th>\n",
       "      <th>spind10</th>\n",
       "      <th>degree</th>\n",
       "      <th>spdeg</th>\n",
       "      <th>ballot</th>\n",
       "    </tr>\n",
       "  </thead>\n",
       "  <tbody>\n",
       "    <tr>\n",
       "      <th>1739</th>\n",
       "      <td>1973</td>\n",
       "      <td>127</td>\n",
       "      <td>Working part time</td>\n",
       "      <td>27.0</td>\n",
       "      <td>.i:  Inapplicable</td>\n",
       "      <td>.i:  Inapplicable</td>\n",
       "      <td>Self-employed</td>\n",
       "      <td>Married</td>\n",
       "      <td>YES</td>\n",
       "      <td>WORKING FULLTIME</td>\n",
       "      <td>50.0</td>\n",
       "      <td>.i:  Inapplicable</td>\n",
       "      <td>.i:  Inapplicable</td>\n",
       "      <td>SOMEONE ELSE</td>\n",
       "      <td>Mechanical engineers</td>\n",
       "      <td>Sporting and athletic goods, and doll, toy and...</td>\n",
       "      <td>High school</td>\n",
       "      <td>HIGH SCHOOL</td>\n",
       "      <td>.i:  Inapplicable</td>\n",
       "    </tr>\n",
       "    <tr>\n",
       "      <th>1777</th>\n",
       "      <td>1973</td>\n",
       "      <td>165</td>\n",
       "      <td>Working full time</td>\n",
       "      <td>45.0</td>\n",
       "      <td>.i:  Inapplicable</td>\n",
       "      <td>.i:  Inapplicable</td>\n",
       "      <td>Someone else</td>\n",
       "      <td>Married</td>\n",
       "      <td>YES</td>\n",
       "      <td>WORKING FULLTIME</td>\n",
       "      <td>48.0</td>\n",
       "      <td>.i:  Inapplicable</td>\n",
       "      <td>.i:  Inapplicable</td>\n",
       "      <td>SOMEONE ELSE</td>\n",
       "      <td>First-line supervisors of production and opera...</td>\n",
       "      <td>.n:  No answer</td>\n",
       "      <td>Less than high school</td>\n",
       "      <td>HIGH SCHOOL</td>\n",
       "      <td>.i:  Inapplicable</td>\n",
       "    </tr>\n",
       "    <tr>\n",
       "      <th>1780</th>\n",
       "      <td>1973</td>\n",
       "      <td>168</td>\n",
       "      <td>Working full time</td>\n",
       "      <td>84.0</td>\n",
       "      <td>.i:  Inapplicable</td>\n",
       "      <td>.i:  Inapplicable</td>\n",
       "      <td>Self-employed</td>\n",
       "      <td>Married</td>\n",
       "      <td>YES</td>\n",
       "      <td>WORKING FULLTIME</td>\n",
       "      <td>84.0</td>\n",
       "      <td>.i:  Inapplicable</td>\n",
       "      <td>.i:  Inapplicable</td>\n",
       "      <td>SELF-EMPLOYED</td>\n",
       "      <td>First-line supervisors of retail sales workers</td>\n",
       "      <td>Grocery stores</td>\n",
       "      <td>High school</td>\n",
       "      <td>LT HIGH SCHOOL</td>\n",
       "      <td>.i:  Inapplicable</td>\n",
       "    </tr>\n",
       "    <tr>\n",
       "      <th>1791</th>\n",
       "      <td>1973</td>\n",
       "      <td>179</td>\n",
       "      <td>Working full time</td>\n",
       "      <td>40.0</td>\n",
       "      <td>.i:  Inapplicable</td>\n",
       "      <td>.i:  Inapplicable</td>\n",
       "      <td>Someone else</td>\n",
       "      <td>Married</td>\n",
       "      <td>YES</td>\n",
       "      <td>WORKING FULLTIME</td>\n",
       "      <td>45.0</td>\n",
       "      <td>.i:  Inapplicable</td>\n",
       "      <td>.i:  Inapplicable</td>\n",
       "      <td>SOMEONE ELSE</td>\n",
       "      <td>Shoe machine operators and tenders</td>\n",
       "      <td>Footwear manufacturing</td>\n",
       "      <td>Less than high school</td>\n",
       "      <td>HIGH SCHOOL</td>\n",
       "      <td>.i:  Inapplicable</td>\n",
       "    </tr>\n",
       "    <tr>\n",
       "      <th>1808</th>\n",
       "      <td>1973</td>\n",
       "      <td>196</td>\n",
       "      <td>Working full time</td>\n",
       "      <td>40.0</td>\n",
       "      <td>.i:  Inapplicable</td>\n",
       "      <td>.i:  Inapplicable</td>\n",
       "      <td>Self-employed</td>\n",
       "      <td>Married</td>\n",
       "      <td>YES</td>\n",
       "      <td>WORKING FULLTIME</td>\n",
       "      <td>40.0</td>\n",
       "      <td>.i:  Inapplicable</td>\n",
       "      <td>.i:  Inapplicable</td>\n",
       "      <td>SOMEONE ELSE</td>\n",
       "      <td>Registered nurses</td>\n",
       "      <td>Administration of human resource programs</td>\n",
       "      <td>Bachelor's</td>\n",
       "      <td>HIGH SCHOOL</td>\n",
       "      <td>.i:  Inapplicable</td>\n",
       "    </tr>\n",
       "  </tbody>\n",
       "</table>\n",
       "</div>"
      ],
      "text/plain": [
       "      year  id_            wrkstat  hrs1               hrs2  \\\n",
       "1739  1973  127  Working part time  27.0  .i:  Inapplicable   \n",
       "1777  1973  165  Working full time  45.0  .i:  Inapplicable   \n",
       "1780  1973  168  Working full time  84.0  .i:  Inapplicable   \n",
       "1791  1973  179  Working full time  40.0  .i:  Inapplicable   \n",
       "1808  1973  196  Working full time  40.0  .i:  Inapplicable   \n",
       "\n",
       "                 evwork         wrkslf  marital divorce          spwrksta  \\\n",
       "1739  .i:  Inapplicable  Self-employed  Married     YES  WORKING FULLTIME   \n",
       "1777  .i:  Inapplicable   Someone else  Married     YES  WORKING FULLTIME   \n",
       "1780  .i:  Inapplicable  Self-employed  Married     YES  WORKING FULLTIME   \n",
       "1791  .i:  Inapplicable   Someone else  Married     YES  WORKING FULLTIME   \n",
       "1808  .i:  Inapplicable  Self-employed  Married     YES  WORKING FULLTIME   \n",
       "\n",
       "      sphrs1             sphrs2           spevwork       spwrkslf  \\\n",
       "1739    50.0  .i:  Inapplicable  .i:  Inapplicable   SOMEONE ELSE   \n",
       "1777    48.0  .i:  Inapplicable  .i:  Inapplicable   SOMEONE ELSE   \n",
       "1780    84.0  .i:  Inapplicable  .i:  Inapplicable  SELF-EMPLOYED   \n",
       "1791    45.0  .i:  Inapplicable  .i:  Inapplicable   SOMEONE ELSE   \n",
       "1808    40.0  .i:  Inapplicable  .i:  Inapplicable   SOMEONE ELSE   \n",
       "\n",
       "                                                spocc10  \\\n",
       "1739                               Mechanical engineers   \n",
       "1777  First-line supervisors of production and opera...   \n",
       "1780     First-line supervisors of retail sales workers   \n",
       "1791                 Shoe machine operators and tenders   \n",
       "1808                                  Registered nurses   \n",
       "\n",
       "                                                spind10  \\\n",
       "1739  Sporting and athletic goods, and doll, toy and...   \n",
       "1777                                     .n:  No answer   \n",
       "1780                                     Grocery stores   \n",
       "1791                             Footwear manufacturing   \n",
       "1808          Administration of human resource programs   \n",
       "\n",
       "                     degree           spdeg             ballot  \n",
       "1739            High school     HIGH SCHOOL  .i:  Inapplicable  \n",
       "1777  Less than high school     HIGH SCHOOL  .i:  Inapplicable  \n",
       "1780            High school  LT HIGH SCHOOL  .i:  Inapplicable  \n",
       "1791  Less than high school     HIGH SCHOOL  .i:  Inapplicable  \n",
       "1808             Bachelor's     HIGH SCHOOL  .i:  Inapplicable  "
      ]
     },
     "execution_count": 172,
     "metadata": {},
     "output_type": "execute_result"
    }
   ],
   "source": [
    "divorced_remarried_df = df.loc[df['marital'] == 'Married']\n",
    "divorced_remarried_df = divorced_remarried_df.loc[divorced_remarried_df['divorce'] == 'YES']\n",
    "divorced_remarried_df = divorced_remarried_df.dropna()\n",
    "divorced_remarried_df.head()"
   ]
  },
  {
   "cell_type": "markdown",
   "metadata": {},
   "source": [
    "#### always_single_df"
   ]
  },
  {
   "cell_type": "code",
   "execution_count": 173,
   "metadata": {},
   "outputs": [
    {
     "data": {
      "text/html": [
       "<div>\n",
       "<style scoped>\n",
       "    .dataframe tbody tr th:only-of-type {\n",
       "        vertical-align: middle;\n",
       "    }\n",
       "\n",
       "    .dataframe tbody tr th {\n",
       "        vertical-align: top;\n",
       "    }\n",
       "\n",
       "    .dataframe thead th {\n",
       "        text-align: right;\n",
       "    }\n",
       "</style>\n",
       "<table border=\"1\" class=\"dataframe\">\n",
       "  <thead>\n",
       "    <tr style=\"text-align: right;\">\n",
       "      <th></th>\n",
       "      <th>year</th>\n",
       "      <th>id_</th>\n",
       "      <th>wrkstat</th>\n",
       "      <th>hrs1</th>\n",
       "      <th>hrs2</th>\n",
       "      <th>evwork</th>\n",
       "      <th>wrkslf</th>\n",
       "      <th>marital</th>\n",
       "      <th>divorce</th>\n",
       "      <th>spwrksta</th>\n",
       "      <th>sphrs1</th>\n",
       "      <th>sphrs2</th>\n",
       "      <th>spevwork</th>\n",
       "      <th>spwrkslf</th>\n",
       "      <th>spocc10</th>\n",
       "      <th>spind10</th>\n",
       "      <th>degree</th>\n",
       "      <th>spdeg</th>\n",
       "      <th>ballot</th>\n",
       "    </tr>\n",
       "  </thead>\n",
       "  <tbody>\n",
       "    <tr>\n",
       "      <th>1620</th>\n",
       "      <td>1973</td>\n",
       "      <td>8</td>\n",
       "      <td>Working full time</td>\n",
       "      <td>35.0</td>\n",
       "      <td>.i:  Inapplicable</td>\n",
       "      <td>.i:  Inapplicable</td>\n",
       "      <td>Someone else</td>\n",
       "      <td>Never married</td>\n",
       "      <td>NaN</td>\n",
       "      <td>.i:  Inapplicable</td>\n",
       "      <td>NaN</td>\n",
       "      <td>.i:  Inapplicable</td>\n",
       "      <td>.i:  Inapplicable</td>\n",
       "      <td>.i:  Inapplicable</td>\n",
       "      <td>.i:  Inapplicable</td>\n",
       "      <td>.i:  Inapplicable</td>\n",
       "      <td>Bachelor's</td>\n",
       "      <td>.i:  Inapplicable</td>\n",
       "      <td>.i:  Inapplicable</td>\n",
       "    </tr>\n",
       "    <tr>\n",
       "      <th>1642</th>\n",
       "      <td>1973</td>\n",
       "      <td>30</td>\n",
       "      <td>Working full time</td>\n",
       "      <td>40.0</td>\n",
       "      <td>.i:  Inapplicable</td>\n",
       "      <td>.i:  Inapplicable</td>\n",
       "      <td>Someone else</td>\n",
       "      <td>Never married</td>\n",
       "      <td>NaN</td>\n",
       "      <td>.i:  Inapplicable</td>\n",
       "      <td>NaN</td>\n",
       "      <td>.i:  Inapplicable</td>\n",
       "      <td>.i:  Inapplicable</td>\n",
       "      <td>.i:  Inapplicable</td>\n",
       "      <td>.i:  Inapplicable</td>\n",
       "      <td>.i:  Inapplicable</td>\n",
       "      <td>High school</td>\n",
       "      <td>.i:  Inapplicable</td>\n",
       "      <td>.i:  Inapplicable</td>\n",
       "    </tr>\n",
       "    <tr>\n",
       "      <th>1659</th>\n",
       "      <td>1973</td>\n",
       "      <td>47</td>\n",
       "      <td>Working full time</td>\n",
       "      <td>50.0</td>\n",
       "      <td>.i:  Inapplicable</td>\n",
       "      <td>.i:  Inapplicable</td>\n",
       "      <td>Someone else</td>\n",
       "      <td>Never married</td>\n",
       "      <td>NaN</td>\n",
       "      <td>.i:  Inapplicable</td>\n",
       "      <td>NaN</td>\n",
       "      <td>.i:  Inapplicable</td>\n",
       "      <td>.i:  Inapplicable</td>\n",
       "      <td>.i:  Inapplicable</td>\n",
       "      <td>.i:  Inapplicable</td>\n",
       "      <td>.i:  Inapplicable</td>\n",
       "      <td>Bachelor's</td>\n",
       "      <td>.i:  Inapplicable</td>\n",
       "      <td>.i:  Inapplicable</td>\n",
       "    </tr>\n",
       "    <tr>\n",
       "      <th>1675</th>\n",
       "      <td>1973</td>\n",
       "      <td>63</td>\n",
       "      <td>Working full time</td>\n",
       "      <td>60.0</td>\n",
       "      <td>.i:  Inapplicable</td>\n",
       "      <td>.i:  Inapplicable</td>\n",
       "      <td>Someone else</td>\n",
       "      <td>Never married</td>\n",
       "      <td>NaN</td>\n",
       "      <td>.i:  Inapplicable</td>\n",
       "      <td>NaN</td>\n",
       "      <td>.i:  Inapplicable</td>\n",
       "      <td>.i:  Inapplicable</td>\n",
       "      <td>.i:  Inapplicable</td>\n",
       "      <td>.i:  Inapplicable</td>\n",
       "      <td>.i:  Inapplicable</td>\n",
       "      <td>High school</td>\n",
       "      <td>.i:  Inapplicable</td>\n",
       "      <td>.i:  Inapplicable</td>\n",
       "    </tr>\n",
       "    <tr>\n",
       "      <th>1682</th>\n",
       "      <td>1973</td>\n",
       "      <td>70</td>\n",
       "      <td>Working full time</td>\n",
       "      <td>40.0</td>\n",
       "      <td>.i:  Inapplicable</td>\n",
       "      <td>.i:  Inapplicable</td>\n",
       "      <td>Someone else</td>\n",
       "      <td>Never married</td>\n",
       "      <td>NaN</td>\n",
       "      <td>.i:  Inapplicable</td>\n",
       "      <td>NaN</td>\n",
       "      <td>.i:  Inapplicable</td>\n",
       "      <td>.i:  Inapplicable</td>\n",
       "      <td>.i:  Inapplicable</td>\n",
       "      <td>.i:  Inapplicable</td>\n",
       "      <td>.i:  Inapplicable</td>\n",
       "      <td>Less than high school</td>\n",
       "      <td>.i:  Inapplicable</td>\n",
       "      <td>.i:  Inapplicable</td>\n",
       "    </tr>\n",
       "  </tbody>\n",
       "</table>\n",
       "</div>"
      ],
      "text/plain": [
       "      year  id_            wrkstat  hrs1               hrs2  \\\n",
       "1620  1973    8  Working full time  35.0  .i:  Inapplicable   \n",
       "1642  1973   30  Working full time  40.0  .i:  Inapplicable   \n",
       "1659  1973   47  Working full time  50.0  .i:  Inapplicable   \n",
       "1675  1973   63  Working full time  60.0  .i:  Inapplicable   \n",
       "1682  1973   70  Working full time  40.0  .i:  Inapplicable   \n",
       "\n",
       "                 evwork        wrkslf        marital divorce  \\\n",
       "1620  .i:  Inapplicable  Someone else  Never married     NaN   \n",
       "1642  .i:  Inapplicable  Someone else  Never married     NaN   \n",
       "1659  .i:  Inapplicable  Someone else  Never married     NaN   \n",
       "1675  .i:  Inapplicable  Someone else  Never married     NaN   \n",
       "1682  .i:  Inapplicable  Someone else  Never married     NaN   \n",
       "\n",
       "               spwrksta  sphrs1             sphrs2           spevwork  \\\n",
       "1620  .i:  Inapplicable     NaN  .i:  Inapplicable  .i:  Inapplicable   \n",
       "1642  .i:  Inapplicable     NaN  .i:  Inapplicable  .i:  Inapplicable   \n",
       "1659  .i:  Inapplicable     NaN  .i:  Inapplicable  .i:  Inapplicable   \n",
       "1675  .i:  Inapplicable     NaN  .i:  Inapplicable  .i:  Inapplicable   \n",
       "1682  .i:  Inapplicable     NaN  .i:  Inapplicable  .i:  Inapplicable   \n",
       "\n",
       "               spwrkslf            spocc10            spind10  \\\n",
       "1620  .i:  Inapplicable  .i:  Inapplicable  .i:  Inapplicable   \n",
       "1642  .i:  Inapplicable  .i:  Inapplicable  .i:  Inapplicable   \n",
       "1659  .i:  Inapplicable  .i:  Inapplicable  .i:  Inapplicable   \n",
       "1675  .i:  Inapplicable  .i:  Inapplicable  .i:  Inapplicable   \n",
       "1682  .i:  Inapplicable  .i:  Inapplicable  .i:  Inapplicable   \n",
       "\n",
       "                     degree              spdeg             ballot  \n",
       "1620             Bachelor's  .i:  Inapplicable  .i:  Inapplicable  \n",
       "1642            High school  .i:  Inapplicable  .i:  Inapplicable  \n",
       "1659             Bachelor's  .i:  Inapplicable  .i:  Inapplicable  \n",
       "1675            High school  .i:  Inapplicable  .i:  Inapplicable  \n",
       "1682  Less than high school  .i:  Inapplicable  .i:  Inapplicable  "
      ]
     },
     "execution_count": 173,
     "metadata": {},
     "output_type": "execute_result"
    }
   ],
   "source": [
    "always_single_df = single_df.loc[single_df['marital'] == 'Never married']\n",
    "always_single_df = always_single_df[always_single_df['hrs1'].notna()]\n",
    "always_single_df.head()"
   ]
  },
  {
   "cell_type": "markdown",
   "metadata": {},
   "source": [
    "#### divorced_df"
   ]
  },
  {
   "cell_type": "code",
   "execution_count": 174,
   "metadata": {},
   "outputs": [
    {
     "data": {
      "text/html": [
       "<div>\n",
       "<style scoped>\n",
       "    .dataframe tbody tr th:only-of-type {\n",
       "        vertical-align: middle;\n",
       "    }\n",
       "\n",
       "    .dataframe tbody tr th {\n",
       "        vertical-align: top;\n",
       "    }\n",
       "\n",
       "    .dataframe thead th {\n",
       "        text-align: right;\n",
       "    }\n",
       "</style>\n",
       "<table border=\"1\" class=\"dataframe\">\n",
       "  <thead>\n",
       "    <tr style=\"text-align: right;\">\n",
       "      <th></th>\n",
       "      <th>year</th>\n",
       "      <th>id_</th>\n",
       "      <th>wrkstat</th>\n",
       "      <th>hrs1</th>\n",
       "      <th>hrs2</th>\n",
       "      <th>evwork</th>\n",
       "      <th>wrkslf</th>\n",
       "      <th>marital</th>\n",
       "      <th>divorce</th>\n",
       "      <th>spwrksta</th>\n",
       "      <th>sphrs1</th>\n",
       "      <th>sphrs2</th>\n",
       "      <th>spevwork</th>\n",
       "      <th>spwrkslf</th>\n",
       "      <th>spocc10</th>\n",
       "      <th>spind10</th>\n",
       "      <th>degree</th>\n",
       "      <th>spdeg</th>\n",
       "      <th>ballot</th>\n",
       "    </tr>\n",
       "  </thead>\n",
       "  <tbody>\n",
       "    <tr>\n",
       "      <th>1640</th>\n",
       "      <td>1973</td>\n",
       "      <td>28</td>\n",
       "      <td>Working part time</td>\n",
       "      <td>27.0</td>\n",
       "      <td>.i:  Inapplicable</td>\n",
       "      <td>.i:  Inapplicable</td>\n",
       "      <td>Someone else</td>\n",
       "      <td>Married</td>\n",
       "      <td>YES</td>\n",
       "      <td>TEMP NOT WORKING</td>\n",
       "      <td>NaN</td>\n",
       "      <td>73</td>\n",
       "      <td>.i:  Inapplicable</td>\n",
       "      <td>SOMEONE ELSE</td>\n",
       "      <td>Driver/sales workers and truck drivers</td>\n",
       "      <td>Truck transportation</td>\n",
       "      <td>High school</td>\n",
       "      <td>LT HIGH SCHOOL</td>\n",
       "      <td>.i:  Inapplicable</td>\n",
       "    </tr>\n",
       "    <tr>\n",
       "      <th>1697</th>\n",
       "      <td>1973</td>\n",
       "      <td>85</td>\n",
       "      <td>Working full time</td>\n",
       "      <td>60.0</td>\n",
       "      <td>.i:  Inapplicable</td>\n",
       "      <td>.i:  Inapplicable</td>\n",
       "      <td>Self-employed</td>\n",
       "      <td>Married</td>\n",
       "      <td>YES</td>\n",
       "      <td>KEEPING HOUSE</td>\n",
       "      <td>NaN</td>\n",
       "      <td>.i:  Inapplicable</td>\n",
       "      <td>YES</td>\n",
       "      <td>SOMEONE ELSE</td>\n",
       "      <td>Nursing, psychiatric, and home health aides</td>\n",
       "      <td>Nursing care facilities</td>\n",
       "      <td>Less than high school</td>\n",
       "      <td>LT HIGH SCHOOL</td>\n",
       "      <td>.i:  Inapplicable</td>\n",
       "    </tr>\n",
       "    <tr>\n",
       "      <th>1720</th>\n",
       "      <td>1973</td>\n",
       "      <td>108</td>\n",
       "      <td>Working full time</td>\n",
       "      <td>50.0</td>\n",
       "      <td>.i:  Inapplicable</td>\n",
       "      <td>.i:  Inapplicable</td>\n",
       "      <td>Someone else</td>\n",
       "      <td>Married</td>\n",
       "      <td>YES</td>\n",
       "      <td>KEEPING HOUSE</td>\n",
       "      <td>NaN</td>\n",
       "      <td>.i:  Inapplicable</td>\n",
       "      <td>NO</td>\n",
       "      <td>.i:  Inapplicable</td>\n",
       "      <td>.i:  Inapplicable</td>\n",
       "      <td>.i:  Inapplicable</td>\n",
       "      <td>High school</td>\n",
       "      <td>HIGH SCHOOL</td>\n",
       "      <td>.i:  Inapplicable</td>\n",
       "    </tr>\n",
       "    <tr>\n",
       "      <th>1739</th>\n",
       "      <td>1973</td>\n",
       "      <td>127</td>\n",
       "      <td>Working part time</td>\n",
       "      <td>27.0</td>\n",
       "      <td>.i:  Inapplicable</td>\n",
       "      <td>.i:  Inapplicable</td>\n",
       "      <td>Self-employed</td>\n",
       "      <td>Married</td>\n",
       "      <td>YES</td>\n",
       "      <td>WORKING FULLTIME</td>\n",
       "      <td>50.0</td>\n",
       "      <td>.i:  Inapplicable</td>\n",
       "      <td>.i:  Inapplicable</td>\n",
       "      <td>SOMEONE ELSE</td>\n",
       "      <td>Mechanical engineers</td>\n",
       "      <td>Sporting and athletic goods, and doll, toy and...</td>\n",
       "      <td>High school</td>\n",
       "      <td>HIGH SCHOOL</td>\n",
       "      <td>.i:  Inapplicable</td>\n",
       "    </tr>\n",
       "    <tr>\n",
       "      <th>1747</th>\n",
       "      <td>1973</td>\n",
       "      <td>135</td>\n",
       "      <td>Working full time</td>\n",
       "      <td>40.0</td>\n",
       "      <td>.i:  Inapplicable</td>\n",
       "      <td>.i:  Inapplicable</td>\n",
       "      <td>Someone else</td>\n",
       "      <td>Married</td>\n",
       "      <td>YES</td>\n",
       "      <td>OTHER</td>\n",
       "      <td>NaN</td>\n",
       "      <td>.i:  Inapplicable</td>\n",
       "      <td>YES</td>\n",
       "      <td>SOMEONE ELSE</td>\n",
       "      <td>Driver/sales workers and truck drivers</td>\n",
       "      <td>.u:  Uncodable</td>\n",
       "      <td>Associate/junior college</td>\n",
       "      <td>LT HIGH SCHOOL</td>\n",
       "      <td>.i:  Inapplicable</td>\n",
       "    </tr>\n",
       "  </tbody>\n",
       "</table>\n",
       "</div>"
      ],
      "text/plain": [
       "      year  id_            wrkstat  hrs1               hrs2  \\\n",
       "1640  1973   28  Working part time  27.0  .i:  Inapplicable   \n",
       "1697  1973   85  Working full time  60.0  .i:  Inapplicable   \n",
       "1720  1973  108  Working full time  50.0  .i:  Inapplicable   \n",
       "1739  1973  127  Working part time  27.0  .i:  Inapplicable   \n",
       "1747  1973  135  Working full time  40.0  .i:  Inapplicable   \n",
       "\n",
       "                 evwork         wrkslf  marital divorce          spwrksta  \\\n",
       "1640  .i:  Inapplicable   Someone else  Married     YES  TEMP NOT WORKING   \n",
       "1697  .i:  Inapplicable  Self-employed  Married     YES     KEEPING HOUSE   \n",
       "1720  .i:  Inapplicable   Someone else  Married     YES     KEEPING HOUSE   \n",
       "1739  .i:  Inapplicable  Self-employed  Married     YES  WORKING FULLTIME   \n",
       "1747  .i:  Inapplicable   Someone else  Married     YES             OTHER   \n",
       "\n",
       "      sphrs1             sphrs2           spevwork           spwrkslf  \\\n",
       "1640     NaN                 73  .i:  Inapplicable       SOMEONE ELSE   \n",
       "1697     NaN  .i:  Inapplicable                YES       SOMEONE ELSE   \n",
       "1720     NaN  .i:  Inapplicable                 NO  .i:  Inapplicable   \n",
       "1739    50.0  .i:  Inapplicable  .i:  Inapplicable       SOMEONE ELSE   \n",
       "1747     NaN  .i:  Inapplicable                YES       SOMEONE ELSE   \n",
       "\n",
       "                                          spocc10  \\\n",
       "1640       Driver/sales workers and truck drivers   \n",
       "1697  Nursing, psychiatric, and home health aides   \n",
       "1720                            .i:  Inapplicable   \n",
       "1739                         Mechanical engineers   \n",
       "1747       Driver/sales workers and truck drivers   \n",
       "\n",
       "                                                spind10  \\\n",
       "1640                               Truck transportation   \n",
       "1697                            Nursing care facilities   \n",
       "1720                                  .i:  Inapplicable   \n",
       "1739  Sporting and athletic goods, and doll, toy and...   \n",
       "1747                                     .u:  Uncodable   \n",
       "\n",
       "                        degree           spdeg             ballot  \n",
       "1640               High school  LT HIGH SCHOOL  .i:  Inapplicable  \n",
       "1697     Less than high school  LT HIGH SCHOOL  .i:  Inapplicable  \n",
       "1720               High school     HIGH SCHOOL  .i:  Inapplicable  \n",
       "1739               High school     HIGH SCHOOL  .i:  Inapplicable  \n",
       "1747  Associate/junior college  LT HIGH SCHOOL  .i:  Inapplicable  "
      ]
     },
     "execution_count": 174,
     "metadata": {},
     "output_type": "execute_result"
    }
   ],
   "source": [
    "divorced_df = df.loc[df['divorce'] == 'YES']\n",
    "divorced_df = divorced_df[divorced_df['hrs1'].notna()]\n",
    "divorced_df.head()"
   ]
  },
  {
   "cell_type": "markdown",
   "metadata": {},
   "source": [
    "## Data Visualization"
   ]
  },
  {
   "cell_type": "code",
   "execution_count": 175,
   "metadata": {
    "colab": {
     "base_uri": "https://localhost:8080/",
     "height": 430
    },
    "id": "kT62ndN8D4q-",
    "outputId": "badbd753-7267-41ba-fd0c-f4649d42b5d4"
   },
   "outputs": [
    {
     "data": {
      "image/png": "[encoded data removed]",
      "text/plain": [
       "<Figure size 432x288 with 1 Axes>"
      ]
     },
     "metadata": {
      "needs_background": "light"
     },
     "output_type": "display_data"
    }
   ],
   "source": [
    "sns.boxplot(data=married_df, y='hrs1')\n",
    "plt.show()"
   ]
  },
  {
   "cell_type": "code",
   "execution_count": 176,
   "metadata": {},
   "outputs": [
    {
     "data": {
      "image/png": "[encoded data removed]",
      "text/plain": [
       "<Figure size 432x288 with 1 Axes>"
      ]
     },
     "metadata": {
      "needs_background": "light"
     },
     "output_type": "display_data"
    }
   ],
   "source": [
    "sns.boxplot(data=single_df, y=\"hrs1\")\n",
    "plt.show()"
   ]
  },
  {
   "cell_type": "code",
   "execution_count": 177,
   "metadata": {
    "colab": {
     "base_uri": "https://localhost:8080/",
     "height": 430
    },
    "id": "xQOsg_RQIhx7",
    "outputId": "e723d457-f651-4fe5-eb49-ed4c40fae42e"
   },
   "outputs": [
    {
     "data": {
      "image/png": "[encoded data removed]",
      "text/plain": [
       "<Figure size 432x288 with 1 Axes>"
      ]
     },
     "metadata": {
      "needs_background": "light"
     },
     "output_type": "display_data"
    }
   ],
   "source": [
    "sns.boxplot(data=divorced_single_df, y=\"hrs1\")\n",
    "plt.show()"
   ]
  },
  {
   "cell_type": "code",
   "execution_count": 178,
   "metadata": {
    "colab": {
     "base_uri": "https://localhost:8080/",
     "height": 430
    },
    "id": "oCqQR-pPJGZo",
    "outputId": "860beeae-db52-4e38-ee45-7b0b56ebfc61"
   },
   "outputs": [
    {
     "data": {
      "image/png": "[encoded data removed]",
      "text/plain": [
       "<Figure size 432x288 with 1 Axes>"
      ]
     },
     "metadata": {
      "needs_background": "light"
     },
     "output_type": "display_data"
    }
   ],
   "source": [
    "sns.boxplot(data=always_single_df, y='hrs1')\n",
    "plt.show()"
   ]
  },
  {
   "cell_type": "code",
   "execution_count": 179,
   "metadata": {
    "colab": {
     "base_uri": "https://localhost:8080/",
     "height": 430
    },
    "id": "UkuCl_i1Jn67",
    "outputId": "69499386-3375-436e-e5c3-05504deccc69"
   },
   "outputs": [
    {
     "data": {
      "image/png": "[encoded data removed]",
      "text/plain": [
       "<Figure size 432x288 with 1 Axes>"
      ]
     },
     "metadata": {
      "needs_background": "light"
     },
     "output_type": "display_data"
    }
   ],
   "source": [
    "sns.boxplot(data=divorced_remarried_df, y='hrs1')\n",
    "plt.show()"
   ]
  },
  {
   "cell_type": "code",
   "execution_count": 180,
   "metadata": {
    "colab": {
     "base_uri": "https://localhost:8080/",
     "height": 430
    },
    "id": "rtbCQBwaLwka",
    "outputId": "817eb085-5200-462c-9543-8a1912ccc48c"
   },
   "outputs": [
    {
     "data": {
      "image/png": "[encoded data removed]",
      "text/plain": [
       "<Figure size 432x288 with 1 Axes>"
      ]
     },
     "metadata": {
      "needs_background": "light"
     },
     "output_type": "display_data"
    }
   ],
   "source": [
    "sns.boxplot(data=divorced_df, y='hrs1')\n",
    "plt.show()"
   ]
  },
  {
   "cell_type": "code",
   "execution_count": 182,
   "metadata": {
    "colab": {
     "base_uri": "https://localhost:8080/",
     "height": 466
    },
    "id": "_vzshrrbMrZE",
    "outputId": "07727b9a-7cfe-4cbc-9d73-cc52261c55d3"
   },
   "outputs": [
    {
     "data": {
      "image/png": "[encoded data removed]",
      "text/plain": [
       "<Figure size 432x288 with 1 Axes>"
      ]
     },
     "metadata": {
      "needs_background": "light"
     },
     "output_type": "display_data"
    }
   ],
   "source": [
    "sns.scatterplot(data = df_usable, x = 'hrs1', y='sphrs1')\n",
    "plt.show()"
   ]
  },
  {
   "cell_type": "code",
   "execution_count": 183,
   "metadata": {
    "colab": {
     "base_uri": "https://localhost:8080/",
     "height": 523
    },
    "id": "vW0XP1VZOQnv",
    "outputId": "ee158136-f709-4e27-d0cd-3111344f05e9"
   },
   "outputs": [
    {
     "data": {
      "image/png": "[encoded data removed]",
      "text/plain": [
       "<Figure size 414.5x360 with 1 Axes>"
      ]
     },
     "metadata": {
      "needs_background": "light"
     },
     "output_type": "display_data"
    }
   ],
   "source": [
    "sns.lmplot(data=df_usable, x=\"hrs1\", y=\"sphrs1\", hue = \"divorce\", scatter = False)\n",
    "plt.show()"
   ]
  },
  {
   "cell_type": "code",
   "execution_count": 184,
   "metadata": {
    "colab": {
     "base_uri": "https://localhost:8080/",
     "height": 466
    },
    "id": "0dqPizelfdEq",
    "outputId": "aadfe96f-436b-48e8-84ae-64bdcd344646"
   },
   "outputs": [
    {
     "data": {
      "image/png": "[encoded data removed]",
      "text/plain": [
       "<Figure size 432x288 with 1 Axes>"
      ]
     },
     "metadata": {
      "needs_background": "light"
     },
     "output_type": "display_data"
    }
   ],
   "source": [
    "x, y, hue = \"degree\", \"proportion\", \"marital\"\n",
    "\n",
    "(df[x]\n",
    " .groupby(df[hue])\n",
    " .value_counts(normalize=True)\n",
    " .rename(y)\n",
    " .reset_index()\n",
    " .pipe((sns.barplot, \"data\"), x=x, y=y, hue=hue))\n",
    "plt.show()"
   ]
  },
  {
   "cell_type": "code",
   "execution_count": 185,
   "metadata": {
    "colab": {
     "base_uri": "https://localhost:8080/",
     "height": 467
    },
    "id": "gveKmmjomxT0",
    "outputId": "e0950055-928b-491c-890e-5ef2308de1e8"
   },
   "outputs": [
    {
     "data": {
      "image/png": "[encoded data removed]",
      "text/plain": [
       "<Figure size 432x288 with 1 Axes>"
      ]
     },
     "metadata": {
      "needs_background": "light"
     },
     "output_type": "display_data"
    }
   ],
   "source": [
    "sns.barplot(data = df, x = 'degree', y = 'hrs1', hue = 'marital')\n",
    "plt.show()"
   ]
  },
  {
   "cell_type": "code",
   "execution_count": 187,
   "metadata": {
    "colab": {
     "base_uri": "https://localhost:8080/",
     "height": 466
    },
    "id": "QE7-2OPRo7YT",
    "outputId": "b8d84589-6c6d-4940-b9d4-8df9d69ba8f8"
   },
   "outputs": [
    {
     "data": {
      "image/png": "[encoded data removed]",
      "text/plain": [
       "<Figure size 432x288 with 1 Axes>"
      ]
     },
     "metadata": {
      "needs_background": "light"
     },
     "output_type": "display_data"
    }
   ],
   "source": [
    "sns.barplot(data = married_df, x = 'degree', y = 'sphrs1', hue = 'marital')\n",
    "plt.show()"
   ]
  }
 ],
 "metadata": {
  "colab": {
   "authorship_tag": "ABX9TyPdMQQPf5vDWPE0TVkj0XYP",
   "include_colab_link": true,
   "provenance": []
  },
  "kernelspec": {
   "display_name": "Python 3",
   "language": "python",
   "name": "python3"
  },
  "language_info": {
   "codemirror_mode": {
    "name": "ipython",
    "version": 3
   },
   "file_extension": ".py",
   "mimetype": "text/x-python",
   "name": "python",
   "nbconvert_exporter": "python",
   "pygments_lexer": "ipython3",
   "version": "3.8.8"
  }
 },
 "nbformat": 4,
 "nbformat_minor": 4
}
