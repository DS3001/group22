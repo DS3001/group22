{
 "cells": [
  {
   "cell_type": "markdown",
   "metadata": {
    "colab_type": "text",
    "id": "view-in-github"
   },
   "source": [
    "<a href=\"https://colab.research.google.com/github/DS3001/group22/blob/main/Midterm_Work.ipynb\" target=\"_parent\"><img src=\"https://colab.research.google.com/assets/colab-badge.svg\" alt=\"Open In Colab\"/></a>"
   ]
  },
  {
   "cell_type": "markdown",
   "metadata": {},
   "source": [
    "# Group 22 : Project 1"
   ]
  },
  {
   "cell_type": "markdown",
   "metadata": {},
   "source": [
    "## Data Wrangling"
   ]
  },
  {
   "cell_type": "code",
   "execution_count": 23,
   "metadata": {
    "id": "1n8jRvwt4vd_"
   },
   "outputs": [],
   "source": [
    "# imports and read the data\n",
    "import pandas as pd\n",
    "import numpy as np\n",
    "import matplotlib.pyplot as plt\n",
    "import seaborn as sns\n",
    "# read by default 1st sheet of an excel file\n",
    "df = pd.read_excel('result/GSS.xlsx')"
   ]
  },
  {
   "cell_type": "code",
   "execution_count": 24,
   "metadata": {
    "colab": {
     "base_uri": "https://localhost:8080/"
    },
    "id": "HC4qnzPJ5g4L",
    "outputId": "9bab2ec1-e3fb-46c4-e469-7b03a3616ee9"
   },
   "outputs": [
    {
     "name": "stdout",
     "output_type": "stream",
     "text": [
      "<class 'pandas.core.frame.DataFrame'>\n",
      "RangeIndex: 72390 entries, 0 to 72389\n",
      "Data columns (total 19 columns):\n",
      " #   Column    Non-Null Count  Dtype \n",
      "---  ------    --------------  ----- \n",
      " 0   year      72390 non-null  int64 \n",
      " 1   id_       72390 non-null  int64 \n",
      " 2   wrkstat   72390 non-null  object\n",
      " 3   hrs1      72390 non-null  object\n",
      " 4   hrs2      72390 non-null  object\n",
      " 5   evwork    72390 non-null  object\n",
      " 6   wrkslf    72390 non-null  object\n",
      " 7   marital   72390 non-null  object\n",
      " 8   divorce   72390 non-null  object\n",
      " 9   spwrksta  72390 non-null  object\n",
      " 10  sphrs1    72390 non-null  object\n",
      " 11  sphrs2    72390 non-null  object\n",
      " 12  spevwork  72390 non-null  object\n",
      " 13  spwrkslf  72390 non-null  object\n",
      " 14  spocc10   72390 non-null  object\n",
      " 15  spind10   72390 non-null  object\n",
      " 16  degree    72390 non-null  object\n",
      " 17  spdeg     72390 non-null  object\n",
      " 18  ballot    72390 non-null  object\n",
      "dtypes: int64(2), object(17)\n",
      "memory usage: 10.5+ MB\n"
     ]
    }
   ],
   "source": [
    "df.info()"
   ]
  },
  {
   "cell_type": "markdown",
   "metadata": {},
   "source": [
    "Variables included:\n",
    "- **year**: GSS year for this respondent\n",
    "- **wrkstat**: labor force status\n",
    "- **hrs1**: number of hours worked last week\n",
    "- **hrs2**: number of hours usually work a week\n",
    "- **evwork**: ever work as long as one year\n",
    "- **wrkslf**: self-employed or works for somebody\n",
    "- **marital**: marital status\n",
    "- **divorce**: ever been divorced or seperated\n",
    "- **spwrksta**: spouse labor force status\n",
    "- **sphrs1**: number of hrs spouse worked last week\n",
    "- **sphrs2**: number of hrs spouse usually works a week\n",
    "- **spevwork**: spouse ever work as long as one year\n",
    "- **spwrkslf**: spouse self-employed or works for somebody\n",
    "- **spocc10**: spouse census occupation code (2010)\n",
    "- **spind10**: spouse industry code (naics 2010)\n",
    "- **degree**: highest degree\n",
    "- **spdeg**: spouse highest degree\n",
    "- **ballot**: ballot used for interview\n"
   ]
  },
  {
   "cell_type": "markdown",
   "metadata": {},
   "source": [
    "### Clean year\n",
    "**year**: GSS year for this respondent"
   ]
  },
  {
   "cell_type": "code",
   "execution_count": 25,
   "metadata": {},
   "outputs": [
    {
     "data": {
      "text/plain": [
       "array([1972, 1973, 1974, 1975, 1976, 1977, 1978, 1980, 1982, 1983, 1984,\n",
       "       1985, 1986, 1987, 1988, 1989, 1990, 1991, 1993, 1994, 1996, 1998,\n",
       "       2000, 2002, 2004, 2006, 2008, 2010, 2012, 2014, 2016, 2018, 2021,\n",
       "       2022])"
      ]
     },
     "execution_count": 25,
     "metadata": {},
     "output_type": "execute_result"
    }
   ],
   "source": [
    "var = 'year'\n",
    "df[var].unique()"
   ]
  },
  {
   "cell_type": "markdown",
   "metadata": {},
   "source": [
    "All of the values within the year column are acceptable"
   ]
  },
  {
   "cell_type": "markdown",
   "metadata": {},
   "source": [
    "### Clean wrkstat\n",
    "**wkstat**: labor force status"
   ]
  },
  {
   "cell_type": "code",
   "execution_count": 26,
   "metadata": {},
   "outputs": [
    {
     "data": {
      "text/plain": [
       "array(['Working full time', 'Retired', 'Working part time',\n",
       "       'Keeping house', 'In school',\n",
       "       'Unemployed, laid off, looking for work',\n",
       "       'With a job, but not at work because of temporary illness, vacation, strike',\n",
       "       'Other', '.n:  No answer', '.s:  Skipped on Web',\n",
       "       '.d:  Do not Know/Cannot Choose'], dtype=object)"
      ]
     },
     "execution_count": 26,
     "metadata": {},
     "output_type": "execute_result"
    }
   ],
   "source": [
    "var = 'wrkstat'\n",
    "df[var].unique()"
   ]
  },
  {
   "cell_type": "markdown",
   "metadata": {},
   "source": [
    "Make more concise and replace values that do not provide information with nan"
   ]
  },
  {
   "cell_type": "code",
   "execution_count": 27,
   "metadata": {},
   "outputs": [],
   "source": [
    "df.loc[df[var] == \"Working full time\", var] = \"Full Time\"\n",
    "df.loc[df[var] == \"Working part time\", var] = \"Part Time\"\n",
    "df.loc[df[var] == \"Unemployed, laid off, looking for work\", var] = \"Unemployed\"\n",
    "df.loc[df[var] == 'With a job, but not at work because of temporary illness, vacation, strike', var] = \"Illness/Vaction/Strike\"\n",
    "df.loc[df[var] == \".n:  No answer\", var] = np.nan\n",
    "df.loc[df[var] == \".s:  Skipped on Web\", var] = np.nan\n",
    "df.loc[df[var] == \".d:  Do not Know/Cannot Choose\", var] = np.nan"
   ]
  },
  {
   "cell_type": "code",
   "execution_count": 28,
   "metadata": {},
   "outputs": [
    {
     "data": {
      "text/plain": [
       "array(['Full Time', 'Retired', 'Part Time', 'Keeping house', 'In school',\n",
       "       'Unemployed', 'Illness/Vaction/Strike', 'Other', nan], dtype=object)"
      ]
     },
     "execution_count": 28,
     "metadata": {},
     "output_type": "execute_result"
    }
   ],
   "source": [
    "df[var].unique()"
   ]
  },
  {
   "cell_type": "markdown",
   "metadata": {},
   "source": [
    "### Clean hrs1\n",
    "**hrs1**: number of hours worked last week"
   ]
  },
  {
   "cell_type": "code",
   "execution_count": 29,
   "metadata": {
    "colab": {
     "base_uri": "https://localhost:8080/"
    },
    "id": "KJMw1HLE9AuG",
    "outputId": "123e14c9-35a8-42dd-eee3-22d1ee019529"
   },
   "outputs": [
    {
     "data": {
      "text/plain": [
       "array(['.i:  Inapplicable', '27', '40', '52', '35', '45', '70', '60',\n",
       "       '42', '23', '55', '50', '6', '37', '36',\n",
       "       '.d:  Do not Know/Cannot Choose', '48', '16', '24', '20', '80',\n",
       "       '65', '15', '39', '25', '22', '44', '26', '38', '12', '41', '84',\n",
       "       '18', '54', '32', '3', '29', '51', '30', '.n:  No answer',\n",
       "       '89+ hrs', '43', '58', '28', '46', '8', '9', '19', '14', '66',\n",
       "       '61', '49', '10', '72', '34', '75', '53', '7', '21', '47', '57',\n",
       "       '71', '13', '5', '31', '17', '56', '4', '0', '33', '1', '68', '11',\n",
       "       '2', '85', '62', '59', '78', '77', '64', '63', '67', '73', '88',\n",
       "       '69', '76', '74', '81', '79', '86', '87', '83', '82',\n",
       "       '.s:  Skipped on Web'], dtype=object)"
      ]
     },
     "execution_count": 29,
     "metadata": {},
     "output_type": "execute_result"
    }
   ],
   "source": [
    "df['hrs1'].unique()"
   ]
  },
  {
   "cell_type": "markdown",
   "metadata": {},
   "source": [
    "Replace all values that do not provide information with nan"
   ]
  },
  {
   "cell_type": "code",
   "execution_count": 30,
   "metadata": {
    "id": "pxDfNX8J6CPm"
   },
   "outputs": [],
   "source": [
    "df.loc[df['hrs1'] == \".i:  Inapplicable\", 'hrs1'] = np.nan\n",
    "df.loc[df['hrs1'] == \".d:  Do not Know/Cannot Choose\", 'hrs1'] = np.nan\n",
    "df.loc[df['hrs1'] == \".n:  No answer\", 'hrs1'] = np.nan\n",
    "df.loc[df['hrs1'] == \".s:  Skipped on Web\", 'hrs1'] = np.nan"
   ]
  },
  {
   "cell_type": "markdown",
   "metadata": {},
   "source": [
    "Replace values listed as 89+ hrs with 95 to give distinct value"
   ]
  },
  {
   "cell_type": "code",
   "execution_count": 31,
   "metadata": {
    "id": "0dF6w_zc7mC8"
   },
   "outputs": [],
   "source": [
    "df.loc[df['hrs1'] == '89+ hrs', 'hrs1'] = '95';"
   ]
  },
  {
   "cell_type": "markdown",
   "metadata": {},
   "source": [
    "Convert to numeric values"
   ]
  },
  {
   "cell_type": "code",
   "execution_count": 32,
   "metadata": {
    "id": "ss0aEq4qCG1-"
   },
   "outputs": [],
   "source": [
    "df['hrs1'] = pd.to_numeric(df['hrs1'])"
   ]
  },
  {
   "cell_type": "code",
   "execution_count": 33,
   "metadata": {
    "colab": {
     "base_uri": "https://localhost:8080/"
    },
    "id": "yrjnAh01CjY1",
    "outputId": "cd911f71-e999-4835-95b4-d098bc7d8d6d"
   },
   "outputs": [
    {
     "data": {
      "text/plain": [
       "40.0    14519\n",
       "50.0     3127\n",
       "60.0     2144\n",
       "45.0     2127\n",
       "30.0     1388\n",
       "        ...  \n",
       "69.0        8\n",
       "81.0        5\n",
       "79.0        3\n",
       "71.0        3\n",
       "87.0        3\n",
       "Name: hrs1, Length: 90, dtype: int64"
      ]
     },
     "execution_count": 33,
     "metadata": {},
     "output_type": "execute_result"
    }
   ],
   "source": [
    "df['hrs1'].value_counts()"
   ]
  },
  {
   "cell_type": "markdown",
   "metadata": {},
   "source": [
    "### Clean hrs2\n",
    "**hrs2**: number of hours usually work a week"
   ]
  },
  {
   "cell_type": "code",
   "execution_count": 34,
   "metadata": {},
   "outputs": [
    {
     "data": {
      "text/plain": [
       "array(['.i:  Inapplicable', '40', '55', '15', '56', '50', '10', '35',\n",
       "       '.n:  No answer', '70', '16', '37', '30', '48', '20', '5', '25',\n",
       "       '60', '32', '52', '45', '.d:  Do not Know/Cannot Choose', '75',\n",
       "       '24', '4', '89+ hrs', '44', '34', '13', '8', '12', '6', '80', '39',\n",
       "       '21', '47', '36', '38', '33', '46', '42', '43', '11', '66', '23',\n",
       "       '7', '58', '18', '65', '84', '17', '68', '41', '1', '2', '0', '72',\n",
       "       '28', '57', '3', '22', '27', '26', '9', '.s:  Skipped on Web'],\n",
       "      dtype=object)"
      ]
     },
     "execution_count": 34,
     "metadata": {},
     "output_type": "execute_result"
    }
   ],
   "source": [
    "var = 'hrs2'\n",
    "df[var].unique()"
   ]
  },
  {
   "cell_type": "markdown",
   "metadata": {},
   "source": [
    "Replace values that do not provide information with nan.\n",
    "\n",
    "Replace Full Time, Part Time, and Unemployed with average hours spent inthose positions\n",
    "\n",
    "Replace 89+ hours with 95"
   ]
  },
  {
   "cell_type": "code",
   "execution_count": 35,
   "metadata": {},
   "outputs": [],
   "source": [
    "df.loc[df[var] == \".i:  Inapplicable\", 'hrs2'] = np.nan\n",
    "df.loc[df[var] == \".d:  Do not Know/Cannot Choose\", 'hrs2'] = np.nan\n",
    "df.loc[df[var] == \".n:  No answer\", 'hrs2'] = np.nan\n",
    "df.loc[df[var] == '89+ hrs', 'hrs2'] = '95'\n",
    "df.loc[df[var] == \"Full Time\", 'hrs2'] = '40'\n",
    "df.loc[df[var] == \"Part Time\", 'hrs2'] = '25'\n",
    "df.loc[df[var] == \"Unemployed\", 'hrs2'] = '0'"
   ]
  },
  {
   "cell_type": "markdown",
   "metadata": {},
   "source": [
    "Convert to numeric values"
   ]
  },
  {
   "cell_type": "code",
   "execution_count": 36,
   "metadata": {},
   "outputs": [],
   "source": [
    "df[var] = pd.to_numeric(df['hrs1'])"
   ]
  },
  {
   "cell_type": "code",
   "execution_count": 37,
   "metadata": {},
   "outputs": [
    {
     "data": {
      "text/plain": [
       "40.0    14519\n",
       "50.0     3127\n",
       "60.0     2144\n",
       "45.0     2127\n",
       "30.0     1388\n",
       "        ...  \n",
       "69.0        8\n",
       "81.0        5\n",
       "79.0        3\n",
       "71.0        3\n",
       "87.0        3\n",
       "Name: hrs2, Length: 90, dtype: int64"
      ]
     },
     "execution_count": 37,
     "metadata": {},
     "output_type": "execute_result"
    }
   ],
   "source": [
    "df[var].value_counts()"
   ]
  },
  {
   "cell_type": "markdown",
   "metadata": {},
   "source": [
    "### Clean evwork\n",
    "**evwork**: ever work as long as one year"
   ]
  },
  {
   "cell_type": "code",
   "execution_count": 38,
   "metadata": {},
   "outputs": [
    {
     "data": {
      "text/plain": [
       "array(['.i:  Inapplicable', 'YES', 'NO', '.n:  No answer',\n",
       "       '.d:  Do not Know/Cannot Choose', '.s:  Skipped on Web'],\n",
       "      dtype=object)"
      ]
     },
     "execution_count": 38,
     "metadata": {},
     "output_type": "execute_result"
    }
   ],
   "source": [
    "var = 'evwork'\n",
    "df[var].unique()"
   ]
  },
  {
   "cell_type": "markdown",
   "metadata": {},
   "source": [
    "Replace values that do not provide information with nan."
   ]
  },
  {
   "cell_type": "code",
   "execution_count": 39,
   "metadata": {},
   "outputs": [],
   "source": [
    "df.loc[df[var] == \".i:  Inapplicable\", var] = np.nan\n",
    "df.loc[df[var] == \".d:  Do not Know/Cannot Choose\", var] = np.nan\n",
    "df.loc[df[var] == \".n:  No answer\", var] = np.nan\n",
    "df.loc[df[var] == \".s:  Skipped on Web\", var] = np.nan"
   ]
  },
  {
   "cell_type": "code",
   "execution_count": 40,
   "metadata": {},
   "outputs": [
    {
     "data": {
      "text/plain": [
       "array([nan, 'YES', 'NO'], dtype=object)"
      ]
     },
     "execution_count": 40,
     "metadata": {},
     "output_type": "execute_result"
    }
   ],
   "source": [
    "df[var].unique()"
   ]
  },
  {
   "cell_type": "markdown",
   "metadata": {},
   "source": [
    "### Clean wrkslf\n",
    "**wrkslf**: self-employed or works for somebody"
   ]
  },
  {
   "cell_type": "code",
   "execution_count": 41,
   "metadata": {},
   "outputs": [
    {
     "data": {
      "text/plain": [
       "array(['Someone else', '.i:  Inapplicable', 'Self-employed',\n",
       "       '.n:  No answer', '.d:  Do not Know/Cannot Choose',\n",
       "       '.s:  Skipped on Web'], dtype=object)"
      ]
     },
     "execution_count": 41,
     "metadata": {},
     "output_type": "execute_result"
    }
   ],
   "source": [
    "var = 'wrkslf'\n",
    "df[var].unique()"
   ]
  },
  {
   "cell_type": "markdown",
   "metadata": {},
   "source": [
    "Replace values that do not provide information with nan."
   ]
  },
  {
   "cell_type": "code",
   "execution_count": 42,
   "metadata": {},
   "outputs": [],
   "source": [
    "df.loc[df[var] == \".i:  Inapplicable\", var] = np.nan\n",
    "df.loc[df[var] == \".d:  Do not Know/Cannot Choose\", var] = np.nan\n",
    "df.loc[df[var] == \".n:  No answer\", var] = np.nan\n",
    "df.loc[df[var] == \".s:  Skipped on Web\", var] = np.nan"
   ]
  },
  {
   "cell_type": "code",
   "execution_count": 43,
   "metadata": {},
   "outputs": [
    {
     "data": {
      "text/plain": [
       "array(['Someone else', nan, 'Self-employed'], dtype=object)"
      ]
     },
     "execution_count": 43,
     "metadata": {},
     "output_type": "execute_result"
    }
   ],
   "source": [
    "df[var].unique()"
   ]
  },
  {
   "cell_type": "markdown",
   "metadata": {},
   "source": [
    "### Clean marital\n",
    "**marital**: marital status"
   ]
  },
  {
   "cell_type": "markdown",
   "metadata": {},
   "source": [
    "Replace values that do not provide information with nan"
   ]
  },
  {
   "cell_type": "code",
   "execution_count": 44,
   "metadata": {
    "id": "E3O-9rRwf4jZ"
   },
   "outputs": [],
   "source": [
    "df.loc[df['marital'] == \".s:  Skipped on Web\", 'marital'] = np.nan\n",
    "df.loc[df['marital'] == \".d:  Do not Know/Cannot Choose\", 'marital'] = np.nan\n",
    "df.loc[df['marital'] == \".n:  No answer\", 'marital'] = np.nan\n"
   ]
  },
  {
   "cell_type": "code",
   "execution_count": 45,
   "metadata": {
    "colab": {
     "base_uri": "https://localhost:8080/"
    },
    "id": "vdktlIzWf85m",
    "outputId": "6e5c1a98-4bc6-4833-e5aa-031a65b06b75"
   },
   "outputs": [
    {
     "data": {
      "text/plain": [
       "array(['Never married', 'Married', 'Divorced', 'Widowed', 'Separated',\n",
       "       nan], dtype=object)"
      ]
     },
     "execution_count": 45,
     "metadata": {},
     "output_type": "execute_result"
    }
   ],
   "source": [
    "df['marital'].unique()"
   ]
  },
  {
   "cell_type": "markdown",
   "metadata": {},
   "source": [
    "### Clean divorce\n",
    "**divorce**: ever been divorced or seperated"
   ]
  },
  {
   "cell_type": "markdown",
   "metadata": {},
   "source": [
    "Replace values that do not provide information with nan."
   ]
  },
  {
   "cell_type": "code",
   "execution_count": 46,
   "metadata": {
    "colab": {
     "base_uri": "https://localhost:8080/"
    },
    "id": "dFEmCxv6Pi9A",
    "outputId": "c109059a-0025-433b-caee-1b61543357e0"
   },
   "outputs": [
    {
     "data": {
      "text/plain": [
       "array([nan, 'NO', 'YES'], dtype=object)"
      ]
     },
     "execution_count": 46,
     "metadata": {},
     "output_type": "execute_result"
    }
   ],
   "source": [
    "df.loc[df['divorce'] == '.n:  No answer', 'divorce'] = np.nan\n",
    "df.loc[df['divorce'] == '.s:  Skipped on Web', 'divorce'] = np.nan\n",
    "df.loc[df['divorce'] == '.i:  Inapplicable', 'divorce'] = np.nan\n",
    "df.loc[df['divorce'] == '.d:  Do not Know/Cannot Choose', 'divorce'] = np.nan\n",
    "\n",
    "\n",
    "df['divorce'].unique()"
   ]
  },
  {
   "cell_type": "markdown",
   "metadata": {},
   "source": [
    "### Clean spwrksta\n",
    "**spwrksta**: spouse labor force status"
   ]
  },
  {
   "cell_type": "code",
   "execution_count": 47,
   "metadata": {},
   "outputs": [
    {
     "data": {
      "text/plain": [
       "array(['.i:  Inapplicable', 'KEEPING HOUSE', 'WORKING FULLTIME',\n",
       "       'TEMP NOT WORKING', 'WORKING PARTTIME', 'RETIRED',\n",
       "       'UNEMPL, LAID OFF', 'SCHOOL', 'OTHER', '.n:  No answer',\n",
       "       '.s:  Skipped on Web', '.x:  Not available in this release'],\n",
       "      dtype=object)"
      ]
     },
     "execution_count": 47,
     "metadata": {},
     "output_type": "execute_result"
    }
   ],
   "source": [
    "var = 'spwrksta'\n",
    "df[var].unique()"
   ]
  },
  {
   "cell_type": "markdown",
   "metadata": {},
   "source": [
    "Replace values that do not provide information with nan.\n",
    "\n",
    "Replace other values with values to match wrksta."
   ]
  },
  {
   "cell_type": "code",
   "execution_count": 48,
   "metadata": {},
   "outputs": [],
   "source": [
    "df.loc[df[var] == \".i:  Inapplicable\", var] = np.nan\n",
    "df.loc[df[var] == \".d:  Do not Know/Cannot Choose\", var] = np.nan\n",
    "df.loc[df[var] == \".n:  No answer\", var] = np.nan\n",
    "df.loc[df[var] == \".s:  Skipped on Web\", var] = np.nan\n",
    "df.loc[df[var] == \".x:  Not available in this release\", var] = np.nan\n",
    "df.loc[df[var] == \"WORKING FULLTIME\", var] = \"Full Time\"\n",
    "df.loc[df[var] == \"WORKING PARTTIME\", var] = \"Part Time\"\n",
    "df.loc[df[var] == \"UNEMPL, LAID OFF\", var] = \"Unemployed\"\n",
    "df.loc[df[var] == \"TEMP NOT WORKING\", var] = \"Illness/Vaction/Strike\"\n",
    "df.loc[df[var] == \"SCHOOL\", var] = \"In School\"\n",
    "df.loc[df[var] == \"KEEPING HOUSE\", var] = \"Keeping House\"\n",
    "df.loc[df[var] == \"OTHER\", var] = \"Other\"\n",
    "df.loc[df[var] == \"RETIRED\", var] = \"Retired\""
   ]
  },
  {
   "cell_type": "code",
   "execution_count": 49,
   "metadata": {},
   "outputs": [
    {
     "data": {
      "text/plain": [
       "array([nan, 'Keeping House', 'Full Time', 'Illness/Vaction/Strike',\n",
       "       'Part Time', 'Retired', 'Unemployed', 'In School', 'Other'],\n",
       "      dtype=object)"
      ]
     },
     "execution_count": 49,
     "metadata": {},
     "output_type": "execute_result"
    }
   ],
   "source": [
    "df[var].unique()"
   ]
  },
  {
   "cell_type": "markdown",
   "metadata": {},
   "source": [
    "### Clean sphrs1\n",
    "**sphrs1**: number of hrs spouse worked last week"
   ]
  },
  {
   "cell_type": "markdown",
   "metadata": {},
   "source": [
    "Replace values that do not provide information with nan."
   ]
  },
  {
   "cell_type": "code",
   "execution_count": 50,
   "metadata": {
    "colab": {
     "base_uri": "https://localhost:8080/"
    },
    "id": "hR9gOBTrMEQM",
    "outputId": "6f4783e7-3ac4-4878-addc-19d1cab5539f"
   },
   "outputs": [
    {
     "data": {
      "text/plain": [
       "array([nan, '40', '37', '51', '60', '45', '44', '55', '24', '80', '65',\n",
       "       '50', '75', '16', '36', '72', '15', '62', '20', '70', '63', '48',\n",
       "       '19', '30', '56', '22', '38', '84', '18', '35', '52', '57', '32',\n",
       "       '58', '43', '25', '74', '12', '3', '42', '4', '8', '5', '10', '66',\n",
       "       '28', '89+ hrs', '39', '33', '59', '11', '54', '21', '79', '9',\n",
       "       '46', '69', '6', '29', '47', '23', '27', '68', '13', '73', '34',\n",
       "       '76', '49', '14', '78', '41', '64', '53', '77', '82', '26', '85',\n",
       "       '2', '61', '88', '31', '7', '17', '71', '0', '67', '81', '1', '86',\n",
       "       '.x:  Not available in this release'], dtype=object)"
      ]
     },
     "execution_count": 50,
     "metadata": {},
     "output_type": "execute_result"
    }
   ],
   "source": [
    "df.loc[df['sphrs1'] == \".i:  Inapplicable\", 'sphrs1'] = np.nan\n",
    "df.loc[df['sphrs1'] == \".d:  Do not Know/Cannot Choose\", 'sphrs1'] = np.nan\n",
    "df.loc[df['sphrs1'] == \".n:  No answer\", 'sphrs1'] = np.nan\n",
    "df.loc[df['sphrs1'] == \".s:  Skipped on Web\", 'sphrs1'] = np.nan\n",
    "\n",
    "df['sphrs1'].unique()"
   ]
  },
  {
   "cell_type": "markdown",
   "metadata": {},
   "source": [
    "Replace 89+ hrs with 95.\n",
    "\n",
    "Convert to numeric values."
   ]
  },
  {
   "cell_type": "code",
   "execution_count": 51,
   "metadata": {
    "colab": {
     "base_uri": "https://localhost:8080/"
    },
    "id": "BAM28RNUMSAA",
    "outputId": "4d9af700-49b7-40e7-c878-1b47773c0cb5"
   },
   "outputs": [
    {
     "data": {
      "text/plain": [
       "array([nan, 40., 37., 51., 60., 45., 44., 55., 24., 80., 65., 50., 75.,\n",
       "       16., 36., 72., 15., 62., 20., 70., 63., 48., 19., 30., 56., 22.,\n",
       "       38., 84., 18., 35., 52., 57., 32., 58., 43., 25., 74., 12.,  3.,\n",
       "       42.,  4.,  8.,  5., 10., 66., 28., 95., 39., 33., 59., 11., 54.,\n",
       "       21., 79.,  9., 46., 69.,  6., 29., 47., 23., 27., 68., 13., 73.,\n",
       "       34., 76., 49., 14., 78., 41., 64., 53., 77., 82., 26., 85.,  2.,\n",
       "       61., 88., 31.,  7., 17., 71.,  0., 67., 81.,  1., 86.])"
      ]
     },
     "execution_count": 51,
     "metadata": {},
     "output_type": "execute_result"
    }
   ],
   "source": [
    "df.loc[df['sphrs1'] == \".x:  Not available in this release\", 'sphrs1'] = np.nan\n",
    "df.loc[df['sphrs1'] == \"89+ hrs\", 'sphrs1'] = \"95\"\n",
    "df['sphrs1'] = pd.to_numeric(df['sphrs1'])\n",
    "df['sphrs1'].unique()"
   ]
  },
  {
   "cell_type": "markdown",
   "metadata": {},
   "source": [
    "### Clean sphrs2\n",
    "**sphrs2**: number of hrs spouse usually works a week"
   ]
  },
  {
   "cell_type": "code",
   "execution_count": 52,
   "metadata": {},
   "outputs": [
    {
     "data": {
      "text/plain": [
       "array(['.i:  Inapplicable', '73', '20', '.d:  Do not Know/Cannot Choose',\n",
       "       '40', '35', '48', '14', '50', '.n:  No answer', '16', '84', '44',\n",
       "       '56', '13', '32', '8', '37', '72', '24', '12', '60', '54', '22',\n",
       "       '43', '25', '38', '49', '30', '45', '36', '65', '57', '89+ hrs',\n",
       "       '55', '52', '70', '51', '21', '26', '10', '5', '46', '80', '47',\n",
       "       '1', '42', '39', '33', '27', '18', '15', '34',\n",
       "       '.s:  Skipped on Web', '9', '.x:  Not available in this release'],\n",
       "      dtype=object)"
      ]
     },
     "execution_count": 52,
     "metadata": {},
     "output_type": "execute_result"
    }
   ],
   "source": [
    "var = 'sphrs2'\n",
    "df[var].unique()"
   ]
  },
  {
   "cell_type": "markdown",
   "metadata": {},
   "source": [
    "Replace values that provide no information with nan.\n",
    "\n",
    "Replace 89+ hrs with 95."
   ]
  },
  {
   "cell_type": "code",
   "execution_count": 53,
   "metadata": {},
   "outputs": [],
   "source": [
    "df.loc[df[var] == \".i:  Inapplicable\", var] = np.nan\n",
    "df.loc[df[var] == \".d:  Do not Know/Cannot Choose\", var] = np.nan\n",
    "df.loc[df[var] == \".n:  No answer\", var] = np.nan\n",
    "df.loc[df[var] == \".s:  Skipped on Web\", var] = np.nan\n",
    "df.loc[df[var] == \".x:  Not available in this release\", var] = np.nan\n",
    "df.loc[df[var] == '89+ hrs', var] = '95'"
   ]
  },
  {
   "cell_type": "markdown",
   "metadata": {},
   "source": [
    "Convert to numeric values"
   ]
  },
  {
   "cell_type": "code",
   "execution_count": 54,
   "metadata": {},
   "outputs": [],
   "source": [
    "df[var] = pd.to_numeric(df[var])"
   ]
  },
  {
   "cell_type": "code",
   "execution_count": 55,
   "metadata": {},
   "outputs": [
    {
     "data": {
      "text/plain": [
       "array([nan, 73., 20., 40., 35., 48., 14., 50., 16., 84., 44., 56., 13.,\n",
       "       32.,  8., 37., 72., 24., 12., 60., 54., 22., 43., 25., 38., 49.,\n",
       "       30., 45., 36., 65., 57., 95., 55., 52., 70., 51., 21., 26., 10.,\n",
       "        5., 46., 80., 47.,  1., 42., 39., 33., 27., 18., 15., 34.,  9.])"
      ]
     },
     "execution_count": 55,
     "metadata": {},
     "output_type": "execute_result"
    }
   ],
   "source": [
    "df[var].unique()"
   ]
  },
  {
   "cell_type": "markdown",
   "metadata": {},
   "source": [
    "### Clean spevwork\n",
    "**spevwork**: spouse ever work as long as one year"
   ]
  },
  {
   "cell_type": "code",
   "execution_count": 56,
   "metadata": {},
   "outputs": [
    {
     "data": {
      "text/plain": [
       "array(['.i:  Inapplicable', 'NO', 'YES', '.n:  No answer',\n",
       "       '.d:  Do not Know/Cannot Choose', '.s:  Skipped on Web',\n",
       "       '.x:  Not available in this release'], dtype=object)"
      ]
     },
     "execution_count": 56,
     "metadata": {},
     "output_type": "execute_result"
    }
   ],
   "source": [
    "var = 'spevwork'\n",
    "df[var].unique()"
   ]
  },
  {
   "cell_type": "markdown",
   "metadata": {},
   "source": [
    "Replace values that do not provide information with nan."
   ]
  },
  {
   "cell_type": "code",
   "execution_count": 57,
   "metadata": {},
   "outputs": [],
   "source": [
    "df.loc[df[var] == \".i:  Inapplicable\", var] = np.nan\n",
    "df.loc[df[var] == \".d:  Do not Know/Cannot Choose\", var] = np.nan\n",
    "df.loc[df[var] == \".n:  No answer\", var] = np.nan\n",
    "df.loc[df[var] == \".s:  Skipped on Web\", var] = np.nan\n",
    "df.loc[df[var] == \".x:  Not available in this release\", var] = np.nan"
   ]
  },
  {
   "cell_type": "code",
   "execution_count": 58,
   "metadata": {},
   "outputs": [
    {
     "data": {
      "text/plain": [
       "array([nan, 'NO', 'YES'], dtype=object)"
      ]
     },
     "execution_count": 58,
     "metadata": {},
     "output_type": "execute_result"
    }
   ],
   "source": [
    "df[var].unique()"
   ]
  },
  {
   "cell_type": "markdown",
   "metadata": {},
   "source": [
    "### Clean spwrkslf\n",
    "**spwrkslf**: spouse self-employed or works for somebody"
   ]
  },
  {
   "cell_type": "code",
   "execution_count": 59,
   "metadata": {},
   "outputs": [
    {
     "data": {
      "text/plain": [
       "array(['.i:  Inapplicable', 'SOMEONE ELSE', 'SELF-EMPLOYED',\n",
       "       '.n:  No answer', '.d:  Do not Know/Cannot Choose',\n",
       "       '.s:  Skipped on Web', '.x:  Not available in this release'],\n",
       "      dtype=object)"
      ]
     },
     "execution_count": 59,
     "metadata": {},
     "output_type": "execute_result"
    }
   ],
   "source": [
    "var = 'spwrkslf'\n",
    "df[var].unique()"
   ]
  },
  {
   "cell_type": "markdown",
   "metadata": {},
   "source": [
    "Replace values that do not provide any information with nan.\n",
    "\n",
    "Replace other values to match wrkslf."
   ]
  },
  {
   "cell_type": "code",
   "execution_count": 60,
   "metadata": {},
   "outputs": [],
   "source": [
    "df.loc[df[var] == \".i:  Inapplicable\", var] = np.nan\n",
    "df.loc[df[var] == \".d:  Do not Know/Cannot Choose\", var] = np.nan\n",
    "df.loc[df[var] == \".n:  No answer\", var] = np.nan\n",
    "df.loc[df[var] == \".s:  Skipped on Web\", var] = np.nan\n",
    "df.loc[df[var] == \".x:  Not available in this release\", var] = np.nan\n",
    "df.loc[df[var] == 'SOMEONE ELSE', var] = 'Someone else'\n",
    "df.loc[df[var] == 'SELF-EMPLOYED', var] = 'Self-employed'"
   ]
  },
  {
   "cell_type": "code",
   "execution_count": 61,
   "metadata": {},
   "outputs": [
    {
     "data": {
      "text/plain": [
       "array([nan, 'Someone else', 'Self-employed'], dtype=object)"
      ]
     },
     "execution_count": 61,
     "metadata": {},
     "output_type": "execute_result"
    }
   ],
   "source": [
    "df[var].unique()"
   ]
  },
  {
   "cell_type": "markdown",
   "metadata": {},
   "source": [
    "### Clean spocc10\n",
    "**spocc10**: spouse census occupation code (2010)"
   ]
  },
  {
   "cell_type": "code",
   "execution_count": 62,
   "metadata": {},
   "outputs": [
    {
     "data": {
      "text/plain": [
       "array(['.i:  Inapplicable',\n",
       "       'Property, real estate, and community association managers',\n",
       "       'Tax examiners and collectors, and revenue agents',\n",
       "       'Rolling machine setters, operators, and tenders, metal and plastic',\n",
       "       'Tire builders',\n",
       "       'Metal furnace operators, tenders, pourers, and casters',\n",
       "       'Maids and housekeeping cleaners',\n",
       "       'Licensed practical and licensed vocational nurses',\n",
       "       'Hairdressers, hairstylists, and cosmetologists',\n",
       "       'Retail salespersons',\n",
       "       'Security guards and gaming surveillance officers',\n",
       "       '.u:  Uncodable', 'Elementary and middle school teachers',\n",
       "       'Secretaries and administrative assistants',\n",
       "       'Customer service representatives',\n",
       "       'Farmers, ranchers, and other agricultural managers',\n",
       "       'Lathe and turning machine tool setters, operators, and tenders, metal and plastic',\n",
       "       '.n:  No answer', 'Waiters and waitresses',\n",
       "       'Nursing, psychiatric, and home health aides',\n",
       "       'Miscellaneous assemblers and fabricators',\n",
       "       'News analysts, reporters and correspondents',\n",
       "       'Paper goods machine setters, operators, and tenders',\n",
       "       'First-line supervisors of retail sales workers',\n",
       "       'Driver/sales workers and truck drivers',\n",
       "       'Telecommunications  line installers and repairers', 'Tellers',\n",
       "       'File Clerks', 'Office clerks, general',\n",
       "       'Bookkeeping, accounting, and auditing clerks',\n",
       "       'Pipelayers, plumbers, pipefitters, and steamfitters',\n",
       "       'Welding, soldering, and brazing workers', 'Chief executives',\n",
       "       'Janitors and building cleaners',\n",
       "       'Door-to-door sales workers, news and street vendors, and related workers',\n",
       "       'Dining room and cafeteria attendants and bartender helpers',\n",
       "       'Automotive body and related repairers',\n",
       "       'Food processing workers, all other', 'Managers, all other',\n",
       "       'Wholesale and retail buyers, except farm products',\n",
       "       'Word processors and typists',\n",
       "       'Other installation, maintenance, and repair workers',\n",
       "       'Machinists', \"Police and sheriff's patrol officers\",\n",
       "       'Computer operators', 'Carpenters',\n",
       "       'Chemists and materials scientists',\n",
       "       'Operations research analysts', 'Financial managers',\n",
       "       'Secondary school teachers',\n",
       "       'Electrical and electronics engineers', 'Accountants and auditors',\n",
       "       'First-line supervisors of office and administrative support workers',\n",
       "       'Food preparation workers', 'Roofers',\n",
       "       'Laborers and freight, stock, and material movers, hand',\n",
       "       'Industrial and refractory machinery mechanics',\n",
       "       'Grinding, lapping, polishing, and buffing machine tool setters,  operators, and tenders, metal and plastic',\n",
       "       'Other teachers and instructors', 'Tool and die makers',\n",
       "       'Sales representatives,  wholesale and manufacturing',\n",
       "       'Counter attendants, cafeteria, food concession, and coffee shop',\n",
       "       'Operating engineers and other construction equipment  operators',\n",
       "       'Sailors and marine oilers', 'Insurance sales agents',\n",
       "       'Production workers, all other',\n",
       "       'Transportation, storage, and distribution managers',\n",
       "       'Physicians and surgeons', 'Library assistants, clerical',\n",
       "       'Logging workers', 'Cooks',\n",
       "       'Inspectors, testers, sorters, samplers, and weighers',\n",
       "       'Office machine operators, except computer',\n",
       "       'Chemical technicians', 'Telephone operators',\n",
       "       'Switchboard operators, including answering service',\n",
       "       'Postal service clerks', 'Sewing machine operators',\n",
       "       'Miscellaneous agricultural workers',\n",
       "       'Forging machine setters, operators, and tenders, metal and plastic',\n",
       "       'Butchers and other meat, poultry, and fish processing workers',\n",
       "       'Grounds maintenance workers',\n",
       "       'Plating and coating machine setters, operators, and tenders, metal  and plastic',\n",
       "       'Stock clerks and order fillers',\n",
       "       'Cement masons, concrete finishers, and terrazzo workers',\n",
       "       'Cutting, punching, and press machine setters, operators, and tenders, metal and plastic',\n",
       "       'Electrical, electronics, and electromechanical assemblers',\n",
       "       'Agricultural and food science technicians', 'Bus drivers',\n",
       "       'Shoe machine operators and tenders', 'Registered nurses',\n",
       "       'Maintenance workers, machinery',\n",
       "       'First-line supervisors of production and operating workers',\n",
       "       'Painters, construction and maintenance', 'Sheet metal workers',\n",
       "       'Packers and packagers, hand', 'Librarians', 'Phlebotomists',\n",
       "       'Maintenance and repair workers, general', 'Gaming cage workers',\n",
       "       'Insurance underwriters',\n",
       "       'Engineering technicians, except drafters',\n",
       "       'Elevator installers and repairers', 'Cashiers',\n",
       "       'Electrical and electronics repairers, industrial and utility',\n",
       "       'Helpers, construction trades', 'Pumping station operators',\n",
       "       'Postal service mail carriers',\n",
       "       'Receptionists and information clerks',\n",
       "       'Shipping, receiving, and traffic clerks',\n",
       "       'Laundry and dry-cleaning workers', 'Childcare workers',\n",
       "       'Health practitioner support technologists and technicians',\n",
       "       'First-line supervisors of non-retail sales workers',\n",
       "       'Taxi drivers and chauffeurs',\n",
       "       'Medical, dental, and ophthalmic laboratory technicians',\n",
       "       'Sales and related workers, all other',\n",
       "       'Agents and business managers of artists, performers,',\n",
       "       'Food service managers', 'Electricians',\n",
       "       'Sawing machine setters, operators, and tenders, wood',\n",
       "       'Payroll and timekeeping clerks',\n",
       "       'Pressers, textile, garment, and related materials',\n",
       "       'Office and administrative support workers, all other',\n",
       "       'Printing press operators',\n",
       "       'Jewelers and precious stone and metal workers',\n",
       "       'Miscellaneous healthcare support occupations, including medical equipment preparers',\n",
       "       'Construction laborers', 'Dispatchers',\n",
       "       'Reservation and transportation ticket agents and travel clerks',\n",
       "       'Electronic home entertainment equipment installers and repairers',\n",
       "       'Claims adjusters, appraisers, examiners, and investigators',\n",
       "       'Locomotive engineers and operators', 'Postsecondary teachers',\n",
       "       'Railroad brake, signal, and switch operators',\n",
       "       'Automotive service technicians and mechanics', 'Crossing guards',\n",
       "       'Drafters', 'Data entry keyers',\n",
       "       'Industrial truck and tractor operators',\n",
       "       'Carpet, floor, and tile installers and finishers',\n",
       "       'Mining machine operators', 'Social workers',\n",
       "       'Dietitians and nutritionists',\n",
       "       'Industrial engineers, including health and safety',\n",
       "       'Veterinarians', 'Postmasters and mail superintendents',\n",
       "       'Automotive and watercraft service attendants',\n",
       "       'Military, rank not specified', 'Economists',\n",
       "       'Architects, except naval', 'Teacher assistants',\n",
       "       'Sales engineers', 'Marketing and sales managers',\n",
       "       'Stationary engineers and boiler operators',\n",
       "       'Radio and telecommunications equipment installers and repairers',\n",
       "       'Aircraft mechanics and service technicians',\n",
       "       'Brickmasons, blockmasons, and stonemasons',\n",
       "       'Human resources workers', 'Crane and tower operators',\n",
       "       'Tailors, dressmakers, and sewers', 'Barbers', 'Civil engineers',\n",
       "       'Electrical power-line installers and repairers',\n",
       "       'First-line supervisors of farming, fishing, and forestry workers',\n",
       "       'Artists and related workers',\n",
       "       'Real estate brokers and sales agents', 'Bartenders',\n",
       "       'Billing and posting clerks',\n",
       "       'Refuse and recyclable material collectors', 'Designers',\n",
       "       'Crushing, grinding, polishing, mixing, and blending workers',\n",
       "       'Structural iron and steel workers',\n",
       "       'Textile, apparel, and furnishings workers, all other',\n",
       "       'Firefighters', 'Biological scientists', 'Computer programmers',\n",
       "       'Social and human service assistants',\n",
       "       'Metal workers and plastic workers, all other',\n",
       "       'Etchers and engravers',\n",
       "       'Interviewers, except eligibility and loan',\n",
       "       'Diagnostic related technologists and technicians',\n",
       "       'Surveying and mapping technicians',\n",
       "       'Production, planning, and expediting clerks',\n",
       "       'Human resources managers', 'Ship and boat captains and operators',\n",
       "       'Riggers', 'Mechanical engineers', 'Parts salespersons',\n",
       "       'Prepress technicians and workers',\n",
       "       'Industrial production managers', 'Actuaries',\n",
       "       'Judges, magistrates, and other judicial workers',\n",
       "       'Purchasing agents, except wholesale, retail, and farm products',\n",
       "       'Tool grinders, filers, and sharpeners',\n",
       "       'First-line supervisors of housekeeping and janitorial workers',\n",
       "       'Aircraft pilots and flight engineers',\n",
       "       'Bailiffs, correctional officers, and jailers',\n",
       "       'Plasterers and stucco masons', 'Millwrights',\n",
       "       'Machine feeders and offbearers', 'Transportation inspectors',\n",
       "       'Securities, commodities, and financial services sales agents',\n",
       "       'Meter readers, utilities',\n",
       "       'First-line supervisors of construction trades and extraction workers',\n",
       "       'First-line enlisted military supervisors',\n",
       "       'Special education teachers',\n",
       "       'Helpers, installation, maintenance, and repair workers',\n",
       "       'Cutting workers',\n",
       "       'Subway, streetcar, and other rail transportation workers',\n",
       "       'First-line supervisors of mechanics, installers, and repairers',\n",
       "       'Bus and truck mechanics and diesel engine specialists',\n",
       "       'Social and community service managers', 'Announcers',\n",
       "       'Writers and authors', 'Counter and rental clerks',\n",
       "       'Textile winding, twisting, and drawing out machine setters, operators,  and tenders',\n",
       "       'Construction managers',\n",
       "       'Woodworking machine setters, operators, and tenders, except sawing',\n",
       "       'Computer systems analysts', 'Glaziers',\n",
       "       'Heating, air conditioning, and refrigeration mechanics and installers',\n",
       "       'Medical assistants',\n",
       "       'Photographic process workers and processing machine operators',\n",
       "       'Dishwashers', 'Editors',\n",
       "       'Postal service mail sorters, processors, and processing  machine operators',\n",
       "       'Dental assistants', 'Credit authorizers, checkers, and clerks',\n",
       "       'Optometrists', 'Sales representatives, services, all other',\n",
       "       'Communications  equipment operators, all other',\n",
       "       'Print binding and finishing workers', 'Lawyers',\n",
       "       'Shoe and leather workers and repairers', 'Counselors',\n",
       "       'Miscellaneous community and social service specialists,',\n",
       "       'Preschool and kindergarten teachers', 'Telemarketers', 'Clergy',\n",
       "       'Paperhangers', 'Septic tank servicers and sewer pipe cleaners',\n",
       "       'Legislators',\n",
       "       'Combined food preparation and serving workers, including fast food',\n",
       "       'Fence erectors', 'Physical scientists, all other',\n",
       "       'Painting workers',\n",
       "       'Textile knitting and weaving machine setters, operators, and tenders',\n",
       "       'Precision instrument and equipment repairers',\n",
       "       'Management analysts', 'Lodging managers',\n",
       "       'Construction and building inspectors', 'Education administrators',\n",
       "       'Molders and molding machine setters, operators, and tenders, metal and plastic',\n",
       "       'Insulation workers', 'Highway maintenance workers',\n",
       "       'Ambulance drivers and attendants, except emergency medical  technicians',\n",
       "       'Military officer special and tactical operations leaders',\n",
       "       '    operators, and tenders Furnace, kiln, oven, drier, and kettle operators and tenders',\n",
       "       'Heavy vehicle and mobile equipment service technicians and mechanics',\n",
       "       'Mail clerks and mail machine operators, except postal service',\n",
       "       'Budget analysts', 'Credit counselors and loan officers',\n",
       "       'Earth drillers, except oil and gas',\n",
       "       'Computer, automated teller, and office machine repairers',\n",
       "       'Packaging and filling machine operators and tenders',\n",
       "       'Mathematicians', 'Locksmiths and safe repairers',\n",
       "       'Helpers, production workers',\n",
       "       'Cleaners of vehicles and equipment',\n",
       "       'Clinical laboratory technologists and technicians',\n",
       "       'Couriers and messengers',\n",
       "       'Human resources assistants, except payroll and timekeeping',\n",
       "       'Helpers, extraction workers',\n",
       "       'Private detectives and investigators',\n",
       "       'Conservation scientists and foresters',\n",
       "       'Appraisers and assessors of real estate',\n",
       "       'Electronic equipment installers and repairers, motor vehicles',\n",
       "       'Actors', 'Medical and health services managers',\n",
       "       'Military enlisted tactical operations and air/weapons specialists and crew members',\n",
       "       'Other education, training, and library workers',\n",
       "       'Agricultural inspectors',\n",
       "       'Environmental scientists and geoscientists',\n",
       "       'General and operations managers',\n",
       "       'Architectural and engineering managers', 'Dental hygienists',\n",
       "       'Psychologists',\n",
       "       'Hosts and hostesses, restaurant, lounge, and coffee shop',\n",
       "       'Forest and conservation workers',\n",
       "       'First-line supervisors of fire fighting and prevention workers',\n",
       "       'Ship engineers',\n",
       "       'First-line supervisors of landscaping, lawn service, and groundskeeping workers',\n",
       "       'Personal financial advisors',\n",
       "       'Supervisors of transportation and material moving workers',\n",
       "       'First-line supervisors of food preparation and serving workers',\n",
       "       'Aerospace engineers',\n",
       "       'Extruding, forming, pressing, and compacting machine setters,',\n",
       "       'First-line supervisors of police and detectives',\n",
       "       'Miscellaneous legal support workers',\n",
       "       'Athletes, coaches, umpires, and related workers',\n",
       "       'Power plant operators, distributors, and dispatchers',\n",
       "       'Pharmacists',\n",
       "       'Drywall installers, ceiling tile installers, and tapers',\n",
       "       'Engineers, all other', 'Food batchmakers',\n",
       "       'Engine and other machine assemblers',\n",
       "       'Weighers, measurers, checkers, and samplers, recordkeeping',\n",
       "       'Software developers, applications and systems software',\n",
       "       'Social science research assistants', 'Flight attendants',\n",
       "       'Probation officers and correctional treatment specialists',\n",
       "       'Security and fire alarm systems installers',\n",
       "       'Physical therapists', 'Financial clerks, all other',\n",
       "       'Producers and directors', 'Financial specialists, all other',\n",
       "       'Manufactured building and mobile home installers',\n",
       "       'Musicians, singers, and related workers',\n",
       "       'Insurance claims and policy processing clerks',\n",
       "       'Graders and sorters, agricultural products',\n",
       "       'Automotive glass installers and repairers',\n",
       "       'Layout workers, metal and plastic',\n",
       "       'Computer and information systems managers', 'Fire inspectors',\n",
       "       'Occupational therapists', 'Compliance officers',\n",
       "       'Chemical processing machine setters, operators, and tenders',\n",
       "       'Control and valve installers and repairers',\n",
       "       'Geological and petroleum technicians', 'Dentists',\n",
       "       'Funeral service managers', 'Photographers',\n",
       "       'Railroad conductors and yardmasters', 'Chemical engineers',\n",
       "       'Broadcast and sound engineering technicians and radio',\n",
       "       'Air traffic controllers and airfield operations specialists',\n",
       "       'Small engine mechanics', 'Technical writers',\n",
       "       'Rail-track laying and maintenance equipment operators',\n",
       "       'Morticians, undertakers, and funeral directors',\n",
       "       'Other healthcare practitioners and technical occupations',\n",
       "       'Tax preparers', 'Materials engineers',\n",
       "       'Textile bleaching and dyeing machine operators and tenders',\n",
       "       'Miscellaneous life, physical, and social science technicians',\n",
       "       'Fabric and apparel patternmakers', 'Chefs and head cooks',\n",
       "       'Dredge, excavating, and loading machine operators',\n",
       "       'Other extraction workers', 'Order clerks',\n",
       "       'Statistical assistants', 'Public relations specialists',\n",
       "       'Detectives and criminal investigators',\n",
       "       'Baggage porters, bellhops, and concierges', 'Pharmacy aides',\n",
       "       'Court, municipal, and license clerks',\n",
       "       'Business operations specialists, all other', 'Bakers',\n",
       "       'Eligibility interviewers, government programs',\n",
       "       'Food preparation and serving related workers, all other',\n",
       "       'Advertising sales agents', 'Food servers, nonrestaurant',\n",
       "       'Miscellaneous plant and system operators',\n",
       "       'Models, demonstrators, and product promoters',\n",
       "       'Furniture finishers', 'Upholsterers',\n",
       "       'Buyers and purchasing agents, farm products',\n",
       "       'Administrative services managers', 'Procurement clerks',\n",
       "       'Extruding and forming machine setters, operators, and tenders,  synthetic and glass fibers',\n",
       "       'Purchasing managers', 'Training and development managers',\n",
       "       'Home appliance repairers', 'Massage therapists',\n",
       "       'Pest control workers', 'Pile-driver operators',\n",
       "       'Bill and account collectors', 'Mine shuttle car operators',\n",
       "       'Animal trainers', 'Structural metal fabricators and fitters',\n",
       "       'Reinforcing iron and rebar workers',\n",
       "       'First-line supervisors of protective service workers, all other',\n",
       "       'Parking enforcement workers',\n",
       "       'Medical records and health information technicians',\n",
       "       'Animal control workers',\n",
       "       'Physical therapist assistants and aides',\n",
       "       'Electric motor, power tool, and related repairers',\n",
       "       'Information and record clerks, all other',\n",
       "       'Aircraft structure, surfaces, rigging, and systems assemblers',\n",
       "       'Cargo and freight agents',\n",
       "       'Computer and information research scientists', 'Sociologists',\n",
       "       'Nonfarm animal caretakers',\n",
       "       'Market research analysts and marketing specialists',\n",
       "       'Molders, shapers, and casters, except metal and plastic',\n",
       "       'Environmental engineers', 'Fishers and related fishing workers',\n",
       "       'Chiropractors', 'Motion picture projectionists',\n",
       "       'Cabinetmakers and bench carpenters',\n",
       "       'Motor vehicle operators, all other', 'Travel agents',\n",
       "       'Exercise physiologists', 'Training and development specialists',\n",
       "       'Material moving workers, all other',\n",
       "       'Mining and geological engineers, including mining safety engineers',\n",
       "       'Miscellaneous vehicle and mobile equipment mechanics, installers, and repairers',\n",
       "       'Model makers and patternmakers, metal and plastic',\n",
       "       'Biological technicians', 'Speech-language  pathologists',\n",
       "       'Proofreaders and copy markers', 'Parking lot attendants',\n",
       "       'Loan interviewers and clerks',\n",
       "       'Miscellaneous entertainment attendants and related workers',\n",
       "       'Explosives workers, ordnance handling experts, and blasters',\n",
       "       'Adhesive bonding machine operators and tenders',\n",
       "       'Heat treating equipment setters, operators, and tenders, metal and plastic',\n",
       "       'Public relations and fundraising managers',\n",
       "       'Directors, religious activities and education',\n",
       "       'Paralegals and legal assistants', 'Correspondence clerks',\n",
       "       'Respiratory therapists', 'Podiatrists', 'Audiologists',\n",
       "       'Roof bolters, mining', 'Fundraisers',\n",
       "       'Food and tobacco roasting, baking, and drying machine operators and tenders',\n",
       "       'Recreation and fitness workers',\n",
       "       'Derrick, rotary drill, and service unit operators, oil, gas, and mining',\n",
       "       'Tour and travel guides',\n",
       "       'Water and wastewater treatment plant and system operators',\n",
       "       'Nuclear engineers', 'Woodworkers, all other',\n",
       "       'Financial examiners', 'Computer network architects',\n",
       "       'Archivists, curators, and museum technicians',\n",
       "       'First-line supervisors of personal service workers',\n",
       "       'Medical transcriptionists', 'Therapists, all other',\n",
       "       'Computer occupations, all other',\n",
       "       'Agricultural and food scientists', 'Personal care aides',\n",
       "       'Computer control programmers and operators', 'Boilermakers',\n",
       "       'Veterinary assistants and laboratory animal caretakers',\n",
       "       'Logisticians', 'Astronomers and physicists',\n",
       "       'Food cooking machine operators and tenders',\n",
       "       'Embalmers and funeral attendants',\n",
       "       'Coin, vending, and amusement machine servicers and repairers',\n",
       "       'Atmospheric and space scientists',\n",
       "       'Surveyors, cartographers, and photogrammetrists',\n",
       "       'Entertainers and performers, sports and related workers, all other',\n",
       "       'Residential advisors', 'Roustabouts, oil and gas',\n",
       "       'Dancers and choreographers',\n",
       "       'Compensation, benefits, and job analysis specialists',\n",
       "       'Computer hardware engineers',\n",
       "       'Electrical and electronics installers and repairers, transportation',\n",
       "       'Gaming services workers', 'Hoist and winch operators',\n",
       "       'Extruding and drawing machine setters, operators, and tenders,  metal and plastic',\n",
       "       'Other transportation workers',\n",
       "       'Television, video, and motion picture camera operators and',\n",
       "       'Advertising and promotions managers',\n",
       "       'Religious workers, all other',\n",
       "       'Drilling and boring machine tool setters, operators, and tenders,  metal and plastic',\n",
       "       'Statisticians', 'Library technicians', 'Physician assistants',\n",
       "       'Medical scientists', 'New accounts clerks',\n",
       "       'Miscellaneous health technologists and technicians',\n",
       "       'Marine engineers and naval architects', 'Radiation therapists',\n",
       "       'Database administrators', '.d:  Do not Know/Cannot Choose',\n",
       "       'Emergency medical technicians and paramedics', 'Credit analysts',\n",
       "       'Nurse anesthetists', 'Conveyor operators and tenders',\n",
       "       'Financial analysts', 'Brokerage clerks', 'Cost estimators',\n",
       "       'Computer support specialists', 'Urban and regional planners',\n",
       "       'Personal care and service workers, all other',\n",
       "       'Hotel, motel, and resort desk clerks',\n",
       "       'Miscellaneous media and communication  workers',\n",
       "       'Avionics technicians',\n",
       "       'Miscellaneous social scientists and related workers',\n",
       "       'Multiple machine tool setters, operators, and tenders, metal and plastic',\n",
       "       'First-line supervisors of correctional officers',\n",
       "       'Transportation security screeners', 'Biomedical engineers',\n",
       "       'Tank car, truck, and ship loaders',\n",
       "       'Hazardous materials removal workers',\n",
       "       'Lifeguards and other recreational, and all other protective service workers',\n",
       "       'Meeting, convention, and event planners',\n",
       "       'Transit and railroad police',\n",
       "       'Milling and planing machine setters, operators, and tenders, metal  and plastic',\n",
       "       'Transportation attendants, except flight attendants',\n",
       "       'Nuclear technicians', 'Compensation and benefits managers',\n",
       "       'Textile cutting machine setters, operators, and tenders',\n",
       "       'Miscellaneous construction and related workers',\n",
       "       'Miscellaneous personal appearance workers',\n",
       "       'Network and computer systems administrators',\n",
       "       'Cleaning, washing, and metal pickling equipment operators and tenders',\n",
       "       'Occupational therapy assistants and aides',\n",
       "       'Natural sciences managers', 'Opticians, dispensing',\n",
       "       'Gaming managers', 'Signal and track switch repairers',\n",
       "       'Cooling and freezing equipment operators and tenders',\n",
       "       'Recreational therapists', 'Nurse practitioners',\n",
       "       'Semiconductor processors', 'Nurse midwives',\n",
       "       'Paving, surfacing, and tamping equipment operators',\n",
       "       'Model makers and patternmakers, wood', 'Bridge and lock tenders',\n",
       "       'Hunters and trappers', 'Web developers', 'Animal breeders',\n",
       "       'Desktop publishers', 'Information security analysts',\n",
       "       'Commercial divers', 'Petroleum engineers', 'Judicial law clerks',\n",
       "       'First-line supervisors of gaming workers',\n",
       "       'Emergency management directors', '.s:  Skipped on Web',\n",
       "       'Miscellaneous mathematical science occupations',\n",
       "       'Solar photovoltaic installers', 'Agricultural engineers'],\n",
       "      dtype=object)"
      ]
     },
     "execution_count": 62,
     "metadata": {},
     "output_type": "execute_result"
    }
   ],
   "source": [
    "var = 'spocc10'\n",
    "df[var].unique()"
   ]
  },
  {
   "cell_type": "markdown",
   "metadata": {},
   "source": [
    "Replace values that do not provide information with nan."
   ]
  },
  {
   "cell_type": "code",
   "execution_count": 63,
   "metadata": {},
   "outputs": [],
   "source": [
    "df.loc[df[var] == \".i:  Inapplicable\", var] = np.nan\n",
    "df.loc[df[var] == \".d:  Do not Know/Cannot Choose\", var] = np.nan\n",
    "df.loc[df[var] == \".n:  No answer\", var] = np.nan\n",
    "df.loc[df[var] == \".s:  Skipped on Web\", var] = np.nan\n",
    "df.loc[df[var] == \".x:  Not available in this release\", var] = np.nan\n",
    "df.loc[df[var] == \".u:  Uncodable\"] = np.nan"
   ]
  },
  {
   "cell_type": "code",
   "execution_count": 64,
   "metadata": {},
   "outputs": [
    {
     "data": {
      "text/plain": [
       "array([nan, 'Property, real estate, and community association managers',\n",
       "       'Tax examiners and collectors, and revenue agents',\n",
       "       'Rolling machine setters, operators, and tenders, metal and plastic',\n",
       "       'Tire builders',\n",
       "       'Metal furnace operators, tenders, pourers, and casters',\n",
       "       'Maids and housekeeping cleaners',\n",
       "       'Licensed practical and licensed vocational nurses',\n",
       "       'Hairdressers, hairstylists, and cosmetologists',\n",
       "       'Retail salespersons',\n",
       "       'Security guards and gaming surveillance officers',\n",
       "       'Elementary and middle school teachers',\n",
       "       'Secretaries and administrative assistants',\n",
       "       'Customer service representatives',\n",
       "       'Farmers, ranchers, and other agricultural managers',\n",
       "       'Lathe and turning machine tool setters, operators, and tenders, metal and plastic',\n",
       "       'Waiters and waitresses',\n",
       "       'Nursing, psychiatric, and home health aides',\n",
       "       'Miscellaneous assemblers and fabricators',\n",
       "       'News analysts, reporters and correspondents',\n",
       "       'Paper goods machine setters, operators, and tenders',\n",
       "       'First-line supervisors of retail sales workers',\n",
       "       'Driver/sales workers and truck drivers',\n",
       "       'Telecommunications  line installers and repairers', 'Tellers',\n",
       "       'File Clerks', 'Office clerks, general',\n",
       "       'Bookkeeping, accounting, and auditing clerks',\n",
       "       'Pipelayers, plumbers, pipefitters, and steamfitters',\n",
       "       'Welding, soldering, and brazing workers', 'Chief executives',\n",
       "       'Janitors and building cleaners',\n",
       "       'Door-to-door sales workers, news and street vendors, and related workers',\n",
       "       'Dining room and cafeteria attendants and bartender helpers',\n",
       "       'Automotive body and related repairers',\n",
       "       'Food processing workers, all other', 'Managers, all other',\n",
       "       'Wholesale and retail buyers, except farm products',\n",
       "       'Word processors and typists',\n",
       "       'Other installation, maintenance, and repair workers',\n",
       "       'Machinists', \"Police and sheriff's patrol officers\",\n",
       "       'Computer operators', 'Carpenters',\n",
       "       'Chemists and materials scientists',\n",
       "       'Operations research analysts', 'Financial managers',\n",
       "       'Secondary school teachers',\n",
       "       'Electrical and electronics engineers', 'Accountants and auditors',\n",
       "       'First-line supervisors of office and administrative support workers',\n",
       "       'Food preparation workers', 'Roofers',\n",
       "       'Laborers and freight, stock, and material movers, hand',\n",
       "       'Industrial and refractory machinery mechanics',\n",
       "       'Grinding, lapping, polishing, and buffing machine tool setters,  operators, and tenders, metal and plastic',\n",
       "       'Other teachers and instructors', 'Tool and die makers',\n",
       "       'Sales representatives,  wholesale and manufacturing',\n",
       "       'Counter attendants, cafeteria, food concession, and coffee shop',\n",
       "       'Operating engineers and other construction equipment  operators',\n",
       "       'Sailors and marine oilers', 'Insurance sales agents',\n",
       "       'Production workers, all other',\n",
       "       'Transportation, storage, and distribution managers',\n",
       "       'Physicians and surgeons', 'Library assistants, clerical',\n",
       "       'Logging workers', 'Cooks',\n",
       "       'Inspectors, testers, sorters, samplers, and weighers',\n",
       "       'Office machine operators, except computer',\n",
       "       'Chemical technicians', 'Telephone operators',\n",
       "       'Switchboard operators, including answering service',\n",
       "       'Postal service clerks', 'Sewing machine operators',\n",
       "       'Miscellaneous agricultural workers',\n",
       "       'Forging machine setters, operators, and tenders, metal and plastic',\n",
       "       'Butchers and other meat, poultry, and fish processing workers',\n",
       "       'Grounds maintenance workers',\n",
       "       'Plating and coating machine setters, operators, and tenders, metal  and plastic',\n",
       "       'Stock clerks and order fillers',\n",
       "       'Cement masons, concrete finishers, and terrazzo workers',\n",
       "       'Cutting, punching, and press machine setters, operators, and tenders, metal and plastic',\n",
       "       'Electrical, electronics, and electromechanical assemblers',\n",
       "       'Agricultural and food science technicians', 'Bus drivers',\n",
       "       'Shoe machine operators and tenders', 'Registered nurses',\n",
       "       'Maintenance workers, machinery',\n",
       "       'First-line supervisors of production and operating workers',\n",
       "       'Painters, construction and maintenance', 'Sheet metal workers',\n",
       "       'Packers and packagers, hand', 'Librarians', 'Phlebotomists',\n",
       "       'Maintenance and repair workers, general', 'Gaming cage workers',\n",
       "       'Insurance underwriters',\n",
       "       'Engineering technicians, except drafters',\n",
       "       'Elevator installers and repairers', 'Cashiers',\n",
       "       'Electrical and electronics repairers, industrial and utility',\n",
       "       'Helpers, construction trades', 'Pumping station operators',\n",
       "       'Postal service mail carriers',\n",
       "       'Receptionists and information clerks',\n",
       "       'Shipping, receiving, and traffic clerks',\n",
       "       'Laundry and dry-cleaning workers', 'Childcare workers',\n",
       "       'Health practitioner support technologists and technicians',\n",
       "       'First-line supervisors of non-retail sales workers',\n",
       "       'Taxi drivers and chauffeurs',\n",
       "       'Medical, dental, and ophthalmic laboratory technicians',\n",
       "       'Sales and related workers, all other',\n",
       "       'Agents and business managers of artists, performers,',\n",
       "       'Food service managers', 'Electricians',\n",
       "       'Sawing machine setters, operators, and tenders, wood',\n",
       "       'Payroll and timekeeping clerks',\n",
       "       'Pressers, textile, garment, and related materials',\n",
       "       'Office and administrative support workers, all other',\n",
       "       'Printing press operators',\n",
       "       'Jewelers and precious stone and metal workers',\n",
       "       'Miscellaneous healthcare support occupations, including medical equipment preparers',\n",
       "       'Construction laborers', 'Dispatchers',\n",
       "       'Reservation and transportation ticket agents and travel clerks',\n",
       "       'Electronic home entertainment equipment installers and repairers',\n",
       "       'Claims adjusters, appraisers, examiners, and investigators',\n",
       "       'Locomotive engineers and operators', 'Postsecondary teachers',\n",
       "       'Railroad brake, signal, and switch operators',\n",
       "       'Automotive service technicians and mechanics', 'Crossing guards',\n",
       "       'Drafters', 'Data entry keyers',\n",
       "       'Industrial truck and tractor operators',\n",
       "       'Carpet, floor, and tile installers and finishers',\n",
       "       'Mining machine operators', 'Social workers',\n",
       "       'Dietitians and nutritionists',\n",
       "       'Industrial engineers, including health and safety',\n",
       "       'Veterinarians', 'Postmasters and mail superintendents',\n",
       "       'Automotive and watercraft service attendants',\n",
       "       'Military, rank not specified', 'Economists',\n",
       "       'Architects, except naval', 'Teacher assistants',\n",
       "       'Sales engineers', 'Marketing and sales managers',\n",
       "       'Stationary engineers and boiler operators',\n",
       "       'Radio and telecommunications equipment installers and repairers',\n",
       "       'Aircraft mechanics and service technicians',\n",
       "       'Brickmasons, blockmasons, and stonemasons',\n",
       "       'Human resources workers', 'Crane and tower operators',\n",
       "       'Tailors, dressmakers, and sewers', 'Barbers', 'Civil engineers',\n",
       "       'Electrical power-line installers and repairers',\n",
       "       'First-line supervisors of farming, fishing, and forestry workers',\n",
       "       'Artists and related workers',\n",
       "       'Real estate brokers and sales agents', 'Bartenders',\n",
       "       'Billing and posting clerks',\n",
       "       'Refuse and recyclable material collectors', 'Designers',\n",
       "       'Crushing, grinding, polishing, mixing, and blending workers',\n",
       "       'Structural iron and steel workers',\n",
       "       'Textile, apparel, and furnishings workers, all other',\n",
       "       'Firefighters', 'Biological scientists', 'Computer programmers',\n",
       "       'Social and human service assistants',\n",
       "       'Metal workers and plastic workers, all other',\n",
       "       'Etchers and engravers',\n",
       "       'Interviewers, except eligibility and loan',\n",
       "       'Diagnostic related technologists and technicians',\n",
       "       'Surveying and mapping technicians',\n",
       "       'Production, planning, and expediting clerks',\n",
       "       'Human resources managers', 'Ship and boat captains and operators',\n",
       "       'Riggers', 'Mechanical engineers', 'Parts salespersons',\n",
       "       'Prepress technicians and workers',\n",
       "       'Industrial production managers', 'Actuaries',\n",
       "       'Judges, magistrates, and other judicial workers',\n",
       "       'Purchasing agents, except wholesale, retail, and farm products',\n",
       "       'Tool grinders, filers, and sharpeners',\n",
       "       'First-line supervisors of housekeeping and janitorial workers',\n",
       "       'Aircraft pilots and flight engineers',\n",
       "       'Bailiffs, correctional officers, and jailers',\n",
       "       'Plasterers and stucco masons', 'Millwrights',\n",
       "       'Machine feeders and offbearers', 'Transportation inspectors',\n",
       "       'Securities, commodities, and financial services sales agents',\n",
       "       'Meter readers, utilities',\n",
       "       'First-line supervisors of construction trades and extraction workers',\n",
       "       'First-line enlisted military supervisors',\n",
       "       'Special education teachers',\n",
       "       'Helpers, installation, maintenance, and repair workers',\n",
       "       'Cutting workers',\n",
       "       'Subway, streetcar, and other rail transportation workers',\n",
       "       'First-line supervisors of mechanics, installers, and repairers',\n",
       "       'Bus and truck mechanics and diesel engine specialists',\n",
       "       'Social and community service managers', 'Announcers',\n",
       "       'Writers and authors', 'Counter and rental clerks',\n",
       "       'Textile winding, twisting, and drawing out machine setters, operators,  and tenders',\n",
       "       'Construction managers',\n",
       "       'Woodworking machine setters, operators, and tenders, except sawing',\n",
       "       'Computer systems analysts', 'Glaziers',\n",
       "       'Heating, air conditioning, and refrigeration mechanics and installers',\n",
       "       'Medical assistants',\n",
       "       'Photographic process workers and processing machine operators',\n",
       "       'Dishwashers', 'Editors',\n",
       "       'Postal service mail sorters, processors, and processing  machine operators',\n",
       "       'Dental assistants', 'Credit authorizers, checkers, and clerks',\n",
       "       'Optometrists', 'Sales representatives, services, all other',\n",
       "       'Communications  equipment operators, all other',\n",
       "       'Print binding and finishing workers', 'Lawyers',\n",
       "       'Shoe and leather workers and repairers', 'Counselors',\n",
       "       'Miscellaneous community and social service specialists,',\n",
       "       'Preschool and kindergarten teachers', 'Telemarketers', 'Clergy',\n",
       "       'Paperhangers', 'Septic tank servicers and sewer pipe cleaners',\n",
       "       'Legislators',\n",
       "       'Combined food preparation and serving workers, including fast food',\n",
       "       'Fence erectors', 'Physical scientists, all other',\n",
       "       'Painting workers',\n",
       "       'Textile knitting and weaving machine setters, operators, and tenders',\n",
       "       'Precision instrument and equipment repairers',\n",
       "       'Management analysts', 'Lodging managers',\n",
       "       'Construction and building inspectors', 'Education administrators',\n",
       "       'Molders and molding machine setters, operators, and tenders, metal and plastic',\n",
       "       'Insulation workers', 'Highway maintenance workers',\n",
       "       'Ambulance drivers and attendants, except emergency medical  technicians',\n",
       "       'Military officer special and tactical operations leaders',\n",
       "       '    operators, and tenders Furnace, kiln, oven, drier, and kettle operators and tenders',\n",
       "       'Heavy vehicle and mobile equipment service technicians and mechanics',\n",
       "       'Mail clerks and mail machine operators, except postal service',\n",
       "       'Budget analysts', 'Credit counselors and loan officers',\n",
       "       'Earth drillers, except oil and gas',\n",
       "       'Computer, automated teller, and office machine repairers',\n",
       "       'Packaging and filling machine operators and tenders',\n",
       "       'Mathematicians', 'Locksmiths and safe repairers',\n",
       "       'Helpers, production workers',\n",
       "       'Cleaners of vehicles and equipment',\n",
       "       'Clinical laboratory technologists and technicians',\n",
       "       'Couriers and messengers',\n",
       "       'Human resources assistants, except payroll and timekeeping',\n",
       "       'Helpers, extraction workers',\n",
       "       'Private detectives and investigators',\n",
       "       'Conservation scientists and foresters',\n",
       "       'Appraisers and assessors of real estate',\n",
       "       'Electronic equipment installers and repairers, motor vehicles',\n",
       "       'Actors', 'Medical and health services managers',\n",
       "       'Military enlisted tactical operations and air/weapons specialists and crew members',\n",
       "       'Other education, training, and library workers',\n",
       "       'Agricultural inspectors',\n",
       "       'Environmental scientists and geoscientists',\n",
       "       'General and operations managers',\n",
       "       'Architectural and engineering managers', 'Dental hygienists',\n",
       "       'Psychologists',\n",
       "       'Hosts and hostesses, restaurant, lounge, and coffee shop',\n",
       "       'Forest and conservation workers',\n",
       "       'First-line supervisors of fire fighting and prevention workers',\n",
       "       'Ship engineers',\n",
       "       'First-line supervisors of landscaping, lawn service, and groundskeeping workers',\n",
       "       'Personal financial advisors',\n",
       "       'Supervisors of transportation and material moving workers',\n",
       "       'First-line supervisors of food preparation and serving workers',\n",
       "       'Aerospace engineers',\n",
       "       'Extruding, forming, pressing, and compacting machine setters,',\n",
       "       'First-line supervisors of police and detectives',\n",
       "       'Miscellaneous legal support workers',\n",
       "       'Athletes, coaches, umpires, and related workers',\n",
       "       'Power plant operators, distributors, and dispatchers',\n",
       "       'Pharmacists',\n",
       "       'Drywall installers, ceiling tile installers, and tapers',\n",
       "       'Engineers, all other', 'Food batchmakers',\n",
       "       'Engine and other machine assemblers',\n",
       "       'Weighers, measurers, checkers, and samplers, recordkeeping',\n",
       "       'Software developers, applications and systems software',\n",
       "       'Social science research assistants', 'Flight attendants',\n",
       "       'Probation officers and correctional treatment specialists',\n",
       "       'Security and fire alarm systems installers',\n",
       "       'Physical therapists', 'Financial clerks, all other',\n",
       "       'Producers and directors', 'Financial specialists, all other',\n",
       "       'Manufactured building and mobile home installers',\n",
       "       'Musicians, singers, and related workers',\n",
       "       'Insurance claims and policy processing clerks',\n",
       "       'Graders and sorters, agricultural products',\n",
       "       'Automotive glass installers and repairers',\n",
       "       'Layout workers, metal and plastic',\n",
       "       'Computer and information systems managers', 'Fire inspectors',\n",
       "       'Occupational therapists', 'Compliance officers',\n",
       "       'Chemical processing machine setters, operators, and tenders',\n",
       "       'Control and valve installers and repairers',\n",
       "       'Geological and petroleum technicians', 'Dentists',\n",
       "       'Funeral service managers', 'Photographers',\n",
       "       'Railroad conductors and yardmasters', 'Chemical engineers',\n",
       "       'Broadcast and sound engineering technicians and radio',\n",
       "       'Air traffic controllers and airfield operations specialists',\n",
       "       'Small engine mechanics', 'Technical writers',\n",
       "       'Rail-track laying and maintenance equipment operators',\n",
       "       'Morticians, undertakers, and funeral directors',\n",
       "       'Other healthcare practitioners and technical occupations',\n",
       "       'Tax preparers', 'Materials engineers',\n",
       "       'Textile bleaching and dyeing machine operators and tenders',\n",
       "       'Miscellaneous life, physical, and social science technicians',\n",
       "       'Fabric and apparel patternmakers', 'Chefs and head cooks',\n",
       "       'Dredge, excavating, and loading machine operators',\n",
       "       'Other extraction workers', 'Order clerks',\n",
       "       'Statistical assistants', 'Public relations specialists',\n",
       "       'Detectives and criminal investigators',\n",
       "       'Baggage porters, bellhops, and concierges', 'Pharmacy aides',\n",
       "       'Court, municipal, and license clerks',\n",
       "       'Business operations specialists, all other', 'Bakers',\n",
       "       'Eligibility interviewers, government programs',\n",
       "       'Food preparation and serving related workers, all other',\n",
       "       'Advertising sales agents', 'Food servers, nonrestaurant',\n",
       "       'Miscellaneous plant and system operators',\n",
       "       'Models, demonstrators, and product promoters',\n",
       "       'Furniture finishers', 'Upholsterers',\n",
       "       'Buyers and purchasing agents, farm products',\n",
       "       'Administrative services managers', 'Procurement clerks',\n",
       "       'Extruding and forming machine setters, operators, and tenders,  synthetic and glass fibers',\n",
       "       'Purchasing managers', 'Training and development managers',\n",
       "       'Home appliance repairers', 'Massage therapists',\n",
       "       'Pest control workers', 'Pile-driver operators',\n",
       "       'Bill and account collectors', 'Mine shuttle car operators',\n",
       "       'Animal trainers', 'Structural metal fabricators and fitters',\n",
       "       'Reinforcing iron and rebar workers',\n",
       "       'First-line supervisors of protective service workers, all other',\n",
       "       'Parking enforcement workers',\n",
       "       'Medical records and health information technicians',\n",
       "       'Animal control workers',\n",
       "       'Physical therapist assistants and aides',\n",
       "       'Electric motor, power tool, and related repairers',\n",
       "       'Information and record clerks, all other',\n",
       "       'Aircraft structure, surfaces, rigging, and systems assemblers',\n",
       "       'Cargo and freight agents',\n",
       "       'Computer and information research scientists', 'Sociologists',\n",
       "       'Nonfarm animal caretakers',\n",
       "       'Market research analysts and marketing specialists',\n",
       "       'Molders, shapers, and casters, except metal and plastic',\n",
       "       'Environmental engineers', 'Fishers and related fishing workers',\n",
       "       'Chiropractors', 'Motion picture projectionists',\n",
       "       'Cabinetmakers and bench carpenters',\n",
       "       'Motor vehicle operators, all other', 'Travel agents',\n",
       "       'Exercise physiologists', 'Training and development specialists',\n",
       "       'Material moving workers, all other',\n",
       "       'Mining and geological engineers, including mining safety engineers',\n",
       "       'Miscellaneous vehicle and mobile equipment mechanics, installers, and repairers',\n",
       "       'Model makers and patternmakers, metal and plastic',\n",
       "       'Biological technicians', 'Speech-language  pathologists',\n",
       "       'Proofreaders and copy markers', 'Parking lot attendants',\n",
       "       'Loan interviewers and clerks',\n",
       "       'Miscellaneous entertainment attendants and related workers',\n",
       "       'Explosives workers, ordnance handling experts, and blasters',\n",
       "       'Adhesive bonding machine operators and tenders',\n",
       "       'Heat treating equipment setters, operators, and tenders, metal and plastic',\n",
       "       'Public relations and fundraising managers',\n",
       "       'Directors, religious activities and education',\n",
       "       'Paralegals and legal assistants', 'Correspondence clerks',\n",
       "       'Respiratory therapists', 'Podiatrists', 'Audiologists',\n",
       "       'Roof bolters, mining', 'Fundraisers',\n",
       "       'Food and tobacco roasting, baking, and drying machine operators and tenders',\n",
       "       'Recreation and fitness workers',\n",
       "       'Derrick, rotary drill, and service unit operators, oil, gas, and mining',\n",
       "       'Tour and travel guides',\n",
       "       'Water and wastewater treatment plant and system operators',\n",
       "       'Nuclear engineers', 'Woodworkers, all other',\n",
       "       'Financial examiners', 'Computer network architects',\n",
       "       'Archivists, curators, and museum technicians',\n",
       "       'First-line supervisors of personal service workers',\n",
       "       'Medical transcriptionists', 'Therapists, all other',\n",
       "       'Computer occupations, all other',\n",
       "       'Agricultural and food scientists', 'Personal care aides',\n",
       "       'Computer control programmers and operators', 'Boilermakers',\n",
       "       'Veterinary assistants and laboratory animal caretakers',\n",
       "       'Logisticians', 'Astronomers and physicists',\n",
       "       'Food cooking machine operators and tenders',\n",
       "       'Embalmers and funeral attendants',\n",
       "       'Coin, vending, and amusement machine servicers and repairers',\n",
       "       'Atmospheric and space scientists',\n",
       "       'Surveyors, cartographers, and photogrammetrists',\n",
       "       'Entertainers and performers, sports and related workers, all other',\n",
       "       'Residential advisors', 'Roustabouts, oil and gas',\n",
       "       'Dancers and choreographers',\n",
       "       'Compensation, benefits, and job analysis specialists',\n",
       "       'Computer hardware engineers',\n",
       "       'Electrical and electronics installers and repairers, transportation',\n",
       "       'Gaming services workers', 'Hoist and winch operators',\n",
       "       'Extruding and drawing machine setters, operators, and tenders,  metal and plastic',\n",
       "       'Other transportation workers',\n",
       "       'Television, video, and motion picture camera operators and',\n",
       "       'Advertising and promotions managers',\n",
       "       'Religious workers, all other',\n",
       "       'Drilling and boring machine tool setters, operators, and tenders,  metal and plastic',\n",
       "       'Statisticians', 'Library technicians', 'Physician assistants',\n",
       "       'Medical scientists', 'New accounts clerks',\n",
       "       'Miscellaneous health technologists and technicians',\n",
       "       'Marine engineers and naval architects', 'Radiation therapists',\n",
       "       'Database administrators',\n",
       "       'Emergency medical technicians and paramedics', 'Credit analysts',\n",
       "       'Nurse anesthetists', 'Conveyor operators and tenders',\n",
       "       'Financial analysts', 'Brokerage clerks', 'Cost estimators',\n",
       "       'Computer support specialists', 'Urban and regional planners',\n",
       "       'Personal care and service workers, all other',\n",
       "       'Hotel, motel, and resort desk clerks',\n",
       "       'Miscellaneous media and communication  workers',\n",
       "       'Avionics technicians',\n",
       "       'Miscellaneous social scientists and related workers',\n",
       "       'Multiple machine tool setters, operators, and tenders, metal and plastic',\n",
       "       'First-line supervisors of correctional officers',\n",
       "       'Transportation security screeners', 'Biomedical engineers',\n",
       "       'Tank car, truck, and ship loaders',\n",
       "       'Hazardous materials removal workers',\n",
       "       'Lifeguards and other recreational, and all other protective service workers',\n",
       "       'Meeting, convention, and event planners',\n",
       "       'Transit and railroad police',\n",
       "       'Milling and planing machine setters, operators, and tenders, metal  and plastic',\n",
       "       'Transportation attendants, except flight attendants',\n",
       "       'Nuclear technicians', 'Compensation and benefits managers',\n",
       "       'Textile cutting machine setters, operators, and tenders',\n",
       "       'Miscellaneous construction and related workers',\n",
       "       'Miscellaneous personal appearance workers',\n",
       "       'Network and computer systems administrators',\n",
       "       'Cleaning, washing, and metal pickling equipment operators and tenders',\n",
       "       'Occupational therapy assistants and aides',\n",
       "       'Natural sciences managers', 'Opticians, dispensing',\n",
       "       'Gaming managers', 'Signal and track switch repairers',\n",
       "       'Cooling and freezing equipment operators and tenders',\n",
       "       'Recreational therapists', 'Nurse practitioners',\n",
       "       'Semiconductor processors', 'Nurse midwives',\n",
       "       'Paving, surfacing, and tamping equipment operators',\n",
       "       'Model makers and patternmakers, wood', 'Bridge and lock tenders',\n",
       "       'Hunters and trappers', 'Web developers', 'Animal breeders',\n",
       "       'Desktop publishers', 'Information security analysts',\n",
       "       'Commercial divers', 'Petroleum engineers', 'Judicial law clerks',\n",
       "       'First-line supervisors of gaming workers',\n",
       "       'Emergency management directors',\n",
       "       'Miscellaneous mathematical science occupations',\n",
       "       'Solar photovoltaic installers', 'Agricultural engineers'],\n",
       "      dtype=object)"
      ]
     },
     "execution_count": 64,
     "metadata": {},
     "output_type": "execute_result"
    }
   ],
   "source": [
    "df[var].unique()"
   ]
  },
  {
   "cell_type": "markdown",
   "metadata": {},
   "source": [
    "### Clean spind10\n",
    "**spind10**: spouse industry code (naics 2010)"
   ]
  },
  {
   "cell_type": "code",
   "execution_count": 65,
   "metadata": {},
   "outputs": [
    {
     "data": {
      "text/plain": [
       "array(['.i:  Inapplicable', 'Real estate', 'Public finance activities',\n",
       "       'Nonferrous metal (except aluminum) production and processing',\n",
       "       'Tire manufacturing', '.n:  No answer', 'Private households',\n",
       "       'Hospitals', 'Beauty salons',\n",
       "       'Other direct selling establishments',\n",
       "       'Executive offices and legislative bodies', nan,\n",
       "       'Elementary and secondary schools',\n",
       "       'Professional and commercial equipment and supplies, merchant wholesalers',\n",
       "       'Office supplies and stationery stores', 'Crop production',\n",
       "       'Furniture and related product manufacturing', 'Construction',\n",
       "       '.u:  Uncodable', 'Nursing care facilities',\n",
       "       'Pottery, ceramics, and plumbing fixture manufacturing',\n",
       "       'Newspaper publishers', 'Pulp, paper, and paperboard mills',\n",
       "       ' Restaurants and other food services', 'Gasoline stations',\n",
       "       'Animal production', 'Truck transportation',\n",
       "       'Wired telecommunications carriers',\n",
       "       'Banking and related activities',\n",
       "       'Not specified manufacturing industries',\n",
       "       'Machine shops; turned product; screw, nut, and bolt manufacturing',\n",
       "       'Motor vehicles and motor vehicle equipment manufacturing',\n",
       "       'Non-depository credit and related activities',\n",
       "       'Agricultural implement manufacturing', 'Traveler accommodation',\n",
       "       'Dairy product manufacturing',\n",
       "       'Department stores and discount stores',\n",
       "       'Miscellaneous general merchandise stores',\n",
       "       'Other amusement, gambling, and recreation industries',\n",
       "       'Iron and steel mills and steel product manufacturing ',\n",
       "       'Justice, public order, and safety activities',\n",
       "       'Electronic component and product manufacturing, n.e.c.',\n",
       "       'Scientific research and development services',\n",
       "       'Insurance carriers and related activities',\n",
       "       'Colleges and universities, including junior colleges',\n",
       "       'Electric power generation, transmission, and distribution',\n",
       "       'Apparel, fabrics, and notions, merchant wholesalers',\n",
       "       'Building material and supplies dealers',\n",
       "       'Sewing, needlework, and piece goods stores',\n",
       "       'Aircraft and parts manufacturing',\n",
       "       'Other schools and instruction, and educational support services',\n",
       "       'Grocery stores', 'Petroleum refining',\n",
       "       'Groceries and related products, merchant wholesalers',\n",
       "       'Pharmacies and drug stores', 'Water transportation',\n",
       "       'Rubber product, except tire, manufacturing',\n",
       "       'Beverage manufacturing', 'Offices of physicians',\n",
       "       'Metals and minerals, except petroleum, merchant wholesalers',\n",
       "       'Legal services', 'Management of companies and enterprises',\n",
       "       'Services to buildings and dwellings',\n",
       "       'Jewelry, luggage, and leather goods stores',\n",
       "       'Miscellaneous nonmetallic mineral product manufacturing',\n",
       "       'Clothing stores', 'Drycleaning and laundry services',\n",
       "       'Metalworking machinery manufacturing   ', 'Postal Service',\n",
       "       'Cut and sew apparel manufacturing', 'Religious organizations',\n",
       "       'Automobile dealers', 'Animal slaughtering and processing',\n",
       "       'Independent artists, performing arts, spectator sports, and related industries',\n",
       "       'Communications, and audio and video equipment manufacturing        ',\n",
       "       'Not specified food industries',\n",
       "       'Lawn and garden equipment and supplies stores',\n",
       "       'Farm product raw materials, merchant wholesalers ',\n",
       "       'Textile product mills, except carpet and rug',\n",
       "       'Bus service and urban transit', 'Footwear manufacturing',\n",
       "       'Machinery manufacturing, n.e.c.    ', 'Ordnance',\n",
       "       'Medical equipment and supplies manufacturing',\n",
       "       'Other administrative and other support services',\n",
       "       'Seafood and other miscellaneous foods, n.e.c.',\n",
       "       'Libraries and archives', 'Miscellaneous manufacturing, n.e.c.',\n",
       "       'Industrial and miscellaneous chemicals',\n",
       "       'Household appliance manufacturing', 'Forestry, except logging',\n",
       "       'Services incidental to transportation',\n",
       "       'Petroleum and petroleum products, merchant wholesalers',\n",
       "       'Offices of dentists',\n",
       "       'Health and personal care, except drug, stores',\n",
       "       'Machinery, equipment, and supplies, merchant wholesalers',\n",
       "       'Fiber, yarn, and thread mills',\n",
       "       'Leather tanning and finishing and other allied products manufacturing',\n",
       "       'Sawmills and wood preservation',\n",
       "       'Accounting, tax preparation, bookkeeping, and payroll services',\n",
       "       'Sugar and confectionery products',\n",
       "       'Individual and family services', 'Air transportation',\n",
       "       'National security and international affairs',\n",
       "       'Hardware, plumbing and heating equipment, and supplies, merchant wholesalers',\n",
       "       'Rail transportation', 'Auto parts, accessories, and tire stores',\n",
       "       'Architectural, engineering, and related services',\n",
       "       'Warehousing and storage', 'Furniture and home furnishings stores',\n",
       "       'Not specified metal industries',\n",
       "       'Fruit and vegetable preserving and specialty food manufacturing',\n",
       "       'Drugs, sundries, and chemical and allied products, merchant wholesalers',\n",
       "       'Miscellaneous fabricated metal products manufacturing',\n",
       "       'Personal and household goods repair and maintenance',\n",
       "       'Barber shops', 'Paper and paper products, merchant wholesalers',\n",
       "       'Employment services',\n",
       "       'Electrical and electronic goods, merchant wholesalers',\n",
       "       'Automotive repair and maintenance', 'Miscellaneous wood products',\n",
       "       'Construction, and mining and oil and gas field machinery manufacturing    ',\n",
       "       'Structural metals, and boiler, tank, and shipping container manufacturing',\n",
       "       'Resin, synthetic rubber and fibers, and filaments manufacturing',\n",
       "       'Computer and peripheral equipment manufacturing    ',\n",
       "       'Soap, cleaning compound, and cosmetics manufacturing',\n",
       "       'U.S. Air Force',\n",
       "       'Electrical lighting and electrical equipment manufacturing, and other electrical component manufacturing, n.e.c.',\n",
       "       'Electric and gas, and other combinations',\n",
       "       'Aerospace product and parts manufacturing',\n",
       "       'Paperboard containers and boxes',\n",
       "       'Business, professional, political, and similar organizations',\n",
       "       'Water, steam, air-conditioning, and irrigation systems',\n",
       "       'Child day care services',\n",
       "       'Cement, concrete, lime, and gypsum product manufacturing',\n",
       "       'Printing and related support activities',\n",
       "       'Other general government and support',\n",
       "       'Waste management and remediation services',\n",
       "       'Business, technical, and trade schools and training',\n",
       "       'Other professional, scientific, and technical services',\n",
       "       'Railroad rolling stock manufacturing',\n",
       "       'Wholesale electronic markets, agents and brokers', 'Fuel dealers',\n",
       "       'Miscellaneous paper and pulp products',\n",
       "       'Securities, commodities, funds, trusts, and other financial investments',\n",
       "       'Sewage treatment facilities',\n",
       "       'Veneer, plywood, and engineered wood products',\n",
       "       'Sporting and athletic goods, and doll, toy and game manufacturing',\n",
       "       'Radio and television broadcasting and cable subscription programming',\n",
       "       'Advertising and related services',\n",
       "       'Fabric mills, except knitting mills',\n",
       "       'Management, scientific, and technical consulting services',\n",
       "       'Radio, TV, and computer stores', 'Metal ore mining',\n",
       "       'Natural gas distribution',\n",
       "       'Glass and glass product manufacturing',\n",
       "       'Not specified wholesale trade', 'Taxi and limousine service',\n",
       "       'Other personal services', 'Tobacco manufacturing',\n",
       "       'Periodical, book, and directory publishers',\n",
       "       'Residential care facilities, without nursing', 'Bowling centers',\n",
       "       'Household appliance stores', 'Business support services',\n",
       "       'Offices of optometrists',\n",
       "       'Civic, social, advocacy organizations, and grantmaking and giving services',\n",
       "       'Engines, turbines, and power transmission equipment manufacturing      ',\n",
       "       'Coal mining',\n",
       "       'Commercial and service industry machinery manufacturing',\n",
       "       'Footwear and leather goods repair',\n",
       "       'Administration of human resource programs', 'Hardware stores',\n",
       "       'Community food and housing, and emergency services',\n",
       "       'Funeral homes, and cemeteries and crematories',\n",
       "       'Agricultural chemical manufacturing',\n",
       "       'Paint, coating, and adhesive manufacturing',\n",
       "       'Lumber and other construction materials, merchant wholesalers',\n",
       "       'Knitting fabric mills, and apparel knitting mills',\n",
       "       'Bakeries, except retail', 'Investigation and security services',\n",
       "       'Plastics product manufacturing', 'Other health care services',\n",
       "       'U.S. Navy', 'Cutlery and hand tool manufacturing',\n",
       "       'Miscellaneous retail stores',\n",
       "       'Pharmaceutical and medicine manufacturing', 'Foundries',\n",
       "       'Not specified machinery manufacturing        ',\n",
       "       'Structural clay product manufacturing',\n",
       "       'Other motor vehicle dealers', 'Oil and gas extraction',\n",
       "       'Coating, engraving, heat treating and allied activities',\n",
       "       'Support activities for mining',\n",
       "       'Administration of economic programs and space research',\n",
       "       'Recreational vehicle parks and camps, and rooming and boarding houses',\n",
       "       'Specialized design services',\n",
       "       'Electronic and precision equipment repair and maintenance',\n",
       "       'U.S. Armed Forces/n.s.', 'Retail bakeries',\n",
       "       'Miscellaneous nondurable goods, merchant wholesalers',\n",
       "       'Navigational, measuring, electromedical, and control instruments manufacturing',\n",
       "       'Outpatient care centers', 'Ship and boat building',\n",
       "       'Motion pictures and video industries',\n",
       "       'Motor vehicles, parts and supplies, merchant wholesalers',\n",
       "       'Specialty food stores', 'Vending machine operators',\n",
       "       'Not specified retail trade', 'Landscaping services',\n",
       "       'Couriers and messengers', 'Labor unions',\n",
       "       'Drinking places, alcoholic beverages',\n",
       "       'Active duty military personnel, all other',\n",
       "       'Aluminum production and processing',\n",
       "       'Not specified type of mining',\n",
       "       'Animal food, grain, and oilseed milling',\n",
       "       'Beer, wine, and liquor stores',\n",
       "       'Apparel accessories and other apparel manufacturing',\n",
       "       'Mail order houses',\n",
       "       'Museums, art galleries, historical sites, and similar institutions',\n",
       "       'Miscellaneous durable goods, merchant wholesalers',\n",
       "       'Administration of environmental quality and housing programs',\n",
       "       'Not specified utilities',\n",
       "       'Commercial and industrial machinery and equipment repair and maintenance',\n",
       "       'Used merchandise stores',\n",
       "       'Savings institutions, including credit unions',\n",
       "       'Other telecommunications services', 'U.S. Army',\n",
       "       'Nonmetallic mineral mining and quarrying', 'Carpet and rug mills',\n",
       "       'Textile and fabric finishing and coating mills',\n",
       "       'Prefabricated wood buildings and mobile homes',\n",
       "       'Metal forgings and stampings',\n",
       "       'Computer systems design and related services',\n",
       "       'Other transportation equipment manufacturing',\n",
       "       'Alcoholic beverages, merchant wholesalers', 'Veterinary services',\n",
       "       'Vocational rehabilitation services',\n",
       "       'Furniture and home furnishing, merchant wholesalers',\n",
       "       'Shoe stores', 'Fishing, hunting, and trapping',\n",
       "       'Support activities for agriculture and forestry', 'Logging',\n",
       "       'Nail salons and other personal care services',\n",
       "       'Data processing, hosting, and related services',\n",
       "       'Automotive equipment rental and leasing', 'Retail florists',\n",
       "       'Book stores and news dealers',\n",
       "       'Miscellaneous petroleum and coal products', 'Music stores',\n",
       "       'U.S. Marine Corps', 'Farm supplies, merchant wholesalers',\n",
       "       'Travel arrangements and reservation services',\n",
       "       'Recyclable material, merchant wholesalers',\n",
       "       'Offices of chiropractors', 'Other consumer goods rental',\n",
       "       'Offices of other health practitioners', 'Pipeline transportation',\n",
       "       'Home health care services',\n",
       "       'Scenic and sightseeing transportation',\n",
       "       'Sporting goods, camera, and hobby and toy stores',\n",
       "       'Gift, novelty, and souvenir shops', 'Sound recording industries',\n",
       "       'U.S. Coast Guard',\n",
       "       'Commercial, industrial, and other intangible assets rental and leasing',\n",
       "       'Car washes', 'Video tape and disk rental', 'Software publishers',\n",
       "       'Electronic shopping', 'Electronic auctions',\n",
       "       'Internet publishing and broadcasting and web search portals',\n",
       "       'Other information services', '.s:  Skipped on Web'], dtype=object)"
      ]
     },
     "execution_count": 65,
     "metadata": {},
     "output_type": "execute_result"
    }
   ],
   "source": [
    "var = 'spind10'\n",
    "df[var].unique()"
   ]
  },
  {
   "cell_type": "markdown",
   "metadata": {},
   "source": [
    "Replace values that do not provide any information with nan."
   ]
  },
  {
   "cell_type": "code",
   "execution_count": 66,
   "metadata": {},
   "outputs": [],
   "source": [
    "df.loc[df[var] == \".i:  Inapplicable\", var] = np.nan\n",
    "df.loc[df[var] == \".d:  Do not Know/Cannot Choose\", var] = np.nan\n",
    "df.loc[df[var] == \".n:  No answer\", var] = np.nan\n",
    "df.loc[df[var] == \".s:  Skipped on Web\", var] = np.nan\n",
    "df.loc[df[var] == \".x:  Not available in this release\", var] = np.nan\n",
    "df.loc[df[var] == \".u:  Uncodable\"] = np.nan"
   ]
  },
  {
   "cell_type": "markdown",
   "metadata": {},
   "source": [
    "### Clean degree\n",
    "**degree**: highest degree\n"
   ]
  },
  {
   "cell_type": "markdown",
   "metadata": {},
   "source": [
    "Replace values that do not provide any information with nan."
   ]
  },
  {
   "cell_type": "code",
   "execution_count": 69,
   "metadata": {
    "colab": {
     "base_uri": "https://localhost:8080/"
    },
    "id": "pBfBbfH7eKRZ",
    "outputId": "be63aad3-0c28-473c-e895-c2d63d61c81b"
   },
   "outputs": [
    {
     "data": {
      "text/plain": [
       "array([\"Bachelor's\", 'Less than high school', 'High school', nan,\n",
       "       'Graduate', 'Associate/junior college'], dtype=object)"
      ]
     },
     "execution_count": 69,
     "metadata": {},
     "output_type": "execute_result"
    }
   ],
   "source": [
    "df.loc[df['degree'] == \".n:  No answer\", 'degree'] = np.nan\n",
    "df.loc[df['degree'] == \".d:  Do not Know/Cannot Choose\", 'degree'] = np.nan\n",
    "df.loc[df['degree'] == \".s:  Skipped on Web\", 'degree'] = np.nan\n",
    "\n",
    "df['degree'].unique()\n"
   ]
  },
  {
   "cell_type": "markdown",
   "metadata": {},
   "source": [
    "### Clean spdeg\n",
    "**spdeg**: spouse highest degree"
   ]
  },
  {
   "cell_type": "code",
   "execution_count": 70,
   "metadata": {},
   "outputs": [
    {
     "data": {
      "text/plain": [
       "array(['.i:  Inapplicable', 'HIGH SCHOOL', '.n:  No answer', 'GRADUATE',\n",
       "       'LT HIGH SCHOOL', nan, 'BACHELOR',\n",
       "       '.d:  Do not Know/Cannot Choose', 'ASSOCIATE/JUNIOR COLLEGE',\n",
       "       '.s:  Skipped on Web', '.x:  Not available in this release'],\n",
       "      dtype=object)"
      ]
     },
     "execution_count": 70,
     "metadata": {},
     "output_type": "execute_result"
    }
   ],
   "source": [
    "var = 'spdeg'\n",
    "df[var].unique()"
   ]
  },
  {
   "cell_type": "markdown",
   "metadata": {},
   "source": [
    "Replace values that do not provide information with nan.\n",
    "\n",
    "Replace values to match with degree."
   ]
  },
  {
   "cell_type": "code",
   "execution_count": 71,
   "metadata": {},
   "outputs": [],
   "source": [
    "df.loc[df[var] == \".i:  Inapplicable\", var] = np.nan\n",
    "df.loc[df[var] == \".d:  Do not Know/Cannot Choose\", var] = np.nan\n",
    "df.loc[df[var] == \".n:  No answer\", var] = np.nan\n",
    "df.loc[df[var] == \".s:  Skipped on Web\", var] = np.nan\n",
    "df.loc[df[var] == \".x:  Not available in this release\", var] = np.nan\n",
    "df.loc[df[var] == \"HIGH SCHOOL\", var] = \"High school\"\n",
    "df.loc[df[var] == \"GRADUATE\", var] = \"Graduate\"\n",
    "df.loc[df[var] == \"LT HIGH SCHOOL\", var] = \"Less than high school\"\n",
    "df.loc[df[var] == \"BACHELOR\", var] = \"Bachelor's\"\n",
    "df.loc[df[var] == \"ASSOCIATE/JUNIOR COLLEGE\", var] = \"Associate/junior college\""
   ]
  },
  {
   "cell_type": "code",
   "execution_count": 72,
   "metadata": {},
   "outputs": [
    {
     "data": {
      "text/plain": [
       "array([nan, 'High school', 'Graduate', 'Less than high school',\n",
       "       \"Bachelor's\", 'Associate/junior college'], dtype=object)"
      ]
     },
     "execution_count": 72,
     "metadata": {},
     "output_type": "execute_result"
    }
   ],
   "source": [
    "df[var].unique()"
   ]
  },
  {
   "cell_type": "markdown",
   "metadata": {},
   "source": [
    "### Clean ballot\n",
    "**ballot**: ballot used for interview"
   ]
  },
  {
   "cell_type": "code",
   "execution_count": 73,
   "metadata": {},
   "outputs": [
    {
     "data": {
      "text/plain": [
       "array(['.i:  Inapplicable', nan, 'Ballot b', 'Ballot c', 'Ballot a',\n",
       "       'Ballot d'], dtype=object)"
      ]
     },
     "execution_count": 73,
     "metadata": {},
     "output_type": "execute_result"
    }
   ],
   "source": [
    "var = 'ballot'\n",
    "df[var].unique()"
   ]
  },
  {
   "cell_type": "code",
   "execution_count": 74,
   "metadata": {},
   "outputs": [],
   "source": [
    "df.loc[df[var] == \".i:  Inapplicable\", var] = np.nan\n",
    "df.loc[df[var] == \"Ballot a\", var] = 'A'\n",
    "df.loc[df[var] == \"Ballot b\", var] = 'B'\n",
    "df.loc[df[var] == \"Ballot c\", var] = 'C'\n",
    "df.loc[df[var] == \"Ballot d\", var] = 'D'"
   ]
  },
  {
   "cell_type": "code",
   "execution_count": 75,
   "metadata": {},
   "outputs": [
    {
     "data": {
      "text/plain": [
       "array([nan, 'B', 'C', 'A', 'D'], dtype=object)"
      ]
     },
     "execution_count": 75,
     "metadata": {},
     "output_type": "execute_result"
    }
   ],
   "source": [
    "df[var].unique()"
   ]
  },
  {
   "cell_type": "markdown",
   "metadata": {},
   "source": [
    "## Create DataFrames"
   ]
  },
  {
   "cell_type": "markdown",
   "metadata": {},
   "source": [
    "In this section we will construct a variety of dataframes to select different combinations"
   ]
  },
  {
   "cell_type": "markdown",
   "metadata": {},
   "source": [
    "#### df_usable"
   ]
  },
  {
   "cell_type": "code",
   "execution_count": 78,
   "metadata": {},
   "outputs": [
    {
     "data": {
      "text/html": [
       "<div>\n",
       "<style scoped>\n",
       "    .dataframe tbody tr th:only-of-type {\n",
       "        vertical-align: middle;\n",
       "    }\n",
       "\n",
       "    .dataframe tbody tr th {\n",
       "        vertical-align: top;\n",
       "    }\n",
       "\n",
       "    .dataframe thead th {\n",
       "        text-align: right;\n",
       "    }\n",
       "</style>\n",
       "<table border=\"1\" class=\"dataframe\">\n",
       "  <thead>\n",
       "    <tr style=\"text-align: right;\">\n",
       "      <th></th>\n",
       "      <th>year</th>\n",
       "      <th>id_</th>\n",
       "      <th>wrkstat</th>\n",
       "      <th>hrs1</th>\n",
       "      <th>hrs2</th>\n",
       "      <th>evwork</th>\n",
       "      <th>wrkslf</th>\n",
       "      <th>marital</th>\n",
       "      <th>divorce</th>\n",
       "      <th>spwrksta</th>\n",
       "      <th>sphrs1</th>\n",
       "      <th>sphrs2</th>\n",
       "      <th>spevwork</th>\n",
       "      <th>spwrkslf</th>\n",
       "      <th>spocc10</th>\n",
       "      <th>spind10</th>\n",
       "      <th>degree</th>\n",
       "      <th>spdeg</th>\n",
       "      <th>ballot</th>\n",
       "    </tr>\n",
       "  </thead>\n",
       "  <tbody>\n",
       "    <tr>\n",
       "      <th>1615</th>\n",
       "      <td>1973.0</td>\n",
       "      <td>3.0</td>\n",
       "      <td>Full Time</td>\n",
       "      <td>40.0</td>\n",
       "      <td>40.0</td>\n",
       "      <td>NaN</td>\n",
       "      <td>Someone else</td>\n",
       "      <td>Married</td>\n",
       "      <td>NO</td>\n",
       "      <td>Full Time</td>\n",
       "      <td>40.0</td>\n",
       "      <td>NaN</td>\n",
       "      <td>NaN</td>\n",
       "      <td>Someone else</td>\n",
       "      <td>Painters, construction and maintenance</td>\n",
       "      <td>Construction</td>\n",
       "      <td>Less than high school</td>\n",
       "      <td>Less than high school</td>\n",
       "      <td>NaN</td>\n",
       "    </tr>\n",
       "    <tr>\n",
       "      <th>1616</th>\n",
       "      <td>1973.0</td>\n",
       "      <td>4.0</td>\n",
       "      <td>Full Time</td>\n",
       "      <td>40.0</td>\n",
       "      <td>40.0</td>\n",
       "      <td>NaN</td>\n",
       "      <td>Someone else</td>\n",
       "      <td>Married</td>\n",
       "      <td>NO</td>\n",
       "      <td>Full Time</td>\n",
       "      <td>37.0</td>\n",
       "      <td>NaN</td>\n",
       "      <td>NaN</td>\n",
       "      <td>Someone else</td>\n",
       "      <td>Print binding and finishing workers</td>\n",
       "      <td>Periodical, book, and directory publishers</td>\n",
       "      <td>High school</td>\n",
       "      <td>High school</td>\n",
       "      <td>NaN</td>\n",
       "    </tr>\n",
       "    <tr>\n",
       "      <th>1628</th>\n",
       "      <td>1973.0</td>\n",
       "      <td>16.0</td>\n",
       "      <td>Full Time</td>\n",
       "      <td>60.0</td>\n",
       "      <td>60.0</td>\n",
       "      <td>NaN</td>\n",
       "      <td>Self-employed</td>\n",
       "      <td>Married</td>\n",
       "      <td>NO</td>\n",
       "      <td>Full Time</td>\n",
       "      <td>44.0</td>\n",
       "      <td>NaN</td>\n",
       "      <td>NaN</td>\n",
       "      <td>Self-employed</td>\n",
       "      <td>Bookkeeping, accounting, and auditing clerks</td>\n",
       "      <td>Natural gas distribution</td>\n",
       "      <td>High school</td>\n",
       "      <td>High school</td>\n",
       "      <td>NaN</td>\n",
       "    </tr>\n",
       "    <tr>\n",
       "      <th>1649</th>\n",
       "      <td>1973.0</td>\n",
       "      <td>37.0</td>\n",
       "      <td>Part Time</td>\n",
       "      <td>23.0</td>\n",
       "      <td>23.0</td>\n",
       "      <td>NaN</td>\n",
       "      <td>Someone else</td>\n",
       "      <td>Married</td>\n",
       "      <td>NO</td>\n",
       "      <td>Full Time</td>\n",
       "      <td>50.0</td>\n",
       "      <td>NaN</td>\n",
       "      <td>NaN</td>\n",
       "      <td>Someone else</td>\n",
       "      <td>Sales representatives,  wholesale and manufact...</td>\n",
       "      <td>Not specified manufacturing industries</td>\n",
       "      <td>Bachelor's</td>\n",
       "      <td>Bachelor's</td>\n",
       "      <td>NaN</td>\n",
       "    </tr>\n",
       "    <tr>\n",
       "      <th>1660</th>\n",
       "      <td>1973.0</td>\n",
       "      <td>48.0</td>\n",
       "      <td>Full Time</td>\n",
       "      <td>60.0</td>\n",
       "      <td>60.0</td>\n",
       "      <td>NaN</td>\n",
       "      <td>Someone else</td>\n",
       "      <td>Married</td>\n",
       "      <td>NO</td>\n",
       "      <td>Full Time</td>\n",
       "      <td>40.0</td>\n",
       "      <td>NaN</td>\n",
       "      <td>NaN</td>\n",
       "      <td>Someone else</td>\n",
       "      <td>Secretaries and administrative assistants</td>\n",
       "      <td>Colleges and universities, including junior co...</td>\n",
       "      <td>Bachelor's</td>\n",
       "      <td>Graduate</td>\n",
       "      <td>NaN</td>\n",
       "    </tr>\n",
       "  </tbody>\n",
       "</table>\n",
       "</div>"
      ],
      "text/plain": [
       "        year   id_    wrkstat  hrs1  hrs2 evwork         wrkslf  marital  \\\n",
       "1615  1973.0   3.0  Full Time  40.0  40.0    NaN   Someone else  Married   \n",
       "1616  1973.0   4.0  Full Time  40.0  40.0    NaN   Someone else  Married   \n",
       "1628  1973.0  16.0  Full Time  60.0  60.0    NaN  Self-employed  Married   \n",
       "1649  1973.0  37.0  Part Time  23.0  23.0    NaN   Someone else  Married   \n",
       "1660  1973.0  48.0  Full Time  60.0  60.0    NaN   Someone else  Married   \n",
       "\n",
       "     divorce   spwrksta  sphrs1  sphrs2 spevwork       spwrkslf  \\\n",
       "1615      NO  Full Time    40.0     NaN      NaN   Someone else   \n",
       "1616      NO  Full Time    37.0     NaN      NaN   Someone else   \n",
       "1628      NO  Full Time    44.0     NaN      NaN  Self-employed   \n",
       "1649      NO  Full Time    50.0     NaN      NaN   Someone else   \n",
       "1660      NO  Full Time    40.0     NaN      NaN   Someone else   \n",
       "\n",
       "                                                spocc10  \\\n",
       "1615             Painters, construction and maintenance   \n",
       "1616                Print binding and finishing workers   \n",
       "1628       Bookkeeping, accounting, and auditing clerks   \n",
       "1649  Sales representatives,  wholesale and manufact...   \n",
       "1660          Secretaries and administrative assistants   \n",
       "\n",
       "                                                spind10  \\\n",
       "1615                                       Construction   \n",
       "1616         Periodical, book, and directory publishers   \n",
       "1628                           Natural gas distribution   \n",
       "1649             Not specified manufacturing industries   \n",
       "1660  Colleges and universities, including junior co...   \n",
       "\n",
       "                     degree                  spdeg ballot  \n",
       "1615  Less than high school  Less than high school    NaN  \n",
       "1616            High school            High school    NaN  \n",
       "1628            High school            High school    NaN  \n",
       "1649             Bachelor's             Bachelor's    NaN  \n",
       "1660             Bachelor's               Graduate    NaN  "
      ]
     },
     "execution_count": 78,
     "metadata": {},
     "output_type": "execute_result"
    }
   ],
   "source": [
    "df_usable = df\n",
    "df_usable = df_usable[df_usable['hrs1'].notna()]\n",
    "df_usable = df_usable[df_usable['sphrs1'].notna()]\n",
    "df_usable.head()"
   ]
  },
  {
   "cell_type": "markdown",
   "metadata": {},
   "source": [
    "#### married_df"
   ]
  },
  {
   "cell_type": "markdown",
   "metadata": {},
   "source": [
    "Create married_df containing all rows containing married participants"
   ]
  },
  {
   "cell_type": "code",
   "execution_count": 79,
   "metadata": {
    "colab": {
     "base_uri": "https://localhost:8080/",
     "height": 539
    },
    "id": "QfJaT_zmDIdY",
    "outputId": "40174245-8c79-4ff0-973b-531ae72d714a"
   },
   "outputs": [
    {
     "data": {
      "text/html": [
       "<div>\n",
       "<style scoped>\n",
       "    .dataframe tbody tr th:only-of-type {\n",
       "        vertical-align: middle;\n",
       "    }\n",
       "\n",
       "    .dataframe tbody tr th {\n",
       "        vertical-align: top;\n",
       "    }\n",
       "\n",
       "    .dataframe thead th {\n",
       "        text-align: right;\n",
       "    }\n",
       "</style>\n",
       "<table border=\"1\" class=\"dataframe\">\n",
       "  <thead>\n",
       "    <tr style=\"text-align: right;\">\n",
       "      <th></th>\n",
       "      <th>year</th>\n",
       "      <th>id_</th>\n",
       "      <th>wrkstat</th>\n",
       "      <th>hrs1</th>\n",
       "      <th>hrs2</th>\n",
       "      <th>evwork</th>\n",
       "      <th>wrkslf</th>\n",
       "      <th>marital</th>\n",
       "      <th>divorce</th>\n",
       "      <th>spwrksta</th>\n",
       "      <th>sphrs1</th>\n",
       "      <th>sphrs2</th>\n",
       "      <th>spevwork</th>\n",
       "      <th>spwrkslf</th>\n",
       "      <th>spocc10</th>\n",
       "      <th>spind10</th>\n",
       "      <th>degree</th>\n",
       "      <th>spdeg</th>\n",
       "      <th>ballot</th>\n",
       "    </tr>\n",
       "  </thead>\n",
       "  <tbody>\n",
       "    <tr>\n",
       "      <th>1615</th>\n",
       "      <td>1973.0</td>\n",
       "      <td>3.0</td>\n",
       "      <td>Full Time</td>\n",
       "      <td>40.0</td>\n",
       "      <td>40.0</td>\n",
       "      <td>NaN</td>\n",
       "      <td>Someone else</td>\n",
       "      <td>Married</td>\n",
       "      <td>NO</td>\n",
       "      <td>Full Time</td>\n",
       "      <td>40.0</td>\n",
       "      <td>NaN</td>\n",
       "      <td>NaN</td>\n",
       "      <td>Someone else</td>\n",
       "      <td>Painters, construction and maintenance</td>\n",
       "      <td>Construction</td>\n",
       "      <td>Less than high school</td>\n",
       "      <td>Less than high school</td>\n",
       "      <td>NaN</td>\n",
       "    </tr>\n",
       "    <tr>\n",
       "      <th>1616</th>\n",
       "      <td>1973.0</td>\n",
       "      <td>4.0</td>\n",
       "      <td>Full Time</td>\n",
       "      <td>40.0</td>\n",
       "      <td>40.0</td>\n",
       "      <td>NaN</td>\n",
       "      <td>Someone else</td>\n",
       "      <td>Married</td>\n",
       "      <td>NO</td>\n",
       "      <td>Full Time</td>\n",
       "      <td>37.0</td>\n",
       "      <td>NaN</td>\n",
       "      <td>NaN</td>\n",
       "      <td>Someone else</td>\n",
       "      <td>Print binding and finishing workers</td>\n",
       "      <td>Periodical, book, and directory publishers</td>\n",
       "      <td>High school</td>\n",
       "      <td>High school</td>\n",
       "      <td>NaN</td>\n",
       "    </tr>\n",
       "    <tr>\n",
       "      <th>1622</th>\n",
       "      <td>1973.0</td>\n",
       "      <td>10.0</td>\n",
       "      <td>Full Time</td>\n",
       "      <td>40.0</td>\n",
       "      <td>40.0</td>\n",
       "      <td>NaN</td>\n",
       "      <td>Someone else</td>\n",
       "      <td>Married</td>\n",
       "      <td>NO</td>\n",
       "      <td>Keeping House</td>\n",
       "      <td>NaN</td>\n",
       "      <td>NaN</td>\n",
       "      <td>YES</td>\n",
       "      <td>Someone else</td>\n",
       "      <td>Secretaries and administrative assistants</td>\n",
       "      <td>Fuel dealers</td>\n",
       "      <td>Bachelor's</td>\n",
       "      <td>High school</td>\n",
       "      <td>NaN</td>\n",
       "    </tr>\n",
       "    <tr>\n",
       "      <th>1624</th>\n",
       "      <td>1973.0</td>\n",
       "      <td>12.0</td>\n",
       "      <td>Full Time</td>\n",
       "      <td>70.0</td>\n",
       "      <td>70.0</td>\n",
       "      <td>NaN</td>\n",
       "      <td>Self-employed</td>\n",
       "      <td>Married</td>\n",
       "      <td>NO</td>\n",
       "      <td>Keeping House</td>\n",
       "      <td>NaN</td>\n",
       "      <td>NaN</td>\n",
       "      <td>YES</td>\n",
       "      <td>Someone else</td>\n",
       "      <td>Miscellaneous assemblers and fabricators</td>\n",
       "      <td>Engines, turbines, and power transmission equi...</td>\n",
       "      <td>High school</td>\n",
       "      <td>High school</td>\n",
       "      <td>NaN</td>\n",
       "    </tr>\n",
       "    <tr>\n",
       "      <th>1628</th>\n",
       "      <td>1973.0</td>\n",
       "      <td>16.0</td>\n",
       "      <td>Full Time</td>\n",
       "      <td>60.0</td>\n",
       "      <td>60.0</td>\n",
       "      <td>NaN</td>\n",
       "      <td>Self-employed</td>\n",
       "      <td>Married</td>\n",
       "      <td>NO</td>\n",
       "      <td>Full Time</td>\n",
       "      <td>44.0</td>\n",
       "      <td>NaN</td>\n",
       "      <td>NaN</td>\n",
       "      <td>Self-employed</td>\n",
       "      <td>Bookkeeping, accounting, and auditing clerks</td>\n",
       "      <td>Natural gas distribution</td>\n",
       "      <td>High school</td>\n",
       "      <td>High school</td>\n",
       "      <td>NaN</td>\n",
       "    </tr>\n",
       "  </tbody>\n",
       "</table>\n",
       "</div>"
      ],
      "text/plain": [
       "        year   id_    wrkstat  hrs1  hrs2 evwork         wrkslf  marital  \\\n",
       "1615  1973.0   3.0  Full Time  40.0  40.0    NaN   Someone else  Married   \n",
       "1616  1973.0   4.0  Full Time  40.0  40.0    NaN   Someone else  Married   \n",
       "1622  1973.0  10.0  Full Time  40.0  40.0    NaN   Someone else  Married   \n",
       "1624  1973.0  12.0  Full Time  70.0  70.0    NaN  Self-employed  Married   \n",
       "1628  1973.0  16.0  Full Time  60.0  60.0    NaN  Self-employed  Married   \n",
       "\n",
       "     divorce       spwrksta  sphrs1  sphrs2 spevwork       spwrkslf  \\\n",
       "1615      NO      Full Time    40.0     NaN      NaN   Someone else   \n",
       "1616      NO      Full Time    37.0     NaN      NaN   Someone else   \n",
       "1622      NO  Keeping House     NaN     NaN      YES   Someone else   \n",
       "1624      NO  Keeping House     NaN     NaN      YES   Someone else   \n",
       "1628      NO      Full Time    44.0     NaN      NaN  Self-employed   \n",
       "\n",
       "                                           spocc10  \\\n",
       "1615        Painters, construction and maintenance   \n",
       "1616           Print binding and finishing workers   \n",
       "1622     Secretaries and administrative assistants   \n",
       "1624      Miscellaneous assemblers and fabricators   \n",
       "1628  Bookkeeping, accounting, and auditing clerks   \n",
       "\n",
       "                                                spind10  \\\n",
       "1615                                       Construction   \n",
       "1616         Periodical, book, and directory publishers   \n",
       "1622                                       Fuel dealers   \n",
       "1624  Engines, turbines, and power transmission equi...   \n",
       "1628                           Natural gas distribution   \n",
       "\n",
       "                     degree                  spdeg ballot  \n",
       "1615  Less than high school  Less than high school    NaN  \n",
       "1616            High school            High school    NaN  \n",
       "1622             Bachelor's            High school    NaN  \n",
       "1624            High school            High school    NaN  \n",
       "1628            High school            High school    NaN  "
      ]
     },
     "execution_count": 79,
     "metadata": {},
     "output_type": "execute_result"
    }
   ],
   "source": [
    "married_df = df.loc[df['marital'] == 'Married']\n",
    "married_df = married_df[married_df['hrs1'].notna()]\n",
    "married_df.head()"
   ]
  },
  {
   "cell_type": "markdown",
   "metadata": {},
   "source": [
    "#### single_df"
   ]
  },
  {
   "cell_type": "markdown",
   "metadata": {},
   "source": [
    "Create single_df containing all rows containing non-married participants"
   ]
  },
  {
   "cell_type": "code",
   "execution_count": 80,
   "metadata": {
    "colab": {
     "base_uri": "https://localhost:8080/",
     "height": 330
    },
    "id": "INDyuhi4Dfv_",
    "outputId": "8af8e47a-077f-4b5f-8c87-955043e81307"
   },
   "outputs": [
    {
     "data": {
      "text/html": [
       "<div>\n",
       "<style scoped>\n",
       "    .dataframe tbody tr th:only-of-type {\n",
       "        vertical-align: middle;\n",
       "    }\n",
       "\n",
       "    .dataframe tbody tr th {\n",
       "        vertical-align: top;\n",
       "    }\n",
       "\n",
       "    .dataframe thead th {\n",
       "        text-align: right;\n",
       "    }\n",
       "</style>\n",
       "<table border=\"1\" class=\"dataframe\">\n",
       "  <thead>\n",
       "    <tr style=\"text-align: right;\">\n",
       "      <th></th>\n",
       "      <th>year</th>\n",
       "      <th>id_</th>\n",
       "      <th>wrkstat</th>\n",
       "      <th>hrs1</th>\n",
       "      <th>hrs2</th>\n",
       "      <th>evwork</th>\n",
       "      <th>wrkslf</th>\n",
       "      <th>marital</th>\n",
       "      <th>divorce</th>\n",
       "      <th>spwrksta</th>\n",
       "      <th>sphrs1</th>\n",
       "      <th>sphrs2</th>\n",
       "      <th>spevwork</th>\n",
       "      <th>spwrkslf</th>\n",
       "      <th>spocc10</th>\n",
       "      <th>spind10</th>\n",
       "      <th>degree</th>\n",
       "      <th>spdeg</th>\n",
       "      <th>ballot</th>\n",
       "    </tr>\n",
       "  </thead>\n",
       "  <tbody>\n",
       "    <tr>\n",
       "      <th>1618</th>\n",
       "      <td>1973.0</td>\n",
       "      <td>6.0</td>\n",
       "      <td>Full Time</td>\n",
       "      <td>52.0</td>\n",
       "      <td>52.0</td>\n",
       "      <td>NaN</td>\n",
       "      <td>Someone else</td>\n",
       "      <td>Divorced</td>\n",
       "      <td>NaN</td>\n",
       "      <td>NaN</td>\n",
       "      <td>NaN</td>\n",
       "      <td>NaN</td>\n",
       "      <td>NaN</td>\n",
       "      <td>NaN</td>\n",
       "      <td>NaN</td>\n",
       "      <td>NaN</td>\n",
       "      <td>High school</td>\n",
       "      <td>NaN</td>\n",
       "      <td>NaN</td>\n",
       "    </tr>\n",
       "    <tr>\n",
       "      <th>1620</th>\n",
       "      <td>1973.0</td>\n",
       "      <td>8.0</td>\n",
       "      <td>Full Time</td>\n",
       "      <td>35.0</td>\n",
       "      <td>35.0</td>\n",
       "      <td>NaN</td>\n",
       "      <td>Someone else</td>\n",
       "      <td>Never married</td>\n",
       "      <td>NaN</td>\n",
       "      <td>NaN</td>\n",
       "      <td>NaN</td>\n",
       "      <td>NaN</td>\n",
       "      <td>NaN</td>\n",
       "      <td>NaN</td>\n",
       "      <td>NaN</td>\n",
       "      <td>NaN</td>\n",
       "      <td>Bachelor's</td>\n",
       "      <td>NaN</td>\n",
       "      <td>NaN</td>\n",
       "    </tr>\n",
       "    <tr>\n",
       "      <th>1623</th>\n",
       "      <td>1973.0</td>\n",
       "      <td>11.0</td>\n",
       "      <td>Full Time</td>\n",
       "      <td>45.0</td>\n",
       "      <td>45.0</td>\n",
       "      <td>NaN</td>\n",
       "      <td>Someone else</td>\n",
       "      <td>Widowed</td>\n",
       "      <td>NO</td>\n",
       "      <td>NaN</td>\n",
       "      <td>NaN</td>\n",
       "      <td>NaN</td>\n",
       "      <td>NaN</td>\n",
       "      <td>NaN</td>\n",
       "      <td>NaN</td>\n",
       "      <td>NaN</td>\n",
       "      <td>Less than high school</td>\n",
       "      <td>NaN</td>\n",
       "      <td>NaN</td>\n",
       "    </tr>\n",
       "    <tr>\n",
       "      <th>1631</th>\n",
       "      <td>1973.0</td>\n",
       "      <td>19.0</td>\n",
       "      <td>Full Time</td>\n",
       "      <td>40.0</td>\n",
       "      <td>40.0</td>\n",
       "      <td>NaN</td>\n",
       "      <td>Someone else</td>\n",
       "      <td>Divorced</td>\n",
       "      <td>NaN</td>\n",
       "      <td>NaN</td>\n",
       "      <td>NaN</td>\n",
       "      <td>NaN</td>\n",
       "      <td>NaN</td>\n",
       "      <td>NaN</td>\n",
       "      <td>NaN</td>\n",
       "      <td>NaN</td>\n",
       "      <td>High school</td>\n",
       "      <td>NaN</td>\n",
       "      <td>NaN</td>\n",
       "    </tr>\n",
       "    <tr>\n",
       "      <th>1642</th>\n",
       "      <td>1973.0</td>\n",
       "      <td>30.0</td>\n",
       "      <td>Full Time</td>\n",
       "      <td>40.0</td>\n",
       "      <td>40.0</td>\n",
       "      <td>NaN</td>\n",
       "      <td>Someone else</td>\n",
       "      <td>Never married</td>\n",
       "      <td>NaN</td>\n",
       "      <td>NaN</td>\n",
       "      <td>NaN</td>\n",
       "      <td>NaN</td>\n",
       "      <td>NaN</td>\n",
       "      <td>NaN</td>\n",
       "      <td>NaN</td>\n",
       "      <td>NaN</td>\n",
       "      <td>High school</td>\n",
       "      <td>NaN</td>\n",
       "      <td>NaN</td>\n",
       "    </tr>\n",
       "  </tbody>\n",
       "</table>\n",
       "</div>"
      ],
      "text/plain": [
       "        year   id_    wrkstat  hrs1  hrs2 evwork        wrkslf        marital  \\\n",
       "1618  1973.0   6.0  Full Time  52.0  52.0    NaN  Someone else       Divorced   \n",
       "1620  1973.0   8.0  Full Time  35.0  35.0    NaN  Someone else  Never married   \n",
       "1623  1973.0  11.0  Full Time  45.0  45.0    NaN  Someone else        Widowed   \n",
       "1631  1973.0  19.0  Full Time  40.0  40.0    NaN  Someone else       Divorced   \n",
       "1642  1973.0  30.0  Full Time  40.0  40.0    NaN  Someone else  Never married   \n",
       "\n",
       "     divorce spwrksta  sphrs1  sphrs2 spevwork spwrkslf spocc10 spind10  \\\n",
       "1618     NaN      NaN     NaN     NaN      NaN      NaN     NaN     NaN   \n",
       "1620     NaN      NaN     NaN     NaN      NaN      NaN     NaN     NaN   \n",
       "1623      NO      NaN     NaN     NaN      NaN      NaN     NaN     NaN   \n",
       "1631     NaN      NaN     NaN     NaN      NaN      NaN     NaN     NaN   \n",
       "1642     NaN      NaN     NaN     NaN      NaN      NaN     NaN     NaN   \n",
       "\n",
       "                     degree spdeg ballot  \n",
       "1618            High school   NaN    NaN  \n",
       "1620             Bachelor's   NaN    NaN  \n",
       "1623  Less than high school   NaN    NaN  \n",
       "1631            High school   NaN    NaN  \n",
       "1642            High school   NaN    NaN  "
      ]
     },
     "execution_count": 80,
     "metadata": {},
     "output_type": "execute_result"
    }
   ],
   "source": [
    "single_df = df.loc[df['marital'] != 'Married']\n",
    "single_df = single_df[single_df['hrs1'].notna()]\n",
    "single_df.head()"
   ]
  },
  {
   "cell_type": "markdown",
   "metadata": {},
   "source": [
    "#### divorced_single_df"
   ]
  },
  {
   "cell_type": "code",
   "execution_count": 81,
   "metadata": {},
   "outputs": [
    {
     "data": {
      "text/html": [
       "<div>\n",
       "<style scoped>\n",
       "    .dataframe tbody tr th:only-of-type {\n",
       "        vertical-align: middle;\n",
       "    }\n",
       "\n",
       "    .dataframe tbody tr th {\n",
       "        vertical-align: top;\n",
       "    }\n",
       "\n",
       "    .dataframe thead th {\n",
       "        text-align: right;\n",
       "    }\n",
       "</style>\n",
       "<table border=\"1\" class=\"dataframe\">\n",
       "  <thead>\n",
       "    <tr style=\"text-align: right;\">\n",
       "      <th></th>\n",
       "      <th>year</th>\n",
       "      <th>id_</th>\n",
       "      <th>wrkstat</th>\n",
       "      <th>hrs1</th>\n",
       "      <th>hrs2</th>\n",
       "      <th>evwork</th>\n",
       "      <th>wrkslf</th>\n",
       "      <th>marital</th>\n",
       "      <th>divorce</th>\n",
       "      <th>spwrksta</th>\n",
       "      <th>sphrs1</th>\n",
       "      <th>sphrs2</th>\n",
       "      <th>spevwork</th>\n",
       "      <th>spwrkslf</th>\n",
       "      <th>spocc10</th>\n",
       "      <th>spind10</th>\n",
       "      <th>degree</th>\n",
       "      <th>spdeg</th>\n",
       "      <th>ballot</th>\n",
       "    </tr>\n",
       "  </thead>\n",
       "  <tbody>\n",
       "    <tr>\n",
       "      <th>1925</th>\n",
       "      <td>1973.0</td>\n",
       "      <td>313.0</td>\n",
       "      <td>Full Time</td>\n",
       "      <td>35.0</td>\n",
       "      <td>35.0</td>\n",
       "      <td>NaN</td>\n",
       "      <td>Someone else</td>\n",
       "      <td>Widowed</td>\n",
       "      <td>YES</td>\n",
       "      <td>NaN</td>\n",
       "      <td>NaN</td>\n",
       "      <td>NaN</td>\n",
       "      <td>NaN</td>\n",
       "      <td>NaN</td>\n",
       "      <td>NaN</td>\n",
       "      <td>NaN</td>\n",
       "      <td>High school</td>\n",
       "      <td>NaN</td>\n",
       "      <td>NaN</td>\n",
       "    </tr>\n",
       "    <tr>\n",
       "      <th>2076</th>\n",
       "      <td>1973.0</td>\n",
       "      <td>464.0</td>\n",
       "      <td>Part Time</td>\n",
       "      <td>25.0</td>\n",
       "      <td>25.0</td>\n",
       "      <td>NaN</td>\n",
       "      <td>Someone else</td>\n",
       "      <td>Widowed</td>\n",
       "      <td>YES</td>\n",
       "      <td>NaN</td>\n",
       "      <td>NaN</td>\n",
       "      <td>NaN</td>\n",
       "      <td>NaN</td>\n",
       "      <td>NaN</td>\n",
       "      <td>NaN</td>\n",
       "      <td>NaN</td>\n",
       "      <td>Graduate</td>\n",
       "      <td>NaN</td>\n",
       "      <td>NaN</td>\n",
       "    </tr>\n",
       "    <tr>\n",
       "      <th>2173</th>\n",
       "      <td>1973.0</td>\n",
       "      <td>561.0</td>\n",
       "      <td>Full Time</td>\n",
       "      <td>45.0</td>\n",
       "      <td>45.0</td>\n",
       "      <td>NaN</td>\n",
       "      <td>Self-employed</td>\n",
       "      <td>Widowed</td>\n",
       "      <td>YES</td>\n",
       "      <td>NaN</td>\n",
       "      <td>NaN</td>\n",
       "      <td>NaN</td>\n",
       "      <td>NaN</td>\n",
       "      <td>NaN</td>\n",
       "      <td>NaN</td>\n",
       "      <td>NaN</td>\n",
       "      <td>Less than high school</td>\n",
       "      <td>NaN</td>\n",
       "      <td>NaN</td>\n",
       "    </tr>\n",
       "    <tr>\n",
       "      <th>2485</th>\n",
       "      <td>1973.0</td>\n",
       "      <td>873.0</td>\n",
       "      <td>Full Time</td>\n",
       "      <td>30.0</td>\n",
       "      <td>30.0</td>\n",
       "      <td>NaN</td>\n",
       "      <td>Someone else</td>\n",
       "      <td>Widowed</td>\n",
       "      <td>YES</td>\n",
       "      <td>NaN</td>\n",
       "      <td>NaN</td>\n",
       "      <td>NaN</td>\n",
       "      <td>NaN</td>\n",
       "      <td>NaN</td>\n",
       "      <td>NaN</td>\n",
       "      <td>NaN</td>\n",
       "      <td>Bachelor's</td>\n",
       "      <td>NaN</td>\n",
       "      <td>NaN</td>\n",
       "    </tr>\n",
       "    <tr>\n",
       "      <th>2954</th>\n",
       "      <td>1973.0</td>\n",
       "      <td>1342.0</td>\n",
       "      <td>Part Time</td>\n",
       "      <td>12.0</td>\n",
       "      <td>12.0</td>\n",
       "      <td>NaN</td>\n",
       "      <td>Someone else</td>\n",
       "      <td>Widowed</td>\n",
       "      <td>YES</td>\n",
       "      <td>NaN</td>\n",
       "      <td>NaN</td>\n",
       "      <td>NaN</td>\n",
       "      <td>NaN</td>\n",
       "      <td>NaN</td>\n",
       "      <td>NaN</td>\n",
       "      <td>NaN</td>\n",
       "      <td>Less than high school</td>\n",
       "      <td>NaN</td>\n",
       "      <td>NaN</td>\n",
       "    </tr>\n",
       "  </tbody>\n",
       "</table>\n",
       "</div>"
      ],
      "text/plain": [
       "        year     id_    wrkstat  hrs1  hrs2 evwork         wrkslf  marital  \\\n",
       "1925  1973.0   313.0  Full Time  35.0  35.0    NaN   Someone else  Widowed   \n",
       "2076  1973.0   464.0  Part Time  25.0  25.0    NaN   Someone else  Widowed   \n",
       "2173  1973.0   561.0  Full Time  45.0  45.0    NaN  Self-employed  Widowed   \n",
       "2485  1973.0   873.0  Full Time  30.0  30.0    NaN   Someone else  Widowed   \n",
       "2954  1973.0  1342.0  Part Time  12.0  12.0    NaN   Someone else  Widowed   \n",
       "\n",
       "     divorce spwrksta  sphrs1  sphrs2 spevwork spwrkslf spocc10 spind10  \\\n",
       "1925     YES      NaN     NaN     NaN      NaN      NaN     NaN     NaN   \n",
       "2076     YES      NaN     NaN     NaN      NaN      NaN     NaN     NaN   \n",
       "2173     YES      NaN     NaN     NaN      NaN      NaN     NaN     NaN   \n",
       "2485     YES      NaN     NaN     NaN      NaN      NaN     NaN     NaN   \n",
       "2954     YES      NaN     NaN     NaN      NaN      NaN     NaN     NaN   \n",
       "\n",
       "                     degree spdeg ballot  \n",
       "1925            High school   NaN    NaN  \n",
       "2076               Graduate   NaN    NaN  \n",
       "2173  Less than high school   NaN    NaN  \n",
       "2485             Bachelor's   NaN    NaN  \n",
       "2954  Less than high school   NaN    NaN  "
      ]
     },
     "execution_count": 81,
     "metadata": {},
     "output_type": "execute_result"
    }
   ],
   "source": [
    "divorced_single_df = single_df.loc[single_df['divorce'] == 'YES']\n",
    "divorced_single_df = divorced_single_df[divorced_single_df['hrs1'].notna()]\n",
    "divorced_single_df.head()"
   ]
  },
  {
   "cell_type": "markdown",
   "metadata": {},
   "source": [
    "#### divorced_remarried_df"
   ]
  },
  {
   "cell_type": "code",
   "execution_count": 82,
   "metadata": {},
   "outputs": [
    {
     "data": {
      "text/html": [
       "<div>\n",
       "<style scoped>\n",
       "    .dataframe tbody tr th:only-of-type {\n",
       "        vertical-align: middle;\n",
       "    }\n",
       "\n",
       "    .dataframe tbody tr th {\n",
       "        vertical-align: top;\n",
       "    }\n",
       "\n",
       "    .dataframe thead th {\n",
       "        text-align: right;\n",
       "    }\n",
       "</style>\n",
       "<table border=\"1\" class=\"dataframe\">\n",
       "  <thead>\n",
       "    <tr style=\"text-align: right;\">\n",
       "      <th></th>\n",
       "      <th>year</th>\n",
       "      <th>id_</th>\n",
       "      <th>wrkstat</th>\n",
       "      <th>hrs1</th>\n",
       "      <th>hrs2</th>\n",
       "      <th>evwork</th>\n",
       "      <th>wrkslf</th>\n",
       "      <th>marital</th>\n",
       "      <th>divorce</th>\n",
       "      <th>spwrksta</th>\n",
       "      <th>sphrs1</th>\n",
       "      <th>sphrs2</th>\n",
       "      <th>spevwork</th>\n",
       "      <th>spwrkslf</th>\n",
       "      <th>spocc10</th>\n",
       "      <th>spind10</th>\n",
       "      <th>degree</th>\n",
       "      <th>spdeg</th>\n",
       "      <th>ballot</th>\n",
       "    </tr>\n",
       "  </thead>\n",
       "  <tbody>\n",
       "    <tr>\n",
       "      <th>1640</th>\n",
       "      <td>1973.0</td>\n",
       "      <td>28.0</td>\n",
       "      <td>Part Time</td>\n",
       "      <td>27.0</td>\n",
       "      <td>27.0</td>\n",
       "      <td>NaN</td>\n",
       "      <td>Someone else</td>\n",
       "      <td>Married</td>\n",
       "      <td>YES</td>\n",
       "      <td>Illness/Vaction/Strike</td>\n",
       "      <td>NaN</td>\n",
       "      <td>73.0</td>\n",
       "      <td>NaN</td>\n",
       "      <td>Someone else</td>\n",
       "      <td>Driver/sales workers and truck drivers</td>\n",
       "      <td>Truck transportation</td>\n",
       "      <td>High school</td>\n",
       "      <td>Less than high school</td>\n",
       "      <td>NaN</td>\n",
       "    </tr>\n",
       "    <tr>\n",
       "      <th>1697</th>\n",
       "      <td>1973.0</td>\n",
       "      <td>85.0</td>\n",
       "      <td>Full Time</td>\n",
       "      <td>60.0</td>\n",
       "      <td>60.0</td>\n",
       "      <td>NaN</td>\n",
       "      <td>Self-employed</td>\n",
       "      <td>Married</td>\n",
       "      <td>YES</td>\n",
       "      <td>Keeping House</td>\n",
       "      <td>NaN</td>\n",
       "      <td>NaN</td>\n",
       "      <td>YES</td>\n",
       "      <td>Someone else</td>\n",
       "      <td>Nursing, psychiatric, and home health aides</td>\n",
       "      <td>Nursing care facilities</td>\n",
       "      <td>Less than high school</td>\n",
       "      <td>Less than high school</td>\n",
       "      <td>NaN</td>\n",
       "    </tr>\n",
       "    <tr>\n",
       "      <th>1720</th>\n",
       "      <td>1973.0</td>\n",
       "      <td>108.0</td>\n",
       "      <td>Full Time</td>\n",
       "      <td>50.0</td>\n",
       "      <td>50.0</td>\n",
       "      <td>NaN</td>\n",
       "      <td>Someone else</td>\n",
       "      <td>Married</td>\n",
       "      <td>YES</td>\n",
       "      <td>Keeping House</td>\n",
       "      <td>NaN</td>\n",
       "      <td>NaN</td>\n",
       "      <td>NO</td>\n",
       "      <td>NaN</td>\n",
       "      <td>NaN</td>\n",
       "      <td>NaN</td>\n",
       "      <td>High school</td>\n",
       "      <td>High school</td>\n",
       "      <td>NaN</td>\n",
       "    </tr>\n",
       "    <tr>\n",
       "      <th>1739</th>\n",
       "      <td>1973.0</td>\n",
       "      <td>127.0</td>\n",
       "      <td>Part Time</td>\n",
       "      <td>27.0</td>\n",
       "      <td>27.0</td>\n",
       "      <td>NaN</td>\n",
       "      <td>Self-employed</td>\n",
       "      <td>Married</td>\n",
       "      <td>YES</td>\n",
       "      <td>Full Time</td>\n",
       "      <td>50.0</td>\n",
       "      <td>NaN</td>\n",
       "      <td>NaN</td>\n",
       "      <td>Someone else</td>\n",
       "      <td>Mechanical engineers</td>\n",
       "      <td>Sporting and athletic goods, and doll, toy and...</td>\n",
       "      <td>High school</td>\n",
       "      <td>High school</td>\n",
       "      <td>NaN</td>\n",
       "    </tr>\n",
       "    <tr>\n",
       "      <th>1773</th>\n",
       "      <td>1973.0</td>\n",
       "      <td>161.0</td>\n",
       "      <td>Full Time</td>\n",
       "      <td>41.0</td>\n",
       "      <td>41.0</td>\n",
       "      <td>NaN</td>\n",
       "      <td>Someone else</td>\n",
       "      <td>Married</td>\n",
       "      <td>YES</td>\n",
       "      <td>Full Time</td>\n",
       "      <td>55.0</td>\n",
       "      <td>NaN</td>\n",
       "      <td>NaN</td>\n",
       "      <td>Someone else</td>\n",
       "      <td>First-line supervisors of retail sales workers</td>\n",
       "      <td>Automobile dealers</td>\n",
       "      <td>NaN</td>\n",
       "      <td>High school</td>\n",
       "      <td>NaN</td>\n",
       "    </tr>\n",
       "  </tbody>\n",
       "</table>\n",
       "</div>"
      ],
      "text/plain": [
       "        year    id_    wrkstat  hrs1  hrs2 evwork         wrkslf  marital  \\\n",
       "1640  1973.0   28.0  Part Time  27.0  27.0    NaN   Someone else  Married   \n",
       "1697  1973.0   85.0  Full Time  60.0  60.0    NaN  Self-employed  Married   \n",
       "1720  1973.0  108.0  Full Time  50.0  50.0    NaN   Someone else  Married   \n",
       "1739  1973.0  127.0  Part Time  27.0  27.0    NaN  Self-employed  Married   \n",
       "1773  1973.0  161.0  Full Time  41.0  41.0    NaN   Someone else  Married   \n",
       "\n",
       "     divorce                spwrksta  sphrs1  sphrs2 spevwork      spwrkslf  \\\n",
       "1640     YES  Illness/Vaction/Strike     NaN    73.0      NaN  Someone else   \n",
       "1697     YES           Keeping House     NaN     NaN      YES  Someone else   \n",
       "1720     YES           Keeping House     NaN     NaN       NO           NaN   \n",
       "1739     YES               Full Time    50.0     NaN      NaN  Someone else   \n",
       "1773     YES               Full Time    55.0     NaN      NaN  Someone else   \n",
       "\n",
       "                                             spocc10  \\\n",
       "1640          Driver/sales workers and truck drivers   \n",
       "1697     Nursing, psychiatric, and home health aides   \n",
       "1720                                             NaN   \n",
       "1739                            Mechanical engineers   \n",
       "1773  First-line supervisors of retail sales workers   \n",
       "\n",
       "                                                spind10  \\\n",
       "1640                               Truck transportation   \n",
       "1697                            Nursing care facilities   \n",
       "1720                                                NaN   \n",
       "1739  Sporting and athletic goods, and doll, toy and...   \n",
       "1773                                 Automobile dealers   \n",
       "\n",
       "                     degree                  spdeg ballot  \n",
       "1640            High school  Less than high school    NaN  \n",
       "1697  Less than high school  Less than high school    NaN  \n",
       "1720            High school            High school    NaN  \n",
       "1739            High school            High school    NaN  \n",
       "1773                    NaN            High school    NaN  "
      ]
     },
     "execution_count": 82,
     "metadata": {},
     "output_type": "execute_result"
    }
   ],
   "source": [
    "divorced_remarried_df = df.loc[df['marital'] == 'Married']\n",
    "divorced_remarried_df = divorced_remarried_df.loc[divorced_remarried_df['divorce'] == 'YES']\n",
    "divorced_remarried_df = divorced_remarried_df[divorced_remarried_df['hrs1'].notna()]\n",
    "divorced_remarried_df.head()"
   ]
  },
  {
   "cell_type": "markdown",
   "metadata": {},
   "source": [
    "#### always_single_df"
   ]
  },
  {
   "cell_type": "code",
   "execution_count": 83,
   "metadata": {},
   "outputs": [
    {
     "data": {
      "text/html": [
       "<div>\n",
       "<style scoped>\n",
       "    .dataframe tbody tr th:only-of-type {\n",
       "        vertical-align: middle;\n",
       "    }\n",
       "\n",
       "    .dataframe tbody tr th {\n",
       "        vertical-align: top;\n",
       "    }\n",
       "\n",
       "    .dataframe thead th {\n",
       "        text-align: right;\n",
       "    }\n",
       "</style>\n",
       "<table border=\"1\" class=\"dataframe\">\n",
       "  <thead>\n",
       "    <tr style=\"text-align: right;\">\n",
       "      <th></th>\n",
       "      <th>year</th>\n",
       "      <th>id_</th>\n",
       "      <th>wrkstat</th>\n",
       "      <th>hrs1</th>\n",
       "      <th>hrs2</th>\n",
       "      <th>evwork</th>\n",
       "      <th>wrkslf</th>\n",
       "      <th>marital</th>\n",
       "      <th>divorce</th>\n",
       "      <th>spwrksta</th>\n",
       "      <th>sphrs1</th>\n",
       "      <th>sphrs2</th>\n",
       "      <th>spevwork</th>\n",
       "      <th>spwrkslf</th>\n",
       "      <th>spocc10</th>\n",
       "      <th>spind10</th>\n",
       "      <th>degree</th>\n",
       "      <th>spdeg</th>\n",
       "      <th>ballot</th>\n",
       "    </tr>\n",
       "  </thead>\n",
       "  <tbody>\n",
       "    <tr>\n",
       "      <th>1620</th>\n",
       "      <td>1973.0</td>\n",
       "      <td>8.0</td>\n",
       "      <td>Full Time</td>\n",
       "      <td>35.0</td>\n",
       "      <td>35.0</td>\n",
       "      <td>NaN</td>\n",
       "      <td>Someone else</td>\n",
       "      <td>Never married</td>\n",
       "      <td>NaN</td>\n",
       "      <td>NaN</td>\n",
       "      <td>NaN</td>\n",
       "      <td>NaN</td>\n",
       "      <td>NaN</td>\n",
       "      <td>NaN</td>\n",
       "      <td>NaN</td>\n",
       "      <td>NaN</td>\n",
       "      <td>Bachelor's</td>\n",
       "      <td>NaN</td>\n",
       "      <td>NaN</td>\n",
       "    </tr>\n",
       "    <tr>\n",
       "      <th>1642</th>\n",
       "      <td>1973.0</td>\n",
       "      <td>30.0</td>\n",
       "      <td>Full Time</td>\n",
       "      <td>40.0</td>\n",
       "      <td>40.0</td>\n",
       "      <td>NaN</td>\n",
       "      <td>Someone else</td>\n",
       "      <td>Never married</td>\n",
       "      <td>NaN</td>\n",
       "      <td>NaN</td>\n",
       "      <td>NaN</td>\n",
       "      <td>NaN</td>\n",
       "      <td>NaN</td>\n",
       "      <td>NaN</td>\n",
       "      <td>NaN</td>\n",
       "      <td>NaN</td>\n",
       "      <td>High school</td>\n",
       "      <td>NaN</td>\n",
       "      <td>NaN</td>\n",
       "    </tr>\n",
       "    <tr>\n",
       "      <th>1659</th>\n",
       "      <td>1973.0</td>\n",
       "      <td>47.0</td>\n",
       "      <td>Full Time</td>\n",
       "      <td>50.0</td>\n",
       "      <td>50.0</td>\n",
       "      <td>NaN</td>\n",
       "      <td>Someone else</td>\n",
       "      <td>Never married</td>\n",
       "      <td>NaN</td>\n",
       "      <td>NaN</td>\n",
       "      <td>NaN</td>\n",
       "      <td>NaN</td>\n",
       "      <td>NaN</td>\n",
       "      <td>NaN</td>\n",
       "      <td>NaN</td>\n",
       "      <td>NaN</td>\n",
       "      <td>Bachelor's</td>\n",
       "      <td>NaN</td>\n",
       "      <td>NaN</td>\n",
       "    </tr>\n",
       "    <tr>\n",
       "      <th>1675</th>\n",
       "      <td>1973.0</td>\n",
       "      <td>63.0</td>\n",
       "      <td>Full Time</td>\n",
       "      <td>60.0</td>\n",
       "      <td>60.0</td>\n",
       "      <td>NaN</td>\n",
       "      <td>Someone else</td>\n",
       "      <td>Never married</td>\n",
       "      <td>NaN</td>\n",
       "      <td>NaN</td>\n",
       "      <td>NaN</td>\n",
       "      <td>NaN</td>\n",
       "      <td>NaN</td>\n",
       "      <td>NaN</td>\n",
       "      <td>NaN</td>\n",
       "      <td>NaN</td>\n",
       "      <td>High school</td>\n",
       "      <td>NaN</td>\n",
       "      <td>NaN</td>\n",
       "    </tr>\n",
       "    <tr>\n",
       "      <th>1682</th>\n",
       "      <td>1973.0</td>\n",
       "      <td>70.0</td>\n",
       "      <td>Full Time</td>\n",
       "      <td>40.0</td>\n",
       "      <td>40.0</td>\n",
       "      <td>NaN</td>\n",
       "      <td>Someone else</td>\n",
       "      <td>Never married</td>\n",
       "      <td>NaN</td>\n",
       "      <td>NaN</td>\n",
       "      <td>NaN</td>\n",
       "      <td>NaN</td>\n",
       "      <td>NaN</td>\n",
       "      <td>NaN</td>\n",
       "      <td>NaN</td>\n",
       "      <td>NaN</td>\n",
       "      <td>Less than high school</td>\n",
       "      <td>NaN</td>\n",
       "      <td>NaN</td>\n",
       "    </tr>\n",
       "  </tbody>\n",
       "</table>\n",
       "</div>"
      ],
      "text/plain": [
       "        year   id_    wrkstat  hrs1  hrs2 evwork        wrkslf        marital  \\\n",
       "1620  1973.0   8.0  Full Time  35.0  35.0    NaN  Someone else  Never married   \n",
       "1642  1973.0  30.0  Full Time  40.0  40.0    NaN  Someone else  Never married   \n",
       "1659  1973.0  47.0  Full Time  50.0  50.0    NaN  Someone else  Never married   \n",
       "1675  1973.0  63.0  Full Time  60.0  60.0    NaN  Someone else  Never married   \n",
       "1682  1973.0  70.0  Full Time  40.0  40.0    NaN  Someone else  Never married   \n",
       "\n",
       "     divorce spwrksta  sphrs1  sphrs2 spevwork spwrkslf spocc10 spind10  \\\n",
       "1620     NaN      NaN     NaN     NaN      NaN      NaN     NaN     NaN   \n",
       "1642     NaN      NaN     NaN     NaN      NaN      NaN     NaN     NaN   \n",
       "1659     NaN      NaN     NaN     NaN      NaN      NaN     NaN     NaN   \n",
       "1675     NaN      NaN     NaN     NaN      NaN      NaN     NaN     NaN   \n",
       "1682     NaN      NaN     NaN     NaN      NaN      NaN     NaN     NaN   \n",
       "\n",
       "                     degree spdeg ballot  \n",
       "1620             Bachelor's   NaN    NaN  \n",
       "1642            High school   NaN    NaN  \n",
       "1659             Bachelor's   NaN    NaN  \n",
       "1675            High school   NaN    NaN  \n",
       "1682  Less than high school   NaN    NaN  "
      ]
     },
     "execution_count": 83,
     "metadata": {},
     "output_type": "execute_result"
    }
   ],
   "source": [
    "always_single_df = single_df.loc[single_df['marital'] == 'Never married']\n",
    "always_single_df = always_single_df[always_single_df['hrs1'].notna()]\n",
    "always_single_df.head()"
   ]
  },
  {
   "cell_type": "markdown",
   "metadata": {},
   "source": [
    "#### divorced_df"
   ]
  },
  {
   "cell_type": "code",
   "execution_count": 84,
   "metadata": {},
   "outputs": [
    {
     "data": {
      "text/html": [
       "<div>\n",
       "<style scoped>\n",
       "    .dataframe tbody tr th:only-of-type {\n",
       "        vertical-align: middle;\n",
       "    }\n",
       "\n",
       "    .dataframe tbody tr th {\n",
       "        vertical-align: top;\n",
       "    }\n",
       "\n",
       "    .dataframe thead th {\n",
       "        text-align: right;\n",
       "    }\n",
       "</style>\n",
       "<table border=\"1\" class=\"dataframe\">\n",
       "  <thead>\n",
       "    <tr style=\"text-align: right;\">\n",
       "      <th></th>\n",
       "      <th>year</th>\n",
       "      <th>id_</th>\n",
       "      <th>wrkstat</th>\n",
       "      <th>hrs1</th>\n",
       "      <th>hrs2</th>\n",
       "      <th>evwork</th>\n",
       "      <th>wrkslf</th>\n",
       "      <th>marital</th>\n",
       "      <th>divorce</th>\n",
       "      <th>spwrksta</th>\n",
       "      <th>sphrs1</th>\n",
       "      <th>sphrs2</th>\n",
       "      <th>spevwork</th>\n",
       "      <th>spwrkslf</th>\n",
       "      <th>spocc10</th>\n",
       "      <th>spind10</th>\n",
       "      <th>degree</th>\n",
       "      <th>spdeg</th>\n",
       "      <th>ballot</th>\n",
       "    </tr>\n",
       "  </thead>\n",
       "  <tbody>\n",
       "    <tr>\n",
       "      <th>1640</th>\n",
       "      <td>1973.0</td>\n",
       "      <td>28.0</td>\n",
       "      <td>Part Time</td>\n",
       "      <td>27.0</td>\n",
       "      <td>27.0</td>\n",
       "      <td>NaN</td>\n",
       "      <td>Someone else</td>\n",
       "      <td>Married</td>\n",
       "      <td>YES</td>\n",
       "      <td>Illness/Vaction/Strike</td>\n",
       "      <td>NaN</td>\n",
       "      <td>73.0</td>\n",
       "      <td>NaN</td>\n",
       "      <td>Someone else</td>\n",
       "      <td>Driver/sales workers and truck drivers</td>\n",
       "      <td>Truck transportation</td>\n",
       "      <td>High school</td>\n",
       "      <td>Less than high school</td>\n",
       "      <td>NaN</td>\n",
       "    </tr>\n",
       "    <tr>\n",
       "      <th>1697</th>\n",
       "      <td>1973.0</td>\n",
       "      <td>85.0</td>\n",
       "      <td>Full Time</td>\n",
       "      <td>60.0</td>\n",
       "      <td>60.0</td>\n",
       "      <td>NaN</td>\n",
       "      <td>Self-employed</td>\n",
       "      <td>Married</td>\n",
       "      <td>YES</td>\n",
       "      <td>Keeping House</td>\n",
       "      <td>NaN</td>\n",
       "      <td>NaN</td>\n",
       "      <td>YES</td>\n",
       "      <td>Someone else</td>\n",
       "      <td>Nursing, psychiatric, and home health aides</td>\n",
       "      <td>Nursing care facilities</td>\n",
       "      <td>Less than high school</td>\n",
       "      <td>Less than high school</td>\n",
       "      <td>NaN</td>\n",
       "    </tr>\n",
       "    <tr>\n",
       "      <th>1720</th>\n",
       "      <td>1973.0</td>\n",
       "      <td>108.0</td>\n",
       "      <td>Full Time</td>\n",
       "      <td>50.0</td>\n",
       "      <td>50.0</td>\n",
       "      <td>NaN</td>\n",
       "      <td>Someone else</td>\n",
       "      <td>Married</td>\n",
       "      <td>YES</td>\n",
       "      <td>Keeping House</td>\n",
       "      <td>NaN</td>\n",
       "      <td>NaN</td>\n",
       "      <td>NO</td>\n",
       "      <td>NaN</td>\n",
       "      <td>NaN</td>\n",
       "      <td>NaN</td>\n",
       "      <td>High school</td>\n",
       "      <td>High school</td>\n",
       "      <td>NaN</td>\n",
       "    </tr>\n",
       "    <tr>\n",
       "      <th>1739</th>\n",
       "      <td>1973.0</td>\n",
       "      <td>127.0</td>\n",
       "      <td>Part Time</td>\n",
       "      <td>27.0</td>\n",
       "      <td>27.0</td>\n",
       "      <td>NaN</td>\n",
       "      <td>Self-employed</td>\n",
       "      <td>Married</td>\n",
       "      <td>YES</td>\n",
       "      <td>Full Time</td>\n",
       "      <td>50.0</td>\n",
       "      <td>NaN</td>\n",
       "      <td>NaN</td>\n",
       "      <td>Someone else</td>\n",
       "      <td>Mechanical engineers</td>\n",
       "      <td>Sporting and athletic goods, and doll, toy and...</td>\n",
       "      <td>High school</td>\n",
       "      <td>High school</td>\n",
       "      <td>NaN</td>\n",
       "    </tr>\n",
       "    <tr>\n",
       "      <th>1773</th>\n",
       "      <td>1973.0</td>\n",
       "      <td>161.0</td>\n",
       "      <td>Full Time</td>\n",
       "      <td>41.0</td>\n",
       "      <td>41.0</td>\n",
       "      <td>NaN</td>\n",
       "      <td>Someone else</td>\n",
       "      <td>Married</td>\n",
       "      <td>YES</td>\n",
       "      <td>Full Time</td>\n",
       "      <td>55.0</td>\n",
       "      <td>NaN</td>\n",
       "      <td>NaN</td>\n",
       "      <td>Someone else</td>\n",
       "      <td>First-line supervisors of retail sales workers</td>\n",
       "      <td>Automobile dealers</td>\n",
       "      <td>NaN</td>\n",
       "      <td>High school</td>\n",
       "      <td>NaN</td>\n",
       "    </tr>\n",
       "  </tbody>\n",
       "</table>\n",
       "</div>"
      ],
      "text/plain": [
       "        year    id_    wrkstat  hrs1  hrs2 evwork         wrkslf  marital  \\\n",
       "1640  1973.0   28.0  Part Time  27.0  27.0    NaN   Someone else  Married   \n",
       "1697  1973.0   85.0  Full Time  60.0  60.0    NaN  Self-employed  Married   \n",
       "1720  1973.0  108.0  Full Time  50.0  50.0    NaN   Someone else  Married   \n",
       "1739  1973.0  127.0  Part Time  27.0  27.0    NaN  Self-employed  Married   \n",
       "1773  1973.0  161.0  Full Time  41.0  41.0    NaN   Someone else  Married   \n",
       "\n",
       "     divorce                spwrksta  sphrs1  sphrs2 spevwork      spwrkslf  \\\n",
       "1640     YES  Illness/Vaction/Strike     NaN    73.0      NaN  Someone else   \n",
       "1697     YES           Keeping House     NaN     NaN      YES  Someone else   \n",
       "1720     YES           Keeping House     NaN     NaN       NO           NaN   \n",
       "1739     YES               Full Time    50.0     NaN      NaN  Someone else   \n",
       "1773     YES               Full Time    55.0     NaN      NaN  Someone else   \n",
       "\n",
       "                                             spocc10  \\\n",
       "1640          Driver/sales workers and truck drivers   \n",
       "1697     Nursing, psychiatric, and home health aides   \n",
       "1720                                             NaN   \n",
       "1739                            Mechanical engineers   \n",
       "1773  First-line supervisors of retail sales workers   \n",
       "\n",
       "                                                spind10  \\\n",
       "1640                               Truck transportation   \n",
       "1697                            Nursing care facilities   \n",
       "1720                                                NaN   \n",
       "1739  Sporting and athletic goods, and doll, toy and...   \n",
       "1773                                 Automobile dealers   \n",
       "\n",
       "                     degree                  spdeg ballot  \n",
       "1640            High school  Less than high school    NaN  \n",
       "1697  Less than high school  Less than high school    NaN  \n",
       "1720            High school            High school    NaN  \n",
       "1739            High school            High school    NaN  \n",
       "1773                    NaN            High school    NaN  "
      ]
     },
     "execution_count": 84,
     "metadata": {},
     "output_type": "execute_result"
    }
   ],
   "source": [
    "divorced_df = df.loc[df['divorce'] == 'YES']\n",
    "divorced_df = divorced_df[divorced_df['hrs1'].notna()]\n",
    "divorced_df.head()"
   ]
  },
  {
   "cell_type": "markdown",
   "metadata": {},
   "source": [
    "## Data Visualization"
   ]
  },
  {
   "cell_type": "code",
   "execution_count": 85,
   "metadata": {
    "colab": {
     "base_uri": "https://localhost:8080/",
     "height": 430
    },
    "id": "kT62ndN8D4q-",
    "outputId": "badbd753-7267-41ba-fd0c-f4649d42b5d4"
   },
   "outputs": [
    {
     "data": {
      "image/png": "[encoded data removed]",
      "text/plain": [
       "<Figure size 432x288 with 1 Axes>"
      ]
     },
     "metadata": {
      "needs_background": "light"
     },
     "output_type": "display_data"
    }
   ],
   "source": [
    "sns.boxplot(data=married_df, y='hrs1')\n",
    "plt.show()"
   ]
  },
  {
   "cell_type": "code",
   "execution_count": 86,
   "metadata": {},
   "outputs": [
    {
     "data": {
      "image/png": "[encoded data removed]",
      "text/plain": [
       "<Figure size 432x288 with 1 Axes>"
      ]
     },
     "metadata": {
      "needs_background": "light"
     },
     "output_type": "display_data"
    }
   ],
   "source": [
    "sns.boxplot(data=single_df, y=\"hrs1\")\n",
    "plt.show()"
   ]
  },
  {
   "cell_type": "code",
   "execution_count": 87,
   "metadata": {
    "colab": {
     "base_uri": "https://localhost:8080/",
     "height": 430
    },
    "id": "xQOsg_RQIhx7",
    "outputId": "e723d457-f651-4fe5-eb49-ed4c40fae42e"
   },
   "outputs": [
    {
     "data": {
      "image/png": "[encoded data removed]",
      "text/plain": [
       "<Figure size 432x288 with 1 Axes>"
      ]
     },
     "metadata": {
      "needs_background": "light"
     },
     "output_type": "display_data"
    }
   ],
   "source": [
    "sns.boxplot(data=divorced_single_df, y=\"hrs1\")\n",
    "plt.show()"
   ]
  },
  {
   "cell_type": "code",
   "execution_count": 88,
   "metadata": {
    "colab": {
     "base_uri": "https://localhost:8080/",
     "height": 430
    },
    "id": "oCqQR-pPJGZo",
    "outputId": "860beeae-db52-4e38-ee45-7b0b56ebfc61"
   },
   "outputs": [
    {
     "data": {
      "image/png": "[encoded data removed]",
      "text/plain": [
       "<Figure size 432x288 with 1 Axes>"
      ]
     },
     "metadata": {
      "needs_background": "light"
     },
     "output_type": "display_data"
    }
   ],
   "source": [
    "sns.boxplot(data=always_single_df, y='hrs1')\n",
    "plt.show()"
   ]
  },
  {
   "cell_type": "code",
   "execution_count": 89,
   "metadata": {
    "colab": {
     "base_uri": "https://localhost:8080/",
     "height": 430
    },
    "id": "UkuCl_i1Jn67",
    "outputId": "69499386-3375-436e-e5c3-05504deccc69"
   },
   "outputs": [
    {
     "data": {
      "image/png": "[encoded data removed]",
      "text/plain": [
       "<Figure size 432x288 with 1 Axes>"
      ]
     },
     "metadata": {
      "needs_background": "light"
     },
     "output_type": "display_data"
    }
   ],
   "source": [
    "sns.boxplot(data=divorced_remarried_df, y='hrs1')\n",
    "plt.show()"
   ]
  },
  {
   "cell_type": "code",
   "execution_count": 90,
   "metadata": {
    "colab": {
     "base_uri": "https://localhost:8080/",
     "height": 430
    },
    "id": "rtbCQBwaLwka",
    "outputId": "817eb085-5200-462c-9543-8a1912ccc48c"
   },
   "outputs": [
    {
     "data": {
      "image/png": "[encoded data removed]",
      "text/plain": [
       "<Figure size 432x288 with 1 Axes>"
      ]
     },
     "metadata": {
      "needs_background": "light"
     },
     "output_type": "display_data"
    }
   ],
   "source": [
    "sns.boxplot(data=divorced_df, y='hrs1')\n",
    "plt.show()"
   ]
  },
  {
   "cell_type": "code",
   "execution_count": 91,
   "metadata": {
    "colab": {
     "base_uri": "https://localhost:8080/",
     "height": 466
    },
    "id": "_vzshrrbMrZE",
    "outputId": "07727b9a-7cfe-4cbc-9d73-cc52261c55d3"
   },
   "outputs": [
    {
     "data": {
      "image/png": "[encoded data removed]",
      "text/plain": [
       "<Figure size 432x288 with 1 Axes>"
      ]
     },
     "metadata": {
      "needs_background": "light"
     },
     "output_type": "display_data"
    }
   ],
   "source": [
    "sns.scatterplot(data = df_usable, x = 'hrs1', y='sphrs1')\n",
    "plt.show()"
   ]
  },
  {
   "cell_type": "code",
   "execution_count": 92,
   "metadata": {
    "colab": {
     "base_uri": "https://localhost:8080/",
     "height": 523
    },
    "id": "vW0XP1VZOQnv",
    "outputId": "ee158136-f709-4e27-d0cd-3111344f05e9"
   },
   "outputs": [
    {
     "data": {
      "image/png": "[encoded data removed]",
      "text/plain": [
       "<Figure size 414.5x360 with 1 Axes>"
      ]
     },
     "metadata": {
      "needs_background": "light"
     },
     "output_type": "display_data"
    }
   ],
   "source": [
    "sns.lmplot(data=df_usable, x=\"hrs1\", y=\"sphrs1\", hue = \"divorce\", scatter = False)\n",
    "plt.show()"
   ]
  },
  {
   "cell_type": "code",
   "execution_count": 93,
   "metadata": {
    "colab": {
     "base_uri": "https://localhost:8080/",
     "height": 466
    },
    "id": "0dqPizelfdEq",
    "outputId": "aadfe96f-436b-48e8-84ae-64bdcd344646"
   },
   "outputs": [
    {
     "data": {
      "image/png": "[encoded data removed]",
      "text/plain": [
       "<Figure size 432x288 with 1 Axes>"
      ]
     },
     "metadata": {
      "needs_background": "light"
     },
     "output_type": "display_data"
    }
   ],
   "source": [
    "x, y, hue = \"degree\", \"proportion\", \"marital\"\n",
    "\n",
    "(df[x]\n",
    " .groupby(df[hue])\n",
    " .value_counts(normalize=True)\n",
    " .rename(y)\n",
    " .reset_index()\n",
    " .pipe((sns.barplot, \"data\"), x=x, y=y, hue=hue))\n",
    "plt.show()"
   ]
  },
  {
   "cell_type": "code",
   "execution_count": 94,
   "metadata": {
    "colab": {
     "base_uri": "https://localhost:8080/",
     "height": 467
    },
    "id": "gveKmmjomxT0",
    "outputId": "e0950055-928b-491c-890e-5ef2308de1e8"
   },
   "outputs": [
    {
     "data": {
      "image/png": "[encoded data removed]",
      "text/plain": [
       "<Figure size 432x288 with 1 Axes>"
      ]
     },
     "metadata": {
      "needs_background": "light"
     },
     "output_type": "display_data"
    }
   ],
   "source": [
    "sns.barplot(data = df, x = 'degree', y = 'hrs1', hue = 'marital')\n",
    "plt.show()"
   ]
  },
  {
   "cell_type": "code",
   "execution_count": 95,
   "metadata": {
    "colab": {
     "base_uri": "https://localhost:8080/",
     "height": 466
    },
    "id": "QE7-2OPRo7YT",
    "outputId": "b8d84589-6c6d-4940-b9d4-8df9d69ba8f8"
   },
   "outputs": [
    {
     "data": {
      "image/png": "[encoded data removed]",
      "text/plain": [
       "<Figure size 432x288 with 1 Axes>"
      ]
     },
     "metadata": {
      "needs_background": "light"
     },
     "output_type": "display_data"
    }
   ],
   "source": [
    "sns.barplot(data = married_df, x = 'degree', y = 'sphrs1', hue = 'marital')\n",
    "plt.show()"
   ]
  }
 ],
 "metadata": {
  "colab": {
   "authorship_tag": "ABX9TyPdMQQPf5vDWPE0TVkj0XYP",
   "include_colab_link": true,
   "provenance": []
  },
  "kernelspec": {
   "display_name": "Python 3",
   "language": "python",
   "name": "python3"
  },
  "language_info": {
   "codemirror_mode": {
    "name": "ipython",
    "version": 3
   },
   "file_extension": ".py",
   "mimetype": "text/x-python",
   "name": "python",
   "nbconvert_exporter": "python",
   "pygments_lexer": "ipython3",
   "version": "3.8.8"
  }
 },
 "nbformat": 4,
 "nbformat_minor": 4
}
